{
 "cells": [
  {
   "cell_type": "markdown",
   "id": "f23d3279-3c37-4d84-af18-a8f6ded16fb0",
   "metadata": {},
   "source": [
    "# Response Times"
   ]
  },
  {
   "cell_type": "code",
   "execution_count": 13,
   "id": "9019d6e3-fc38-452e-b58e-c642ccf88937",
   "metadata": {},
   "outputs": [
    {
     "data": {
      "text/plain": [
       "<grass.jupyter.setup._JupyterGlobalSession at 0x7efe7326baf0>"
      ]
     },
     "execution_count": 13,
     "metadata": {},
     "output_type": "execute_result"
    }
   ],
   "source": [
    "# Import Python standard library and IPython packages we need.\n",
    "import os\n",
    "import subprocess\n",
    "import sys\n",
    "import csv\n",
    "import numpy as np\n",
    "import matplotlib.pyplot as plt\n",
    "from collections import defaultdict\n",
    "from pprint import pprint\n",
    "import json\n",
    "import time\n",
    "import requests\n",
    "import statistics\n",
    "from requests.auth import HTTPBasicAuth\n",
    "\n",
    "# Ask GRASS GIS where its Python packages are.\n",
    "gisbase = subprocess.check_output([\"grass\", \"--config\", \"path\"], text=True).strip()\n",
    "os.environ[\"GISBASE\"] = gisbase\n",
    "os.environ[\"ACTINIA_USER\"] = 'actinia-gdi'\n",
    "os.environ[\"ACTINIA_PASSWORD\"] = 'actinia-gdi'\n",
    "os.environ[\"AUTH\"] = 'actinia-gdi:actinia-gdi'\n",
    "os.environ[\"ACTINIA_URL\"] = 'http://localhost:8088'\n",
    "\n",
    "ACTINIA_VERSION = 'v3'\n",
    "ACTINIA_BASEURL = 'http://localhost:8088'\n",
    "ACTINIA_URL = ACTINIA_BASEURL + \"/api/\" + ACTINIA_VERSION\n",
    "ACTINIA_AUTH = HTTPBasicAuth(\"actinia-gdi\", \"actinia-gdi\")\n",
    "sys.path.append(os.path.join(gisbase, \"etc\", \"python\"))\n",
    "\n",
    "# Import the GRASS GIS packages we need.\n",
    "import grass.script as gs\n",
    "import grass.jupyter as gj\n",
    "\n",
    "# Start GRASS Session\n",
    "## Set your grass data location\n",
    "gj.init(\"../actinia-core-data/grassdb\", \"nc_spm_08\", \"PERMANENT\")"
   ]
  },
  {
   "cell_type": "markdown",
   "id": "ae0723f4-37cd-4e17-a78d-5f1d081f5335",
   "metadata": {},
   "source": [
    "## Setup"
   ]
  },
  {
   "cell_type": "code",
   "execution_count": 37,
   "id": "78b4d227-c835-4cfd-aab3-16541e962e69",
   "metadata": {
    "tags": []
   },
   "outputs": [],
   "source": [
    "samples=400"
   ]
  },
  {
   "cell_type": "markdown",
   "id": "5bbcc3f3-9076-48d6-b86a-cae281aa0ddc",
   "metadata": {},
   "source": [
    "## Baseline - r.info test"
   ]
  },
  {
   "cell_type": "markdown",
   "id": "624b8804-06cb-474c-84c3-933cda808821",
   "metadata": {},
   "source": [
    "The base line test runs each command 100 times"
   ]
  },
  {
   "cell_type": "markdown",
   "id": "7319c9d5-377b-4981-95c8-aabc3a613460",
   "metadata": {},
   "source": [
    "### GRASS (19 ms)"
   ]
  },
  {
   "cell_type": "code",
   "execution_count": 38,
   "id": "0f048905-8ac8-4dfe-8ae1-7ea3d3e0567c",
   "metadata": {},
   "outputs": [
    {
     "name": "stdout",
     "output_type": "stream",
     "text": [
      "Median: 0.19030392169952393\n"
     ]
    }
   ],
   "source": [
    "\n",
    "time_log = []\n",
    "for i in range(samples):\n",
    "    start_time = time.time()\n",
    "    !r.info elevation -gre >/dev/null 2>&1\n",
    "    end_time = time.time()\n",
    "    run_time = end_time - start_time\n",
    "    time_log.append(run_time)\n",
    "\n",
    "\n",
    "print(f\"Median: {statistics.median(time_log)}\")"
   ]
  },
  {
   "cell_type": "markdown",
   "id": "5f8bd0fe-bdee-49cd-bf9a-d844bdf293bb",
   "metadata": {},
   "source": [
    "### Actinia"
   ]
  },
  {
   "cell_type": "markdown",
   "id": "c31deb7d-1c9c-4691-91d2-0dbda0d39105",
   "metadata": {},
   "source": [
    "#### No-Cache"
   ]
  },
  {
   "cell_type": "code",
   "execution_count": null,
   "id": "69f84f42-c30e-4e6f-b789-c1e28236ba92",
   "metadata": {},
   "outputs": [],
   "source": [
    "time_log = []\n",
    "for i in range(samples):\n",
    "    # !curl -u 'actinia-gdi:actinia-gdi' -X DELETE \"http://localhost:8088/api/v3/download_cache\" | jq\n",
    "    start_time = time.time()\n",
    "    !curl -u 'actinia-gdi:actinia-gdi' -X GET \"http://localhost:8088/api/v3/locations/nc_spm_08/mapsets/PERMANENT/raster_layers/elevation\" >/dev/null 2>&1\n",
    "    end_time = time.time()\n",
    "    run_time = end_time - start_time\n",
    "    time_log.append(run_time)\n",
    "\n",
    "\n",
    "print(time_log)\n",
    "print(f\"Median: {statistics.median(time_log)}\")\n",
    "\n"
   ]
  },
  {
   "cell_type": "markdown",
   "id": "5d48184a-edf3-4ee3-9a81-50a52ef31258",
   "metadata": {},
   "source": [
    "#### Cached (63 ms)"
   ]
  },
  {
   "cell_type": "code",
   "execution_count": 36,
   "id": "c6aaad93-fc79-46bc-9c2e-bebe61da883c",
   "metadata": {},
   "outputs": [
    {
     "name": "stdout",
     "output_type": "stream",
     "text": [
      "Median: 0.6288026571273804\n"
     ]
    }
   ],
   "source": [
    "time_log = []\n",
    "for i in range(samples):\n",
    "    # !curl -u 'actinia-gdi:actinia-gdi' -X DELETE \"http://localhost:8088/api/v3/download_cache\" | jq\n",
    "    start_time = time.time()\n",
    "    !curl -u 'actinia-gdi:actinia-gdi' -X GET \"http://localhost:8088/api/v3/locations/nc_spm_08/mapsets/PERMANENT/raster_layers/elevation\">/dev/null 2>&1\n",
    "    end_time = time.time()\n",
    "    run_time = end_time - start_time\n",
    "    time_log.append(run_time)\n",
    "\n",
    "print(f\"Median: {statistics.median(time_log)}\")\n"
   ]
  },
  {
   "cell_type": "markdown",
   "id": "5c7f025d-f041-469b-96b0-8bed5077832a",
   "metadata": {},
   "source": [
    "### OpenPlains"
   ]
  },
  {
   "cell_type": "markdown",
   "id": "081f634e-4f35-4136-9dce-5a8432ceafea",
   "metadata": {},
   "source": [
    "#### Actinia (cached) OpenPlains No-Cache (66 ms)"
   ]
  },
  {
   "cell_type": "code",
   "execution_count": 34,
   "id": "7b1851ae-647f-4923-99e9-03a045ffdeeb",
   "metadata": {},
   "outputs": [
    {
     "name": "stdout",
     "output_type": "stream",
     "text": [
      "Median: 0.6593670845031738\n"
     ]
    }
   ],
   "source": [
    "time_log = []\n",
    "for i in range(samples):\n",
    "    start_time = time.time()\n",
    "    !curl -X GET \"http://localhost:8005/savana/r/locations/nc_spm_08/mapsets/PERMANENT/raster_layers/elevation/no_cache\">/dev/null 2>&1\n",
    "    end_time = time.time()\n",
    "    run_time = end_time - start_time\n",
    "    time_log.append(run_time)\n",
    "\n",
    "\n",
    "# print(time_log)\n",
    "print(f\"Median: {statistics.median(time_log)}\")"
   ]
  },
  {
   "cell_type": "markdown",
   "id": "76ff1e64-094f-4147-9402-08a715baf38d",
   "metadata": {},
   "source": [
    "#### Cached (21 ms)"
   ]
  },
  {
   "cell_type": "code",
   "execution_count": 35,
   "id": "8a1e2090-530a-4eb3-aa23-a6f3b7fe9911",
   "metadata": {},
   "outputs": [
    {
     "name": "stdout",
     "output_type": "stream",
     "text": [
      "Median: 0.21401607990264893\n"
     ]
    }
   ],
   "source": [
    "time_log = []\n",
    "for i in range(samples):\n",
    "    start_time = time.time()\n",
    "    # Don't print curl response\n",
    "    !curl -X GET \"http://localhost:8005/savana/r/locations/nc_spm_08/mapsets/PERMANENT/raster_layers/elevation\" >/dev/null 2>&1\n",
    "    end_time = time.time()\n",
    "    run_time = end_time - start_time\n",
    "    time_log.append(run_time)\n",
    "\n",
    "\n",
    "# print(time_log)\n",
    "print(f\"Median: {statistics.median(time_log)}\")"
   ]
  },
  {
   "cell_type": "code",
   "execution_count": null,
   "id": "74361222-f9d0-4a4e-bb34-90fac5962b76",
   "metadata": {},
   "outputs": [],
   "source": []
  }
 ],
 "metadata": {
  "kernelspec": {
   "display_name": "Python 3 (ipykernel)",
   "language": "python",
   "name": "python3"
  },
  "language_info": {
   "codemirror_mode": {
    "name": "ipython",
    "version": 3
   },
   "file_extension": ".py",
   "mimetype": "text/x-python",
   "name": "python",
   "nbconvert_exporter": "python",
   "pygments_lexer": "ipython3",
   "version": "3.10.6"
  }
 },
 "nbformat": 4,
 "nbformat_minor": 5
}
