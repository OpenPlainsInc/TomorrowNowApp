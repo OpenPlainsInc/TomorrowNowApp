{
 "cells": [
  {
   "cell_type": "code",
   "execution_count": 1,
   "id": "acc11fd0-613e-4f03-af70-1302a5aaa450",
   "metadata": {},
   "outputs": [
    {
     "data": {
      "text/plain": [
       "<grass.jupyter.setup._JupyterGlobalSession at 0x7f7f90d6f6a0>"
      ]
     },
     "execution_count": 1,
     "metadata": {},
     "output_type": "execute_result"
    }
   ],
   "source": [
    "# Import Python standard library and IPython packages we need.\n",
    "import os\n",
    "import subprocess\n",
    "import sys\n",
    "import csv\n",
    "import numpy as np\n",
    "import matplotlib.pyplot as plt\n",
    "from collections import defaultdict\n",
    "from pprint import pprint\n",
    "import json\n",
    "import time\n",
    "import requests\n",
    "from requests.auth import HTTPBasicAuth\n",
    "\n",
    "# Ask GRASS GIS where its Python packages are.\n",
    "gisbase = subprocess.check_output([\"grass\", \"--config\", \"path\"], text=True).strip()\n",
    "os.environ[\"GISBASE\"] = gisbase\n",
    "os.environ[\"ACTINIA_USER\"] = 'actinia-gdi'\n",
    "os.environ[\"ACTINIA_PASSWORD\"] = 'actinia-gdi'\n",
    "os.environ[\"AUTH\"] = 'actinia-gdi:actinia-gdi'\n",
    "os.environ[\"ACTINIA_URL\"] = 'http://localhost:8088'\n",
    "\n",
    "ACTINIA_VERSION = 'v3'\n",
    "ACTINIA_BASEURL = 'http://localhost:8088'\n",
    "ACTINIA_URL = ACTINIA_BASEURL + \"/api/\" + ACTINIA_VERSION\n",
    "ACTINIA_AUTH = HTTPBasicAuth(\"actinia-gdi\", \"actinia-gdi\")\n",
    "sys.path.append(os.path.join(gisbase, \"etc\", \"python\"))\n",
    "\n",
    "# Import the GRASS GIS packages we need.\n",
    "import grass.script as gs\n",
    "import grass.jupyter as gj\n",
    "\n",
    "# Start GRASS Session\n",
    "## Set your grass data location\n",
    "gj.init(\"../actinia-core-data/grassdb\", \"nc_spm_08\", \"PERMANENT\")"
   ]
  },
  {
   "cell_type": "markdown",
   "id": "8acf5f47-9a97-464e-981c-2b9d14c4d802",
   "metadata": {},
   "source": [
    "# Actinia STAC Managment"
   ]
  },
  {
   "cell_type": "markdown",
   "id": "8969ff17-9428-42d0-934a-8a135fe03173",
   "metadata": {},
   "source": [
    "Acinita is able to consume public and private Spatial Temporal Asset Catalogs (STAC)"
   ]
  },
  {
   "cell_type": "markdown",
   "id": "475e588a-cbc9-4876-a24f-6f0fa4e4773a",
   "metadata": {},
   "source": [
    "## View STAC instances\n",
    "\n",
    "Two Actinia routes seem to accomplish this task"
   ]
  },
  {
   "cell_type": "markdown",
   "id": "92d7bf03-5985-4bd3-89b4-d3c39748bd53",
   "metadata": {},
   "source": [
    "### /stac"
   ]
  },
  {
   "cell_type": "code",
   "execution_count": 2,
   "id": "f09a62d8-73b1-4397-8456-1a68411dda13",
   "metadata": {},
   "outputs": [
    {
     "name": "stdout",
     "output_type": "stream",
     "text": [
      "  % Total    % Received % Xferd  Average Speed   Time    Time     Time  Current\n",
      "                                 Dload  Upload   Total   Spent    Left  Speed\n",
      "100   232  100   232    0     0  79779      0 --:--:-- --:--:-- --:--:--  113k\n",
      "parse error: Invalid numeric literal at line 1, column 10\n"
     ]
    }
   ],
   "source": [
    "!curl -u 'actinia-gdi:actinia-gdi' -X GET \"http://localhost:8088/api/v3/stac\" | jq"
   ]
  },
  {
   "cell_type": "markdown",
   "id": "edafe9d1-6ac9-4a61-b5cf-66a15f07cdb6",
   "metadata": {},
   "source": [
    "### /stac/instances"
   ]
  },
  {
   "cell_type": "code",
   "execution_count": 1,
   "id": "a0ff8f3d-3450-44f8-9b15-99e1947da6e5",
   "metadata": {},
   "outputs": [
    {
     "name": "stdout",
     "output_type": "stream",
     "text": [
      "  % Total    % Received % Xferd  Average Speed   Time    Time     Time  Current\n",
      "                                 Dload  Upload   Total   Spent    Left  Speed\n",
      "100   398  100   398    0     0   1322      0 --:--:-- --:--:-- --:--:--  1322\n",
      "\u001b[1;39m{\n",
      "  \u001b[0m\u001b[34;1m\"defaultStac\"\u001b[0m\u001b[1;39m: \u001b[0m\u001b[1;39m{\n",
      "    \u001b[0m\u001b[34;1m\"path\"\u001b[0m\u001b[1;39m: \u001b[0m\u001b[0;32m\"stac.defaultStac.rastercube.<stac_collection_id>\"\u001b[0m\u001b[1;39m\n",
      "  \u001b[1;39m}\u001b[0m\u001b[1;39m,\n",
      "  \u001b[0m\u001b[34;1m\"gee\"\u001b[0m\u001b[1;39m: \u001b[0m\u001b[1;39m{\n",
      "    \u001b[0m\u001b[34;1m\"path\"\u001b[0m\u001b[1;39m: \u001b[0m\u001b[0;32m\"stac.gee.rastercube.<stac_collection_id>\"\u001b[0m\u001b[1;39m\n",
      "  \u001b[1;39m}\u001b[0m\u001b[1;39m,\n",
      "  \u001b[0m\u001b[34;1m\"naip\"\u001b[0m\u001b[1;39m: \u001b[0m\u001b[1;39m{\n",
      "    \u001b[0m\u001b[34;1m\"path\"\u001b[0m\u001b[1;39m: \u001b[0m\u001b[0;32m\"stac.naip.rastercube.<stac_collection_id>\"\u001b[0m\u001b[1;39m\n",
      "  \u001b[1;39m}\u001b[0m\u001b[1;39m,\n",
      "  \u001b[0m\u001b[34;1m\"opentopography\"\u001b[0m\u001b[1;39m: \u001b[0m\u001b[1;39m{\n",
      "    \u001b[0m\u001b[34;1m\"path\"\u001b[0m\u001b[1;39m: \u001b[0m\u001b[0;32m\"stac.opentopography.rastercube.<stac_collection_id>\"\u001b[0m\u001b[1;39m\n",
      "  \u001b[1;39m}\u001b[0m\u001b[1;39m,\n",
      "  \u001b[0m\u001b[34;1m\"planet\"\u001b[0m\u001b[1;39m: \u001b[0m\u001b[1;39m{\n",
      "    \u001b[0m\u001b[34;1m\"path\"\u001b[0m\u001b[1;39m: \u001b[0m\u001b[0;32m\"stac.planet.rastercube.<stac_collection_id>\"\u001b[0m\u001b[1;39m\n",
      "  \u001b[1;39m}\u001b[0m\u001b[1;39m,\n",
      "  \u001b[0m\u001b[34;1m\"usgs\"\u001b[0m\u001b[1;39m: \u001b[0m\u001b[1;39m{\n",
      "    \u001b[0m\u001b[34;1m\"path\"\u001b[0m\u001b[1;39m: \u001b[0m\u001b[0;32m\"stac.usgs.rastercube.<stac_collection_id>\"\u001b[0m\u001b[1;39m\n",
      "  \u001b[1;39m}\u001b[0m\u001b[1;39m\n",
      "\u001b[1;39m}\u001b[0m\n"
     ]
    }
   ],
   "source": [
    "!curl -u 'actinia-gdi:actinia-gdi' -X GET \"http://localhost:8088/api/v3/stac/instances\" | jq"
   ]
  },
  {
   "cell_type": "markdown",
   "id": "36a4c4c2-25c8-4c4c-8bbb-c2327fcb83e7",
   "metadata": {},
   "source": [
    "## View STAC Catalogs"
   ]
  },
  {
   "cell_type": "markdown",
   "id": "07429804-a088-462a-8c0f-91908ba26c2f",
   "metadata": {},
   "source": [
    "### /stac/catalogs/catalog.json"
   ]
  },
  {
   "cell_type": "code",
   "execution_count": 2,
   "id": "5353dc88-2833-4ef7-b5c9-e101b96aabc3",
   "metadata": {},
   "outputs": [
    {
     "name": "stdout",
     "output_type": "stream",
     "text": [
      "  % Total    % Received % Xferd  Average Speed   Time    Time     Time  Current\n",
      "                                 Dload  Upload   Total   Spent    Left  Speed\n",
      "100   232  100   232    0     0   113k      0 --:--:-- --:--:-- --:--:--  113k\n",
      "parse error: Invalid numeric literal at line 1, column 10\n"
     ]
    }
   ],
   "source": [
    "!curl -u 'actinia-gdi:actinia-gdi' -X GET \"http://localhost:8088/api/v3/stac/catalogs/catalog.json\" | jq"
   ]
  },
  {
   "cell_type": "markdown",
   "id": "56ddea34-b50d-4591-91e0-391f69d15f81",
   "metadata": {},
   "source": [
    "## View STAC collections"
   ]
  },
  {
   "cell_type": "markdown",
   "id": "ab497df5-8c78-4619-a976-0c1abb4d04df",
   "metadata": {},
   "source": [
    "STAC collection \n",
    "\n",
    "> Spec: [https://github.com/radiantearth/stac-spec/blob/master/collection-spec/collection-spec.md](https://github.com/radiantearth/stac-spec/blob/master/collection-spec/collection-spec.md)"
   ]
  },
  {
   "cell_type": "markdown",
   "id": "e7625324-b8bb-4d99-befb-ea7e1d1a2f02",
   "metadata": {},
   "source": [
    "### /stac/collections"
   ]
  },
  {
   "cell_type": "code",
   "execution_count": 8,
   "id": "afa2f5ea-335f-4b1c-9178-24f7c47c9043",
   "metadata": {},
   "outputs": [
    {
     "name": "stdout",
     "output_type": "stream",
     "text": [
      "<!DOCTYPE HTML PUBLIC \"-//W3C//DTD HTML 3.2 Final//EN\">\n",
      "<title>404 Not Found</title>\n",
      "<h1>Not Found</h1>\n",
      "<p>The requested URL was not found on the server. If you entered the URL manually please check your spelling and try again.</p>\n"
     ]
    }
   ],
   "source": [
    "!curl -u 'actinia-gdi:actinia-gdi' -X GET \"http://localhost:8088/api/v3/stac/collections\""
   ]
  },
  {
   "cell_type": "markdown",
   "id": "75a31a46-5ab9-4017-80ba-3fd17f26bd56",
   "metadata": {},
   "source": [
    "## View STAC collection"
   ]
  },
  {
   "cell_type": "markdown",
   "id": "8880b70c-7fc4-46ee-985e-c77dc5ab0a13",
   "metadata": {},
   "source": [
    "### /stac/collections/{stac_collection_id}"
   ]
  },
  {
   "cell_type": "code",
   "execution_count": null,
   "id": "3c6a287a-c66e-4ed3-a0e7-76503deb8a0a",
   "metadata": {},
   "outputs": [],
   "source": [
    "!curl -u 'actinia-gdi:actinia-gdi' -X GET \"http://localhost:8088/api/v3/stac/collections/stac.defaultStac.rastercube.landsat-8-l1-c1\" | jq"
   ]
  },
  {
   "cell_type": "markdown",
   "id": "c7da5890-8ee4-44db-b102-b36fe52f22b9",
   "metadata": {},
   "source": [
    "# Demo"
   ]
  },
  {
   "cell_type": "markdown",
   "id": "dd8189ae-b7c1-4484-8c6c-c37107d3cc54",
   "metadata": {},
   "source": [
    "We will now add the Planet SkySat STAC from [https://stacindex.org/catalogs/planet-labs-stac-catalog#/](https://stacindex.org/catalogs/planet-labs-stac-catalog#/)"
   ]
  },
  {
   "cell_type": "markdown",
   "id": "b0a1e7be-9c58-4784-8673-173450f9a926",
   "metadata": {},
   "source": [
    "## 1) Add new STAC instance"
   ]
  },
  {
   "cell_type": "code",
   "execution_count": 2,
   "id": "be42e9fc-90e2-46c2-ba91-d86a777dd0b9",
   "metadata": {},
   "outputs": [
    {
     "name": "stdout",
     "output_type": "stream",
     "text": [
      "  % Total    % Received % Xferd  Average Speed   Time    Time     Time  Current\n",
      "                                 Dload  Upload   Total   Spent    Left  Speed\n",
      "100   101  100    73  100    28    250     96 --:--:-- --:--:-- --:--:--   345\n",
      "\u001b[1;39m{\n",
      "  \u001b[0m\u001b[34;1m\"StacInstance\"\u001b[0m\u001b[1;39m: \u001b[0m\u001b[1;39m{}\u001b[0m\u001b[1;39m,\n",
      "  \u001b[0m\u001b[34;1m\"message\"\u001b[0m\u001b[1;39m: \u001b[0m\u001b[0;32m\"The Instance has been added successfully\"\u001b[0m\u001b[1;39m\n",
      "\u001b[1;39m}\u001b[0m\n"
     ]
    }
   ],
   "source": [
    "!curl -u 'actinia-gdi:actinia-gdi' -X POST \"http://localhost:8088/api/v3/stac/instances/\" -H \"Content-Type: application/json\" \\\n",
    "   -d '{\"stac_instance_id\": \"3dep\"}' | jq"
   ]
  },
  {
   "cell_type": "markdown",
   "id": "ea033b68-95c4-4ed8-8dce-b95b907e73c6",
   "metadata": {},
   "source": [
    "Now lets view the new instance by requesting it with the **/stac/instances/{stac_instance_id}** GET request."
   ]
  },
  {
   "cell_type": "code",
   "execution_count": 3,
   "id": "4daee352-bb0c-44fe-a4e3-39708b6f1705",
   "metadata": {},
   "outputs": [
    {
     "name": "stdout",
     "output_type": "stream",
     "text": [
      "  % Total    % Received % Xferd  Average Speed   Time    Time     Time  Current\n",
      "                                 Dload  Upload   Total   Spent    Left  Speed\n",
      "100     3  100     3    0     0     10      0 --:--:-- --:--:-- --:--:--    10\n",
      "\u001b[1;39m{}\u001b[0m\n"
     ]
    }
   ],
   "source": [
    "!curl -u 'actinia-gdi:actinia-gdi' -X GET \"http://localhost:8088/api/v3/stac/instances/3dep\" | jq"
   ]
  },
  {
   "cell_type": "markdown",
   "id": "f3a45939-8118-4223-82e3-16ffdb6365f0",
   "metadata": {},
   "source": [
    "The request should return an empty response object because we have not added any collections to the data yet."
   ]
  },
  {
   "cell_type": "markdown",
   "id": "27e1d6c4-f4ee-4b16-9a73-04723b139c56",
   "metadata": {},
   "source": [
    "## 2) Add a new collection to an instance"
   ]
  },
  {
   "cell_type": "markdown",
   "id": "7cac75b8-bf4e-4ec7-a336-0e70b4a5fd9d",
   "metadata": {},
   "source": [
    "To add a new collect to the opentopography instace we need to make a POST request to the **/stac/collections** routes specifying the `stac_instance_id` and setting the `stac_url`."
   ]
  },
  {
   "cell_type": "markdown",
   "id": "4c33f045-85a7-4d63-966a-31e985b07c11",
   "metadata": {},
   "source": [
    "In our case the `stac_instance_id = planet` and the `stac_url = https://www.planet.com/data/stac/open-skysat-data/collection.json`\n",
    "\n",
    "The request body will look like \n",
    "\n",
    "```json\n",
    "{\n",
    "    \"stac_instance_id\": \"opentopography\", \n",
    "    \"stac_url\": \"https://www.planet.com/data/stac/open-skysat-data/collection.json\"}\n",
    "}\n",
    "```"
   ]
  },
  {
   "cell_type": "code",
   "execution_count": 4,
   "id": "3521eec1-7a6d-4b43-ac45-954dd8c614bc",
   "metadata": {},
   "outputs": [
    {
     "name": "stdout",
     "output_type": "stream",
     "text": [
      "  % Total    % Received % Xferd  Average Speed   Time    Time     Time  Current\n",
      "                                 Dload  Upload   Total   Spent    Left  Speed\n",
      "100   396  100   275  100   121    104     46  0:00:02  0:00:02 --:--:--   150\n",
      "\u001b[1;39m{\n",
      "  \u001b[0m\u001b[34;1m\"StacCollection\"\u001b[0m\u001b[1;39m: \u001b[0m\u001b[1;39m{\n",
      "    \u001b[0m\u001b[34;1m\"stac.3dep.rastercube.3dep-seamless\"\u001b[0m\u001b[1;39m: \u001b[0m\u001b[1;39m{\n",
      "      \u001b[0m\u001b[34;1m\"href\"\u001b[0m\u001b[1;39m: \u001b[0m\u001b[0;32m\"api/v3/stac/collections/stac.3dep.rastercube.3dep-seamless\"\u001b[0m\u001b[1;39m,\n",
      "      \u001b[0m\u001b[34;1m\"root\"\u001b[0m\u001b[1;39m: \u001b[0m\u001b[0;32m\"https://planetarycomputer.microsoft.com/api/stac/v1/collections/3dep-seamless\"\u001b[0m\u001b[1;39m\n",
      "    \u001b[1;39m}\u001b[0m\u001b[1;39m\n",
      "  \u001b[1;39m}\u001b[0m\u001b[1;39m,\n",
      "  \u001b[0m\u001b[34;1m\"message\"\u001b[0m\u001b[1;39m: \u001b[0m\u001b[0;32m\"The STAC Collection has been added successfully\"\u001b[0m\u001b[1;39m\n",
      "\u001b[1;39m}\u001b[0m\n"
     ]
    }
   ],
   "source": [
    "!curl -u 'actinia-gdi:actinia-gdi' -X POST \"http://localhost:8088/api/v3/stac/collections\" -H \"Content-Type: application/json\" \\\n",
    "   -d '{\"stac_instance_id\": \"3dep\", \"stac_url\": \"https://planetarycomputer.microsoft.com/api/stac/v1/collections/3dep-seamless\"}' | jq"
   ]
  },
  {
   "cell_type": "markdown",
   "id": "8e11ace5-1622-4726-bdd3-c2ab4c94b928",
   "metadata": {},
   "source": [
    "## 3) View the new collection"
   ]
  },
  {
   "cell_type": "markdown",
   "id": "caa61d27-5dd4-4414-b773-9ebd235b5e04",
   "metadata": {},
   "source": [
    "Now lets view the new collection using the GET **/stac/collections/{stac_collection_id}** by setting the route `stac_collection_id` route parameter to `stac.planet.rastercube.planet-stac-skysat`."
   ]
  },
  {
   "cell_type": "code",
   "execution_count": 5,
   "id": "eb189657-6f91-4fca-87ea-68a219f99159",
   "metadata": {},
   "outputs": [
    {
     "name": "stdout",
     "output_type": "stream",
     "text": [
      "  % Total    % Received % Xferd  Average Speed   Time    Time     Time  Current\n",
      "                                 Dload  Upload   Total   Spent    Left  Speed\n",
      "100  3258  100  3258    0     0  11594      0 --:--:-- --:--:-- --:--:-- 11594\n",
      "\u001b[1;39m{\n",
      "  \u001b[0m\u001b[34;1m\"assets\"\u001b[0m\u001b[1;39m: \u001b[0m\u001b[1;39m{\n",
      "    \u001b[0m\u001b[34;1m\"thumbnail\"\u001b[0m\u001b[1;39m: \u001b[0m\u001b[1;39m{\n",
      "      \u001b[0m\u001b[34;1m\"href\"\u001b[0m\u001b[1;39m: \u001b[0m\u001b[0;32m\"https://ai4edatasetspublicassets.blob.core.windows.net/assets/pc_thumbnails/threedep.png\"\u001b[0m\u001b[1;39m,\n",
      "      \u001b[0m\u001b[34;1m\"roles\"\u001b[0m\u001b[1;39m: \u001b[0m\u001b[1;39m[\n",
      "        \u001b[0;32m\"thumbnail\"\u001b[0m\u001b[1;39m\n",
      "      \u001b[1;39m]\u001b[0m\u001b[1;39m,\n",
      "      \u001b[0m\u001b[34;1m\"title\"\u001b[0m\u001b[1;39m: \u001b[0m\u001b[0;32m\"USGS 3DEP\"\u001b[0m\u001b[1;39m,\n",
      "      \u001b[0m\u001b[34;1m\"type\"\u001b[0m\u001b[1;39m: \u001b[0m\u001b[0;32m\"image/png\"\u001b[0m\u001b[1;39m\n",
      "    \u001b[1;39m}\u001b[0m\u001b[1;39m\n",
      "  \u001b[1;39m}\u001b[0m\u001b[1;39m,\n",
      "  \u001b[0m\u001b[34;1m\"description\"\u001b[0m\u001b[1;39m: \u001b[0m\u001b[0;32m\"U.S.-wide digital elevation data at horizontal resolutions ranging from one to sixty meters.\\\\n\\\\nThe [USGS 3D Elevation Program (3DEP) Datasets](https://www.usgs.gov/core-science-systems/ngp/3dep) from the [National Map](https://www.usgs.gov/core-science-systems/national-geospatial-program/national-map) are the primary elevation data product produced and distributed by the USGS. The 3DEP program provides raster elevation data for the conterminous United States, Alaska, Hawaii, and the island territories, at a variety of spatial resolutions.  The seamless DEM layers produced by the 3DEP program are updated frequently to integrate newly available, improved elevation source data.  \\\\n\\\\nDEM layers are available nationally at grid spacings of 1 arc-second (approximately 30 meters) for the conterminous United States, and at approximately 1, 3, and 9 meters for parts of the United States. Most seamless DEM data for Alaska is available at a resolution of approximately 60 meters, where only lower resolution source data exist.\\\\n\"\u001b[0m\u001b[1;39m,\n",
      "  \u001b[0m\u001b[34;1m\"extent\"\u001b[0m\u001b[1;39m: \u001b[0m\u001b[1;39m{\n",
      "    \u001b[0m\u001b[34;1m\"spatial\"\u001b[0m\u001b[1;39m: \u001b[0m\u001b[1;39m{\n",
      "      \u001b[0m\u001b[34;1m\"bbox\"\u001b[0m\u001b[1;39m: \u001b[0m\u001b[1;39m[\n",
      "        \u001b[1;39m[\n",
      "          \u001b[0;39m-174.001666666983\u001b[0m\u001b[1;39m,\n",
      "          \u001b[0;39m-15.00166666667\u001b[0m\u001b[1;39m,\n",
      "          \u001b[0;39m164.0016666666\u001b[0m\u001b[1;39m,\n",
      "          \u001b[0;39m84.00166666666\u001b[0m\u001b[1;39m\n",
      "        \u001b[1;39m]\u001b[0m\u001b[1;39m\n",
      "      \u001b[1;39m]\u001b[0m\u001b[1;39m\n",
      "    \u001b[1;39m}\u001b[0m\u001b[1;39m,\n",
      "    \u001b[0m\u001b[34;1m\"temporal\"\u001b[0m\u001b[1;39m: \u001b[0m\u001b[1;39m{\n",
      "      \u001b[0m\u001b[34;1m\"interval\"\u001b[0m\u001b[1;39m: \u001b[0m\u001b[1;39m[\n",
      "        \u001b[1;39m[\n",
      "          \u001b[0;32m\"1925-01-01T00:00:00Z\"\u001b[0m\u001b[1;39m,\n",
      "          \u001b[0;32m\"2020-05-06T00:00:00Z\"\u001b[0m\u001b[1;39m\n",
      "        \u001b[1;39m]\u001b[0m\u001b[1;39m\n",
      "      \u001b[1;39m]\u001b[0m\u001b[1;39m\n",
      "    \u001b[1;39m}\u001b[0m\u001b[1;39m\n",
      "  \u001b[1;39m}\u001b[0m\u001b[1;39m,\n",
      "  \u001b[0m\u001b[34;1m\"id\"\u001b[0m\u001b[1;39m: \u001b[0m\u001b[0;32m\"stac.3dep.rastercube.3dep-seamless\"\u001b[0m\u001b[1;39m,\n",
      "  \u001b[0m\u001b[34;1m\"item_assets\"\u001b[0m\u001b[1;39m: \u001b[0m\u001b[1;39m{\n",
      "    \u001b[0m\u001b[34;1m\"data\"\u001b[0m\u001b[1;39m: \u001b[0m\u001b[1;39m{\n",
      "      \u001b[0m\u001b[34;1m\"roles\"\u001b[0m\u001b[1;39m: \u001b[0m\u001b[1;39m[\n",
      "        \u001b[0;32m\"data\"\u001b[0m\u001b[1;39m\n",
      "      \u001b[1;39m]\u001b[0m\u001b[1;39m,\n",
      "      \u001b[0m\u001b[34;1m\"type\"\u001b[0m\u001b[1;39m: \u001b[0m\u001b[0;32m\"image/tiff; application=geotiff; profile=cloud-optimized\"\u001b[0m\u001b[1;39m\n",
      "    \u001b[1;39m}\u001b[0m\u001b[1;39m,\n",
      "    \u001b[0m\u001b[34;1m\"gpkg\"\u001b[0m\u001b[1;39m: \u001b[0m\u001b[1;39m{\n",
      "      \u001b[0m\u001b[34;1m\"roles\"\u001b[0m\u001b[1;39m: \u001b[0m\u001b[1;39m[\n",
      "        \u001b[0;32m\"metadata\"\u001b[0m\u001b[1;39m\n",
      "      \u001b[1;39m]\u001b[0m\u001b[1;39m,\n",
      "      \u001b[0m\u001b[34;1m\"type\"\u001b[0m\u001b[1;39m: \u001b[0m\u001b[0;32m\"application/geopackage+sqlite3\"\u001b[0m\u001b[1;39m\n",
      "    \u001b[1;39m}\u001b[0m\u001b[1;39m,\n",
      "    \u001b[0m\u001b[34;1m\"metadata\"\u001b[0m\u001b[1;39m: \u001b[0m\u001b[1;39m{\n",
      "      \u001b[0m\u001b[34;1m\"roles\"\u001b[0m\u001b[1;39m: \u001b[0m\u001b[1;39m[\n",
      "        \u001b[0;32m\"metadata\"\u001b[0m\u001b[1;39m\n",
      "      \u001b[1;39m]\u001b[0m\u001b[1;39m,\n",
      "      \u001b[0m\u001b[34;1m\"type\"\u001b[0m\u001b[1;39m: \u001b[0m\u001b[0;32m\"application/xml\"\u001b[0m\u001b[1;39m\n",
      "    \u001b[1;39m}\u001b[0m\u001b[1;39m,\n",
      "    \u001b[0m\u001b[34;1m\"thumbnail\"\u001b[0m\u001b[1;39m: \u001b[0m\u001b[1;39m{\n",
      "      \u001b[0m\u001b[34;1m\"roles\"\u001b[0m\u001b[1;39m: \u001b[0m\u001b[1;39m[\n",
      "        \u001b[0;32m\"thumbnail\"\u001b[0m\u001b[1;39m\n",
      "      \u001b[1;39m]\u001b[0m\u001b[1;39m,\n",
      "      \u001b[0m\u001b[34;1m\"type\"\u001b[0m\u001b[1;39m: \u001b[0m\u001b[0;32m\"image/jpeg\"\u001b[0m\u001b[1;39m\n",
      "    \u001b[1;39m}\u001b[0m\u001b[1;39m\n",
      "  \u001b[1;39m}\u001b[0m\u001b[1;39m,\n",
      "  \u001b[0m\u001b[34;1m\"keywords\"\u001b[0m\u001b[1;39m: \u001b[0m\u001b[1;39m[\n",
      "    \u001b[0;32m\"USGS\"\u001b[0m\u001b[1;39m,\n",
      "    \u001b[0;32m\"3DEP\"\u001b[0m\u001b[1;39m,\n",
      "    \u001b[0;32m\"NED\"\u001b[0m\u001b[1;39m,\n",
      "    \u001b[0;32m\"Elevation\"\u001b[0m\u001b[1;39m,\n",
      "    \u001b[0;32m\"DEM\"\u001b[0m\u001b[1;39m\n",
      "  \u001b[1;39m]\u001b[0m\u001b[1;39m,\n",
      "  \u001b[0m\u001b[34;1m\"license\"\u001b[0m\u001b[1;39m: \u001b[0m\u001b[0;32m\"PDDL-1.0\"\u001b[0m\u001b[1;39m,\n",
      "  \u001b[0m\u001b[34;1m\"links\"\u001b[0m\u001b[1;39m: \u001b[0m\u001b[1;39m[\n",
      "    \u001b[1;39m{\n",
      "      \u001b[0m\u001b[34;1m\"href\"\u001b[0m\u001b[1;39m: \u001b[0m\u001b[0;32m\"https://planetarycomputer.microsoft.com/api/stac/v1/collections/3dep-seamless/items\"\u001b[0m\u001b[1;39m,\n",
      "      \u001b[0m\u001b[34;1m\"rel\"\u001b[0m\u001b[1;39m: \u001b[0m\u001b[0;32m\"items\"\u001b[0m\u001b[1;39m,\n",
      "      \u001b[0m\u001b[34;1m\"type\"\u001b[0m\u001b[1;39m: \u001b[0m\u001b[0;32m\"application/geo+json\"\u001b[0m\u001b[1;39m\n",
      "    \u001b[1;39m}\u001b[0m\u001b[1;39m,\n",
      "    \u001b[1;39m{\n",
      "      \u001b[0m\u001b[34;1m\"href\"\u001b[0m\u001b[1;39m: \u001b[0m\u001b[0;32m\"https://planetarycomputer.microsoft.com/api/stac/v1/\"\u001b[0m\u001b[1;39m,\n",
      "      \u001b[0m\u001b[34;1m\"rel\"\u001b[0m\u001b[1;39m: \u001b[0m\u001b[0;32m\"parent\"\u001b[0m\u001b[1;39m,\n",
      "      \u001b[0m\u001b[34;1m\"type\"\u001b[0m\u001b[1;39m: \u001b[0m\u001b[0;32m\"application/json\"\u001b[0m\u001b[1;39m\n",
      "    \u001b[1;39m}\u001b[0m\u001b[1;39m,\n",
      "    \u001b[1;39m{\n",
      "      \u001b[0m\u001b[34;1m\"href\"\u001b[0m\u001b[1;39m: \u001b[0m\u001b[0;32m\"https://planetarycomputer.microsoft.com/api/stac/v1/\"\u001b[0m\u001b[1;39m,\n",
      "      \u001b[0m\u001b[34;1m\"rel\"\u001b[0m\u001b[1;39m: \u001b[0m\u001b[0;32m\"root\"\u001b[0m\u001b[1;39m,\n",
      "      \u001b[0m\u001b[34;1m\"type\"\u001b[0m\u001b[1;39m: \u001b[0m\u001b[0;32m\"application/json\"\u001b[0m\u001b[1;39m\n",
      "    \u001b[1;39m}\u001b[0m\u001b[1;39m,\n",
      "    \u001b[1;39m{\n",
      "      \u001b[0m\u001b[34;1m\"href\"\u001b[0m\u001b[1;39m: \u001b[0m\u001b[0;32m\"https://planetarycomputer.microsoft.com/api/stac/v1/collections/3dep-seamless\"\u001b[0m\u001b[1;39m,\n",
      "      \u001b[0m\u001b[34;1m\"rel\"\u001b[0m\u001b[1;39m: \u001b[0m\u001b[0;32m\"self\"\u001b[0m\u001b[1;39m,\n",
      "      \u001b[0m\u001b[34;1m\"type\"\u001b[0m\u001b[1;39m: \u001b[0m\u001b[0;32m\"application/json\"\u001b[0m\u001b[1;39m\n",
      "    \u001b[1;39m}\u001b[0m\u001b[1;39m,\n",
      "    \u001b[1;39m{\n",
      "      \u001b[0m\u001b[34;1m\"href\"\u001b[0m\u001b[1;39m: \u001b[0m\u001b[0;32m\"https://www.usgs.gov/faqs/what-are-terms-uselicensing-map-services-and-data-national-map?qt-news_science_products=0#qt-news_science_products\"\u001b[0m\u001b[1;39m,\n",
      "      \u001b[0m\u001b[34;1m\"rel\"\u001b[0m\u001b[1;39m: \u001b[0m\u001b[0;32m\"license\"\u001b[0m\u001b[1;39m,\n",
      "      \u001b[0m\u001b[34;1m\"title\"\u001b[0m\u001b[1;39m: \u001b[0m\u001b[0;32m\"Public Domain\"\u001b[0m\u001b[1;39m\n",
      "    \u001b[1;39m}\u001b[0m\u001b[1;39m,\n",
      "    \u001b[1;39m{\n",
      "      \u001b[0m\u001b[34;1m\"href\"\u001b[0m\u001b[1;39m: \u001b[0m\u001b[0;32m\"https://planetarycomputer.microsoft.com/dataset/3dep-seamless\"\u001b[0m\u001b[1;39m,\n",
      "      \u001b[0m\u001b[34;1m\"rel\"\u001b[0m\u001b[1;39m: \u001b[0m\u001b[0;32m\"describedby\"\u001b[0m\u001b[1;39m,\n",
      "      \u001b[0m\u001b[34;1m\"title\"\u001b[0m\u001b[1;39m: \u001b[0m\u001b[0;32m\"Human readable dataset overview and reference\"\u001b[0m\u001b[1;39m,\n",
      "      \u001b[0m\u001b[34;1m\"type\"\u001b[0m\u001b[1;39m: \u001b[0m\u001b[0;32m\"text/html\"\u001b[0m\u001b[1;39m\n",
      "    \u001b[1;39m}\u001b[0m\u001b[1;39m\n",
      "  \u001b[1;39m]\u001b[0m\u001b[1;39m,\n",
      "  \u001b[0m\u001b[34;1m\"msft:container\"\u001b[0m\u001b[1;39m: \u001b[0m\u001b[0;32m\"3dep\"\u001b[0m\u001b[1;39m,\n",
      "  \u001b[0m\u001b[34;1m\"msft:short_description\"\u001b[0m\u001b[1;39m: \u001b[0m\u001b[0;32m\"U.S.-wide digital elevation data at horizontal resolutions ranging from one to sixty meters\"\u001b[0m\u001b[1;39m,\n",
      "  \u001b[0m\u001b[34;1m\"msft:storage_account\"\u001b[0m\u001b[1;39m: \u001b[0m\u001b[0;32m\"ai4edataeuwest\"\u001b[0m\u001b[1;39m,\n",
      "  \u001b[0m\u001b[34;1m\"providers\"\u001b[0m\u001b[1;39m: \u001b[0m\u001b[1;39m[\n",
      "    \u001b[1;39m{\n",
      "      \u001b[0m\u001b[34;1m\"name\"\u001b[0m\u001b[1;39m: \u001b[0m\u001b[0;32m\"USGS\"\u001b[0m\u001b[1;39m,\n",
      "      \u001b[0m\u001b[34;1m\"roles\"\u001b[0m\u001b[1;39m: \u001b[0m\u001b[1;39m[\n",
      "        \u001b[0;32m\"processor\"\u001b[0m\u001b[1;39m,\n",
      "        \u001b[0;32m\"producer\"\u001b[0m\u001b[1;39m,\n",
      "        \u001b[0;32m\"licensor\"\u001b[0m\u001b[1;39m\n",
      "      \u001b[1;39m]\u001b[0m\u001b[1;39m,\n",
      "      \u001b[0m\u001b[34;1m\"url\"\u001b[0m\u001b[1;39m: \u001b[0m\u001b[0;32m\"https://www.usgs.gov/core-science-systems/ngp/3dep\"\u001b[0m\u001b[1;39m\n",
      "    \u001b[1;39m}\u001b[0m\u001b[1;39m,\n",
      "    \u001b[1;39m{\n",
      "      \u001b[0m\u001b[34;1m\"name\"\u001b[0m\u001b[1;39m: \u001b[0m\u001b[0;32m\"Microsoft\"\u001b[0m\u001b[1;39m,\n",
      "      \u001b[0m\u001b[34;1m\"roles\"\u001b[0m\u001b[1;39m: \u001b[0m\u001b[1;39m[\n",
      "        \u001b[0;32m\"host\"\u001b[0m\u001b[1;39m\n",
      "      \u001b[1;39m]\u001b[0m\u001b[1;39m,\n",
      "      \u001b[0m\u001b[34;1m\"url\"\u001b[0m\u001b[1;39m: \u001b[0m\u001b[0;32m\"https://planetarycomputer.microsoft.com\"\u001b[0m\u001b[1;39m\n",
      "    \u001b[1;39m}\u001b[0m\u001b[1;39m\n",
      "  \u001b[1;39m]\u001b[0m\u001b[1;39m,\n",
      "  \u001b[0m\u001b[34;1m\"stac_extensions\"\u001b[0m\u001b[1;39m: \u001b[0m\u001b[1;39m[\n",
      "    \u001b[0;32m\"https://stac-extensions.github.io/item-assets/v1.0.0/schema.json\"\u001b[0m\u001b[1;39m\n",
      "  \u001b[1;39m]\u001b[0m\u001b[1;39m,\n",
      "  \u001b[0m\u001b[34;1m\"stac_version\"\u001b[0m\u001b[1;39m: \u001b[0m\u001b[0;32m\"1.0.0\"\u001b[0m\u001b[1;39m,\n",
      "  \u001b[0m\u001b[34;1m\"summaries\"\u001b[0m\u001b[1;39m: \u001b[0m\u001b[1;39m{\n",
      "    \u001b[0m\u001b[34;1m\"gsd\"\u001b[0m\u001b[1;39m: \u001b[0m\u001b[1;39m[\n",
      "      \u001b[0;39m10\u001b[0m\u001b[1;39m,\n",
      "      \u001b[0;39m30\u001b[0m\u001b[1;39m\n",
      "    \u001b[1;39m]\u001b[0m\u001b[1;39m\n",
      "  \u001b[1;39m}\u001b[0m\u001b[1;39m,\n",
      "  \u001b[0m\u001b[34;1m\"title\"\u001b[0m\u001b[1;39m: \u001b[0m\u001b[0;32m\"USGS 3DEP Seamless DEMs\"\u001b[0m\u001b[1;39m,\n",
      "  \u001b[0m\u001b[34;1m\"type\"\u001b[0m\u001b[1;39m: \u001b[0m\u001b[0;32m\"Collection\"\u001b[0m\u001b[1;39m\n",
      "\u001b[1;39m}\u001b[0m\n"
     ]
    }
   ],
   "source": [
    "!curl -u 'actinia-gdi:actinia-gdi' -X GET \"http://localhost:8088/api/v3/stac/collections/stac.3dep.rastercube.3dep-seamless\" | jq"
   ]
  },
  {
   "cell_type": "code",
   "execution_count": null,
   "id": "ed86d830-9cd1-42bb-b0ad-203ee2819c6b",
   "metadata": {},
   "outputs": [],
   "source": []
  },
  {
   "cell_type": "code",
   "execution_count": 19,
   "id": "5cccde97-5df2-4aa2-b921-fb11462baf9b",
   "metadata": {},
   "outputs": [
    {
     "name": "stdout",
     "output_type": "stream",
     "text": [
      "  % Total    % Received % Xferd  Average Speed   Time    Time     Time  Current\n",
      "                                 Dload  Upload   Total   Spent    Left  Speed\n",
      "100  1584  100  1584    0     0   1463      0  0:00:01  0:00:01 --:--:--  1463\n",
      "\u001b[1;39m{\n",
      "  \u001b[0m\u001b[34;1m\"accept_datetime\"\u001b[0m\u001b[1;39m: \u001b[0m\u001b[0;32m\"2022-04-22 03:36:29.941543\"\u001b[0m\u001b[1;39m,\n",
      "  \u001b[0m\u001b[34;1m\"accept_timestamp\"\u001b[0m\u001b[1;39m: \u001b[0m\u001b[0;39m1650598589.9415414\u001b[0m\u001b[1;39m,\n",
      "  \u001b[0m\u001b[34;1m\"api_info\"\u001b[0m\u001b[1;39m: \u001b[0m\u001b[1;39m{\n",
      "    \u001b[0m\u001b[34;1m\"endpoint\"\u001b[0m\u001b[1;39m: \u001b[0m\u001b[0;32m\"syncstrdslisterresource\"\u001b[0m\u001b[1;39m,\n",
      "    \u001b[0m\u001b[34;1m\"method\"\u001b[0m\u001b[1;39m: \u001b[0m\u001b[0;32m\"GET\"\u001b[0m\u001b[1;39m,\n",
      "    \u001b[0m\u001b[34;1m\"path\"\u001b[0m\u001b[1;39m: \u001b[0m\u001b[0;32m\"/api/v3/locations/nc_spm_08/mapsets/PERMANENT/strds\"\u001b[0m\u001b[1;39m,\n",
      "    \u001b[0m\u001b[34;1m\"request_url\"\u001b[0m\u001b[1;39m: \u001b[0m\u001b[0;32m\"http://localhost:8088/api/v3/locations/nc_spm_08/mapsets/PERMANENT/strds\"\u001b[0m\u001b[1;39m\n",
      "  \u001b[1;39m}\u001b[0m\u001b[1;39m,\n",
      "  \u001b[0m\u001b[34;1m\"datetime\"\u001b[0m\u001b[1;39m: \u001b[0m\u001b[0;32m\"2022-04-22 03:36:30.641870\"\u001b[0m\u001b[1;39m,\n",
      "  \u001b[0m\u001b[34;1m\"http_code\"\u001b[0m\u001b[1;39m: \u001b[0m\u001b[0;39m200\u001b[0m\u001b[1;39m,\n",
      "  \u001b[0m\u001b[34;1m\"message\"\u001b[0m\u001b[1;39m: \u001b[0m\u001b[0;32m\"Processing successfully finished\"\u001b[0m\u001b[1;39m,\n",
      "  \u001b[0m\u001b[34;1m\"process_chain_list\"\u001b[0m\u001b[1;39m: \u001b[0m\u001b[1;39m[\n",
      "    \u001b[1;39m{\n",
      "      \u001b[0m\u001b[34;1m\"1\"\u001b[0m\u001b[1;39m: \u001b[0m\u001b[1;39m{\n",
      "        \u001b[0m\u001b[34;1m\"inputs\"\u001b[0m\u001b[1;39m: \u001b[0m\u001b[1;39m{\n",
      "          \u001b[0m\u001b[34;1m\"column\"\u001b[0m\u001b[1;39m: \u001b[0m\u001b[0;32m\"name\"\u001b[0m\u001b[1;39m,\n",
      "          \u001b[0m\u001b[34;1m\"type\"\u001b[0m\u001b[1;39m: \u001b[0m\u001b[0;32m\"strds\"\u001b[0m\u001b[1;39m,\n",
      "          \u001b[0m\u001b[34;1m\"where\"\u001b[0m\u001b[1;39m: \u001b[0m\u001b[0;32m\"mapset='PERMANENT'\"\u001b[0m\u001b[1;39m\n",
      "        \u001b[1;39m}\u001b[0m\u001b[1;39m,\n",
      "        \u001b[0m\u001b[34;1m\"module\"\u001b[0m\u001b[1;39m: \u001b[0m\u001b[0;32m\"t.list\"\u001b[0m\u001b[1;39m\n",
      "      \u001b[1;39m}\u001b[0m\u001b[1;39m\n",
      "    \u001b[1;39m}\u001b[0m\u001b[1;39m\n",
      "  \u001b[1;39m]\u001b[0m\u001b[1;39m,\n",
      "  \u001b[0m\u001b[34;1m\"process_log\"\u001b[0m\u001b[1;39m: \u001b[0m\u001b[1;39m[\n",
      "    \u001b[1;39m{\n",
      "      \u001b[0m\u001b[34;1m\"executable\"\u001b[0m\u001b[1;39m: \u001b[0m\u001b[0;32m\"t.list\"\u001b[0m\u001b[1;39m,\n",
      "      \u001b[0m\u001b[34;1m\"id\"\u001b[0m\u001b[1;39m: \u001b[0m\u001b[0;32m\"1\"\u001b[0m\u001b[1;39m,\n",
      "      \u001b[0m\u001b[34;1m\"parameter\"\u001b[0m\u001b[1;39m: \u001b[0m\u001b[1;39m[\n",
      "        \u001b[0;32m\"type=strds\"\u001b[0m\u001b[1;39m,\n",
      "        \u001b[0;32m\"column=name\"\u001b[0m\u001b[1;39m,\n",
      "        \u001b[0;32m\"where=mapset='PERMANENT'\"\u001b[0m\u001b[1;39m\n",
      "      \u001b[1;39m]\u001b[0m\u001b[1;39m,\n",
      "      \u001b[0m\u001b[34;1m\"return_code\"\u001b[0m\u001b[1;39m: \u001b[0m\u001b[0;39m0\u001b[0m\u001b[1;39m,\n",
      "      \u001b[0m\u001b[34;1m\"run_time\"\u001b[0m\u001b[1;39m: \u001b[0m\u001b[0;39m0.6028449535369873\u001b[0m\u001b[1;39m,\n",
      "      \u001b[0m\u001b[34;1m\"stderr\"\u001b[0m\u001b[1;39m: \u001b[0m\u001b[1;39m[\n",
      "        \u001b[0;32m\"Default TGIS driver / database set to:\"\u001b[0m\u001b[1;39m,\n",
      "        \u001b[0;32m\"driver: sqlite\"\u001b[0m\u001b[1;39m,\n",
      "        \u001b[0;32m\"database: $GISDBASE/$LOCATION_NAME/$MAPSET/tgis/sqlite.db\"\u001b[0m\u001b[1;39m,\n",
      "        \u001b[0;32m\"WARNING: Temporal database connection defined as:\"\u001b[0m\u001b[1;39m,\n",
      "        \u001b[0;32m\"/actinia_core/workspace/temp_db/gisdbase_91c0cbb81ca746afb77b09d72a334a0e/nc_spm_08/PERMANENT/tgis/sqlite.db\"\u001b[0m\u001b[1;39m,\n",
      "        \u001b[0;32m\"But database file does not exist.\"\u001b[0m\u001b[1;39m,\n",
      "        \u001b[0;32m\"Creating temporal database: /actinia_core/workspace/temp_db/gisdbase_91c0cbb81ca746afb77b09d72a334a0e/nc_spm_08/PERMANENT/tgis/sqlite.db\"\u001b[0m\u001b[1;39m,\n",
      "        \u001b[0;32m\"----------------------------------------------\"\u001b[0m\u001b[1;39m,\n",
      "        \u001b[0;32m\"\"\u001b[0m\u001b[1;39m\n",
      "      \u001b[1;39m]\u001b[0m\u001b[1;39m,\n",
      "      \u001b[0m\u001b[34;1m\"stdout\"\u001b[0m\u001b[1;39m: \u001b[0m\u001b[0;32m\"\"\u001b[0m\u001b[1;39m\n",
      "    \u001b[1;39m}\u001b[0m\u001b[1;39m\n",
      "  \u001b[1;39m]\u001b[0m\u001b[1;39m,\n",
      "  \u001b[0m\u001b[34;1m\"process_results\"\u001b[0m\u001b[1;39m: \u001b[0m\u001b[1;39m[]\u001b[0m\u001b[1;39m,\n",
      "  \u001b[0m\u001b[34;1m\"progress\"\u001b[0m\u001b[1;39m: \u001b[0m\u001b[1;39m{\n",
      "    \u001b[0m\u001b[34;1m\"num_of_steps\"\u001b[0m\u001b[1;39m: \u001b[0m\u001b[0;39m1\u001b[0m\u001b[1;39m,\n",
      "    \u001b[0m\u001b[34;1m\"step\"\u001b[0m\u001b[1;39m: \u001b[0m\u001b[0;39m1\u001b[0m\u001b[1;39m\n",
      "  \u001b[1;39m}\u001b[0m\u001b[1;39m,\n",
      "  \u001b[0m\u001b[34;1m\"resource_id\"\u001b[0m\u001b[1;39m: \u001b[0m\u001b[0;32m\"resource_id-7ca262b3-f62c-4715-a5d2-46505375c637\"\u001b[0m\u001b[1;39m,\n",
      "  \u001b[0m\u001b[34;1m\"status\"\u001b[0m\u001b[1;39m: \u001b[0m\u001b[0;32m\"finished\"\u001b[0m\u001b[1;39m,\n",
      "  \u001b[0m\u001b[34;1m\"time_delta\"\u001b[0m\u001b[1;39m: \u001b[0m\u001b[0;39m0.7003440856933594\u001b[0m\u001b[1;39m,\n",
      "  \u001b[0m\u001b[34;1m\"timestamp\"\u001b[0m\u001b[1;39m: \u001b[0m\u001b[0;39m1650598590.6418576\u001b[0m\u001b[1;39m,\n",
      "  \u001b[0m\u001b[34;1m\"urls\"\u001b[0m\u001b[1;39m: \u001b[0m\u001b[1;39m{\n",
      "    \u001b[0m\u001b[34;1m\"resources\"\u001b[0m\u001b[1;39m: \u001b[0m\u001b[1;39m[]\u001b[0m\u001b[1;39m,\n",
      "    \u001b[0m\u001b[34;1m\"status\"\u001b[0m\u001b[1;39m: \u001b[0m\u001b[0;32m\"http://localhost:8088/api/v3/resources/actinia-gdi/resource_id-7ca262b3-f62c-4715-a5d2-46505375c637\"\u001b[0m\u001b[1;39m\n",
      "  \u001b[1;39m}\u001b[0m\u001b[1;39m,\n",
      "  \u001b[0m\u001b[34;1m\"user_id\"\u001b[0m\u001b[1;39m: \u001b[0m\u001b[0;32m\"actinia-gdi\"\u001b[0m\u001b[1;39m\n",
      "\u001b[1;39m}\u001b[0m\n"
     ]
    }
   ],
   "source": [
    "!curl -u 'actinia-gdi:actinia-gdi' -X GET \"http://localhost:8088/api/v3/locations/nc_spm_08/mapsets/PERMANENT/strds\" | jq"
   ]
  },
  {
   "cell_type": "code",
   "execution_count": null,
   "id": "be0d25e0-dea9-4d0e-9f38-648ad9a8f3a9",
   "metadata": {},
   "outputs": [],
   "source": [
    "# Collection\n",
    "https://earthengine-stac.storage.googleapis.com/catalog/USGS/NLCD_RELEASES/USGS_NLCD_RELEASES_2019_REL_NLCD.json"
   ]
  },
  {
   "cell_type": "code",
   "execution_count": 1,
   "id": "b5ae7b90-e2f3-4712-990b-935f74b68ae1",
   "metadata": {},
   "outputs": [
    {
     "name": "stdout",
     "output_type": "stream",
     "text": [
      "  % Total    % Received % Xferd  Average Speed   Time    Time     Time  Current\n",
      "                                 Dload  Upload   Total   Spent    Left  Speed\n",
      "100   100  100    73  100    27    219     81 --:--:-- --:--:-- --:--:--   301\n",
      "\u001b[1;39m{\n",
      "  \u001b[0m\u001b[34;1m\"StacInstance\"\u001b[0m\u001b[1;39m: \u001b[0m\u001b[1;39m{}\u001b[0m\u001b[1;39m,\n",
      "  \u001b[0m\u001b[34;1m\"message\"\u001b[0m\u001b[1;39m: \u001b[0m\u001b[0;32m\"The Instance has been added successfully\"\u001b[0m\u001b[1;39m\n",
      "\u001b[1;39m}\u001b[0m\n"
     ]
    }
   ],
   "source": [
    "!curl -u 'actinia-gdi:actinia-gdi' -X POST \"http://localhost:8088/api/v3/stac/instances/\" -H \"Content-Type: application/json\" \\\n",
    "   -d '{\"stac_instance_id\": \"gee\"}' | jq"
   ]
  },
  {
   "cell_type": "code",
   "execution_count": 3,
   "id": "919a4d65-a5b2-4ed1-893a-79de1dc33244",
   "metadata": {},
   "outputs": [
    {
     "name": "stdout",
     "output_type": "stream",
     "text": [
      "  % Total    % Received % Xferd  Average Speed   Time    Time     Time  Current\n",
      "                                 Dload  Upload   Total   Spent    Left  Speed\n",
      "100   194  100    76  100   118     98    153 --:--:-- --:--:-- --:--:--   251\n",
      "\u001b[1;39m{\n",
      "  \u001b[0m\u001b[34;1m\"message\"\u001b[0m\u001b[1;39m: \u001b[0m\u001b[0;32m\"Please check the URL provided (Should be a STAC Collection).\"\u001b[0m\u001b[1;39m\n",
      "\u001b[1;39m}\u001b[0m\n"
     ]
    }
   ],
   "source": [
    "!curl -u 'actinia-gdi:actinia-gdi' -X POST \"http://localhost:8088/api/v3/stac/collections\" -H \"Content-Type: application/json\" \\\n",
    "   -d '{\"stac_instance_id\": \"gee\", \"stac_url\": \"https://earthengine-stac.storage.googleapis.com/catalog/USGS/USGS_NLCD.json\"}' | jq"
   ]
  },
  {
   "cell_type": "markdown",
   "id": "6e6ecaf9-789b-48aa-8e5c-7e633d113f3a",
   "metadata": {},
   "source": [
    "## 4) Run a process chain using STAC data"
   ]
  },
  {
   "cell_type": "code",
   "execution_count": 47,
   "id": "f9241b2a-86a5-4c43-94b1-7b577ac302f2",
   "metadata": {},
   "outputs": [
    {
     "name": "stdout",
     "output_type": "stream",
     "text": [
      "\u001b[1;39m{\n",
      "  \u001b[0m\u001b[34;1m\"version\"\u001b[0m\u001b[1;39m: \u001b[0m\u001b[0;32m\"1\"\u001b[0m\u001b[1;39m,\n",
      "  \u001b[0m\u001b[34;1m\"list\"\u001b[0m\u001b[1;39m: \u001b[0m\u001b[1;39m[\n",
      "    \u001b[1;39m{\n",
      "      \u001b[0m\u001b[34;1m\"module\"\u001b[0m\u001b[1;39m: \u001b[0m\u001b[0;32m\"g.region\"\u001b[0m\u001b[1;39m,\n",
      "      \u001b[0m\u001b[34;1m\"id\"\u001b[0m\u001b[1;39m: \u001b[0m\u001b[0;32m\"g.region_1804289383\"\u001b[0m\u001b[1;39m,\n",
      "      \u001b[0m\u001b[34;1m\"inputs\"\u001b[0m\u001b[1;39m: \u001b[0m\u001b[1;39m[\n",
      "        \u001b[1;39m{\n",
      "          \u001b[0m\u001b[34;1m\"param\"\u001b[0m\u001b[1;39m: \u001b[0m\u001b[0;32m\"raster\"\u001b[0m\u001b[1;39m,\n",
      "          \u001b[0m\u001b[34;1m\"value\"\u001b[0m\u001b[1;39m: \u001b[0m\u001b[0;32m\"elevation\"\u001b[0m\u001b[1;39m\n",
      "        \u001b[1;39m}\u001b[0m\u001b[1;39m,\n",
      "        \u001b[1;39m{\n",
      "          \u001b[0m\u001b[34;1m\"param\"\u001b[0m\u001b[1;39m: \u001b[0m\u001b[0;32m\"res\"\u001b[0m\u001b[1;39m,\n",
      "          \u001b[0m\u001b[34;1m\"value\"\u001b[0m\u001b[1;39m: \u001b[0m\u001b[0;32m\"10\"\u001b[0m\u001b[1;39m\n",
      "        \u001b[1;39m}\u001b[0m\u001b[1;39m\n",
      "      \u001b[1;39m]\u001b[0m\u001b[1;39m\n",
      "    \u001b[1;39m}\u001b[0m\u001b[1;39m,\n",
      "    \u001b[1;39m{\n",
      "      \u001b[0m\u001b[34;1m\"module\"\u001b[0m\u001b[1;39m: \u001b[0m\u001b[0;32m\"r.in.gdal\"\u001b[0m\u001b[1;39m,\n",
      "      \u001b[0m\u001b[34;1m\"id\"\u001b[0m\u001b[1;39m: \u001b[0m\u001b[0;32m\"r.in.gdal_1804289383\"\u001b[0m\u001b[1;39m,\n",
      "      \u001b[0m\u001b[34;1m\"flags\"\u001b[0m\u001b[1;39m: \u001b[0m\u001b[0;32m\"r\"\u001b[0m\u001b[1;39m,\n",
      "      \u001b[0m\u001b[34;1m\"inputs\"\u001b[0m\u001b[1;39m: \u001b[0m\u001b[1;39m[\n",
      "        \u001b[1;39m{\n",
      "          \u001b[0m\u001b[34;1m\"param\"\u001b[0m\u001b[1;39m: \u001b[0m\u001b[0;32m\"input\"\u001b[0m\u001b[1;39m,\n",
      "          \u001b[0m\u001b[34;1m\"value\"\u001b[0m\u001b[1;39m: \u001b[0m\u001b[0;32m\"/vsicurl/https://storage.googleapis.com/tomorrownow-actinia-dev/nlcd/nlcd_2019_cog.tif\"\u001b[0m\u001b[1;39m\n",
      "        \u001b[1;39m}\u001b[0m\u001b[1;39m,\n",
      "        \u001b[1;39m{\n",
      "          \u001b[0m\u001b[34;1m\"param\"\u001b[0m\u001b[1;39m: \u001b[0m\u001b[0;32m\"memory\"\u001b[0m\u001b[1;39m,\n",
      "          \u001b[0m\u001b[34;1m\"value\"\u001b[0m\u001b[1;39m: \u001b[0m\u001b[0;32m\"300\"\u001b[0m\u001b[1;39m\n",
      "        \u001b[1;39m}\u001b[0m\u001b[1;39m,\n",
      "        \u001b[1;39m{\n",
      "          \u001b[0m\u001b[34;1m\"param\"\u001b[0m\u001b[1;39m: \u001b[0m\u001b[0;32m\"offset\"\u001b[0m\u001b[1;39m,\n",
      "          \u001b[0m\u001b[34;1m\"value\"\u001b[0m\u001b[1;39m: \u001b[0m\u001b[0;32m\"0\"\u001b[0m\u001b[1;39m\n",
      "        \u001b[1;39m}\u001b[0m\u001b[1;39m,\n",
      "        \u001b[1;39m{\n",
      "          \u001b[0m\u001b[34;1m\"param\"\u001b[0m\u001b[1;39m: \u001b[0m\u001b[0;32m\"num_digits\"\u001b[0m\u001b[1;39m,\n",
      "          \u001b[0m\u001b[34;1m\"value\"\u001b[0m\u001b[1;39m: \u001b[0m\u001b[0;32m\"0\"\u001b[0m\u001b[1;39m\n",
      "        \u001b[1;39m}\u001b[0m\u001b[1;39m\n",
      "      \u001b[1;39m]\u001b[0m\u001b[1;39m,\n",
      "      \u001b[0m\u001b[34;1m\"outputs\"\u001b[0m\u001b[1;39m: \u001b[0m\u001b[1;39m[\n",
      "        \u001b[1;39m{\n",
      "          \u001b[0m\u001b[34;1m\"param\"\u001b[0m\u001b[1;39m: \u001b[0m\u001b[0;32m\"output\"\u001b[0m\u001b[1;39m,\n",
      "          \u001b[0m\u001b[34;1m\"value\"\u001b[0m\u001b[1;39m: \u001b[0m\u001b[0;32m\"nlcd_2019_cog\"\u001b[0m\u001b[1;39m\n",
      "        \u001b[1;39m}\u001b[0m\u001b[1;39m\n",
      "      \u001b[1;39m]\u001b[0m\u001b[1;39m\n",
      "    \u001b[1;39m}\u001b[0m\u001b[1;39m,\n",
      "    \u001b[1;39m{\n",
      "      \u001b[0m\u001b[34;1m\"module\"\u001b[0m\u001b[1;39m: \u001b[0m\u001b[0;32m\"r.slope.aspect\"\u001b[0m\u001b[1;39m,\n",
      "      \u001b[0m\u001b[34;1m\"id\"\u001b[0m\u001b[1;39m: \u001b[0m\u001b[0;32m\"r.slope.aspect_1804289383\"\u001b[0m\u001b[1;39m,\n",
      "      \u001b[0m\u001b[34;1m\"inputs\"\u001b[0m\u001b[1;39m: \u001b[0m\u001b[1;39m[\n",
      "        \u001b[1;39m{\n",
      "          \u001b[0m\u001b[34;1m\"param\"\u001b[0m\u001b[1;39m: \u001b[0m\u001b[0;32m\"elevation\"\u001b[0m\u001b[1;39m,\n",
      "          \u001b[0m\u001b[34;1m\"value\"\u001b[0m\u001b[1;39m: \u001b[0m\u001b[0;32m\"3dep\"\u001b[0m\u001b[1;39m\n",
      "        \u001b[1;39m}\u001b[0m\u001b[1;39m,\n",
      "        \u001b[1;39m{\n",
      "          \u001b[0m\u001b[34;1m\"param\"\u001b[0m\u001b[1;39m: \u001b[0m\u001b[0;32m\"format\"\u001b[0m\u001b[1;39m,\n",
      "          \u001b[0m\u001b[34;1m\"value\"\u001b[0m\u001b[1;39m: \u001b[0m\u001b[0;32m\"degrees\"\u001b[0m\u001b[1;39m\n",
      "        \u001b[1;39m}\u001b[0m\u001b[1;39m,\n",
      "        \u001b[1;39m{\n",
      "          \u001b[0m\u001b[34;1m\"param\"\u001b[0m\u001b[1;39m: \u001b[0m\u001b[0;32m\"precision\"\u001b[0m\u001b[1;39m,\n",
      "          \u001b[0m\u001b[34;1m\"value\"\u001b[0m\u001b[1;39m: \u001b[0m\u001b[0;32m\"FCELL\"\u001b[0m\u001b[1;39m\n",
      "        \u001b[1;39m}\u001b[0m\u001b[1;39m,\n",
      "        \u001b[1;39m{\n",
      "          \u001b[0m\u001b[34;1m\"param\"\u001b[0m\u001b[1;39m: \u001b[0m\u001b[0;32m\"zscale\"\u001b[0m\u001b[1;39m,\n",
      "          \u001b[0m\u001b[34;1m\"value\"\u001b[0m\u001b[1;39m: \u001b[0m\u001b[0;32m\"1.0\"\u001b[0m\u001b[1;39m\n",
      "        \u001b[1;39m}\u001b[0m\u001b[1;39m,\n",
      "        \u001b[1;39m{\n",
      "          \u001b[0m\u001b[34;1m\"param\"\u001b[0m\u001b[1;39m: \u001b[0m\u001b[0;32m\"min_slope\"\u001b[0m\u001b[1;39m,\n",
      "          \u001b[0m\u001b[34;1m\"value\"\u001b[0m\u001b[1;39m: \u001b[0m\u001b[0;32m\"0.0\"\u001b[0m\u001b[1;39m\n",
      "        \u001b[1;39m}\u001b[0m\u001b[1;39m\n",
      "      \u001b[1;39m]\u001b[0m\u001b[1;39m,\n",
      "      \u001b[0m\u001b[34;1m\"outputs\"\u001b[0m\u001b[1;39m: \u001b[0m\u001b[1;39m[\n",
      "        \u001b[1;39m{\n",
      "          \u001b[0m\u001b[34;1m\"param\"\u001b[0m\u001b[1;39m: \u001b[0m\u001b[0;32m\"slope\"\u001b[0m\u001b[1;39m,\n",
      "          \u001b[0m\u001b[34;1m\"value\"\u001b[0m\u001b[1;39m: \u001b[0m\u001b[0;32m\"3dep_10m_slope\"\u001b[0m\u001b[1;39m\n",
      "        \u001b[1;39m}\u001b[0m\u001b[1;39m\n",
      "      \u001b[1;39m]\u001b[0m\u001b[1;39m\n",
      "    \u001b[1;39m}\u001b[0m\u001b[1;39m\n",
      "  \u001b[1;39m]\u001b[0m\u001b[1;39m\n",
      "\u001b[1;39m}\u001b[0m\n"
     ]
    }
   ],
   "source": [
    "!ace location=\"nc_spm_08\" mapset=\"basin_test\" script=\"./scripts/stac.sh\" -d | jq"
   ]
  },
  {
   "cell_type": "code",
   "execution_count": null,
   "id": "7da5416e-2526-4e46-b0d2-50ffb652956c",
   "metadata": {},
   "outputs": [],
   "source": [
    "!curl -u 'actinia-gdi:actinia-gdi' -X POST \"http://localhost:8088/api/v3/stac/collections\" -H \"Content-Type: application/json\" \\\n",
    "   -d '{\"stac_instance_id\": \"3dep\", \"stac_url\": \"https://planetarycomputer.microsoft.com/api/stac/v1/collections/3dep-seamless\"}' | jq"
   ]
  },
  {
   "cell_type": "code",
   "execution_count": 44,
   "id": "75d93eed-19da-45bd-816c-34853dacef72",
   "metadata": {},
   "outputs": [
    {
     "name": "stdout",
     "output_type": "stream",
     "text": [
      "1.4.0\n",
      "Key data\n",
      "USGS 1/3 arc-second n36w080 1 x 1 degree\n",
      "https://ai4edataeuwest.blob.core.windows.net/3dep/Elevation/13/TIFF/n36w080/USGS_13_n36w080.tif\n",
      "Key data\n",
      "USGS 1 arc-second n36w080 1 x 1 degree\n",
      "https://ai4edataeuwest.blob.core.windows.net/3dep/Elevation/1/TIFF/n36w080/USGS_1_n36w080.tif\n"
     ]
    }
   ],
   "source": [
    "from datetime import datetime\n",
    "\n",
    "import pystac\n",
    "print(pystac.__version__)\n",
    "\n",
    "from pystac.extensions.projection import ProjectionExtension\n",
    "from pystac.extensions.view import ViewExtension\n",
    "# from pystac.extensions.query import QueryExtension\n",
    "stac_name = \"3dep-seamless\"\n",
    "# bbox = [['597919.0778758611', '237972.1108290927', '604459.5119219327', '243782.34364209961']]\n",
    "# bbox = ['597919.0778758611', '237972.1108290927', '604459.5119219327', '243782.34364209961']\n",
    "bbox = ['-79.12940583962109', '35.89513100938877', '-79.05699434319902', '35.947553915652655']\n",
    "url = \"http://localhost:8088/api/v3/stac/collections/stac.3dep.rastercube.3dep-seamless\"\n",
    "interval = [['2021-09-09', '2021-09-12']]\n",
    "stac_from_actinia = requests.get(url, auth=ACTINIA_AUTH)\n",
    "stac_json = stac_from_actinia.json()\n",
    "# print(stac_json)\n",
    "stac_root_search=None\n",
    "for item in stac_json[\"links\"]:\n",
    "    if item[\"rel\"] == \"root\":\n",
    "        stac_url = item[\"href\"]\n",
    "        # print(stac_url)\n",
    "        if \"?\" in stac_url:\n",
    "            stac_url = stac_url.split(\"?\")[0]\n",
    "            # print(stac_url)\n",
    "            \n",
    "        if stac_url.endswith(\"/\"):\n",
    "            stac_root_search = stac_url + \"search\"\n",
    "        else:\n",
    "            stac_root_search = stac_url + \"/search\"\n",
    "       \n",
    "# print(stac_root_search)\n",
    "search_body = {\n",
    "    \"collections\": [stac_name],\n",
    "}\n",
    "# search_body[\"query\"] = filter\n",
    "\n",
    "search_body[\"bbox\"] = bbox\n",
    "\n",
    "search_body[\"interval\"] = interval\n",
    "# print(search_body)\n",
    "\n",
    "stac_search = requests.post(\n",
    "    stac_root_search,\n",
    "    json=search_body\n",
    ")\n",
    "\n",
    "# print(stac_search.content)\n",
    "\n",
    "full_filtered_result = stac_search.json()\n",
    "\n",
    "if \"features\" in full_filtered_result:\n",
    "    # full_filtered_result\n",
    "    \n",
    "    for feature in full_filtered_result['features']:\n",
    "        for key, value in feature[\"assets\"].items():\n",
    "            if key == 'data':\n",
    "                print('Key', key)\n",
    "                print(value['title'])\n",
    "                print(value['href'])\n",
    "           \n",
    "                    \n",
    "        # for name_id, url in value.items():\n",
    "        #     output_name = stac_name + \"_\" + key + \"_\" + name_id\n",
    "        #     # From Here Onwards, the Process build starts\n",
    "        #     exec_params = [\"input=%s\" % \"/vsicurl/\"+url,\"output=%s\" % output_name,\"-o\"]"
   ]
  },
  {
   "cell_type": "code",
   "execution_count": 45,
   "id": "61f7951c-be04-40c5-8009-7c73935e154e",
   "metadata": {},
   "outputs": [
    {
     "name": "stdout",
     "output_type": "stream",
     "text": [
      "Actinia importer module supporting raster and vector data.\n",
      "\n",
      "Usage:\n",
      " importer [raster=name] [vector=name] [--help] [--verbose] [--quiet]\n",
      "   [--ui]\n",
      "\n",
      "Parameters:\n",
      "  raster   Name of raster map to be imported by actinia\n",
      "  vector   Name of vector map to be imported by actinia\n"
     ]
    }
   ],
   "source": [
    "!importer --help"
   ]
  },
  {
   "cell_type": "code",
   "execution_count": 46,
   "id": "677e3254-1d79-4222-be44-0b1d31547a58",
   "metadata": {},
   "outputs": [],
   "source": [
    "!importer raster=USGS_13_n36w080@https://ai4edataeuwest.blob.core.windows.net/3dep/Elevation/13/TIFF/n36w080/USGS_13_n36w080.tif"
   ]
  },
  {
   "cell_type": "code",
   "execution_count": null,
   "id": "ca9b65d1-2a89-4661-834d-30bf1d093170",
   "metadata": {},
   "outputs": [],
   "source": []
  }
 ],
 "metadata": {
  "kernelspec": {
   "display_name": "Python 3 (ipykernel)",
   "language": "python",
   "name": "python3"
  },
  "language_info": {
   "codemirror_mode": {
    "name": "ipython",
    "version": 3
   },
   "file_extension": ".py",
   "mimetype": "text/x-python",
   "name": "python",
   "nbconvert_exporter": "python",
   "pygments_lexer": "ipython3",
   "version": "3.10.4"
  }
 },
 "nbformat": 4,
 "nbformat_minor": 5
}
