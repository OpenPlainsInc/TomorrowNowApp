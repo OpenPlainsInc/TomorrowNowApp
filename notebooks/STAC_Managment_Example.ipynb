{
 "cells": [
  {
   "cell_type": "code",
   "execution_count": 1,
   "id": "acc11fd0-613e-4f03-af70-1302a5aaa450",
   "metadata": {},
   "outputs": [],
   "source": [
    "# Import Python standard library and IPython packages we need.\n",
    "import os\n",
    "import subprocess\n",
    "import sys\n",
    "import csv\n",
    "import numpy as np\n",
    "import matplotlib.pyplot as plt\n",
    "from collections import defaultdict\n",
    "from pprint import pprint\n",
    "import json\n",
    "import time\n",
    "import requests\n",
    "from requests.auth import HTTPBasicAuth\n",
    "\n",
    "# Ask GRASS GIS where its Python packages are.\n",
    "gisbase = subprocess.check_output([\"grass\", \"--config\", \"path\"], text=True).strip()\n",
    "os.environ[\"GISBASE\"] = gisbase\n",
    "os.environ[\"ACTINIA_USER\"] = 'actinia-gdi'\n",
    "os.environ[\"ACTINIA_PASSWORD\"] = 'actinia-gdi'\n",
    "os.environ[\"AUTH\"] = 'actinia-gdi:actinia-gdi'\n",
    "os.environ[\"ACTINIA_URL\"] = 'http://localhost:8088'\n",
    "\n",
    "ACTINIA_VERSION = 'v3'\n",
    "ACTINIA_BASEURL = 'http://localhost:8088'\n",
    "ACTINIA_URL = ACTINIA_BASEURL + \"/api/\" + ACTINIA_VERSION\n",
    "ACTINIA_AUTH = HTTPBasicAuth(\"actinia-gdi\", \"actinia-gdi\")\n",
    "sys.path.append(os.path.join(gisbase, \"etc\", \"python\"))\n",
    "\n",
    "# Import the GRASS GIS packages we need.\n",
    "import grass.script as gs\n",
    "import grass.jupyter as gj\n",
    "\n",
    "# Start GRASS Session\n",
    "## Set your grass data location\n",
    "gj.init(\"../actinia-core-data/grassdb\", \"nc_spm_08\", \"PERMANENT\")"
   ]
  },
  {
   "cell_type": "markdown",
   "id": "8acf5f47-9a97-464e-981c-2b9d14c4d802",
   "metadata": {},
   "source": [
    "# Actinia STAC Managment"
   ]
  },
  {
   "cell_type": "markdown",
   "id": "8969ff17-9428-42d0-934a-8a135fe03173",
   "metadata": {},
   "source": [
    "Acinita is able to consume public and private Spatial Temporal Asset Catalogs (STAC)"
   ]
  },
  {
   "cell_type": "markdown",
   "id": "475e588a-cbc9-4876-a24f-6f0fa4e4773a",
   "metadata": {},
   "source": [
    "## View STAC instances\n",
    "\n",
    "Two Actinia routes seem to accomplish this task"
   ]
  },
  {
   "cell_type": "markdown",
   "id": "92d7bf03-5985-4bd3-89b4-d3c39748bd53",
   "metadata": {},
   "source": [
    "### /stac"
   ]
  },
  {
   "cell_type": "code",
   "execution_count": 2,
   "id": "f09a62d8-73b1-4397-8456-1a68411dda13",
   "metadata": {},
   "outputs": [
    {
     "name": "stdout",
     "output_type": "stream",
     "text": [
      "  % Total    % Received % Xferd  Average Speed   Time    Time     Time  Current\n",
      "                                 Dload  Upload   Total   Spent    Left  Speed\n",
      "100   136  100   136    0     0    473      0 --:--:-- --:--:-- --:--:--   472\n",
      "\u001b[1;39m{\n",
      "  \u001b[0m\u001b[34;1m\"defaultStac\"\u001b[0m\u001b[1;39m: \u001b[0m\u001b[1;39m{\n",
      "    \u001b[0m\u001b[34;1m\"path\"\u001b[0m\u001b[1;39m: \u001b[0m\u001b[0;32m\"stac.defaultStac.rastercube.<stac_collection_id>\"\u001b[0m\u001b[1;39m\n",
      "  \u001b[1;39m}\u001b[0m\u001b[1;39m,\n",
      "  \u001b[0m\u001b[34;1m\"naip\"\u001b[0m\u001b[1;39m: \u001b[0m\u001b[1;39m{\n",
      "    \u001b[0m\u001b[34;1m\"path\"\u001b[0m\u001b[1;39m: \u001b[0m\u001b[0;32m\"stac.naip.rastercube.<stac_collection_id>\"\u001b[0m\u001b[1;39m\n",
      "  \u001b[1;39m}\u001b[0m\u001b[1;39m\n",
      "\u001b[1;39m}\u001b[0m\n"
     ]
    }
   ],
   "source": [
    "!curl -u 'actinia-gdi:actinia-gdi' -X GET \"http://localhost:8088/api/v3/stac\" | jq"
   ]
  },
  {
   "cell_type": "markdown",
   "id": "edafe9d1-6ac9-4a61-b5cf-66a15f07cdb6",
   "metadata": {},
   "source": [
    "### /stac/instances"
   ]
  },
  {
   "cell_type": "code",
   "execution_count": 3,
   "id": "a0ff8f3d-3450-44f8-9b15-99e1947da6e5",
   "metadata": {},
   "outputs": [
    {
     "name": "stdout",
     "output_type": "stream",
     "text": [
      "  % Total    % Received % Xferd  Average Speed   Time    Time     Time  Current\n",
      "                                 Dload  Upload   Total   Spent    Left  Speed\n",
      "100   136  100   136    0     0    483      0 --:--:-- --:--:-- --:--:--   482\n",
      "\u001b[1;39m{\n",
      "  \u001b[0m\u001b[34;1m\"defaultStac\"\u001b[0m\u001b[1;39m: \u001b[0m\u001b[1;39m{\n",
      "    \u001b[0m\u001b[34;1m\"path\"\u001b[0m\u001b[1;39m: \u001b[0m\u001b[0;32m\"stac.defaultStac.rastercube.<stac_collection_id>\"\u001b[0m\u001b[1;39m\n",
      "  \u001b[1;39m}\u001b[0m\u001b[1;39m,\n",
      "  \u001b[0m\u001b[34;1m\"naip\"\u001b[0m\u001b[1;39m: \u001b[0m\u001b[1;39m{\n",
      "    \u001b[0m\u001b[34;1m\"path\"\u001b[0m\u001b[1;39m: \u001b[0m\u001b[0;32m\"stac.naip.rastercube.<stac_collection_id>\"\u001b[0m\u001b[1;39m\n",
      "  \u001b[1;39m}\u001b[0m\u001b[1;39m\n",
      "\u001b[1;39m}\u001b[0m\n"
     ]
    }
   ],
   "source": [
    "!curl -u 'actinia-gdi:actinia-gdi' -X GET \"http://localhost:8088/api/v3/stac/instances\" | jq"
   ]
  },
  {
   "cell_type": "markdown",
   "id": "36a4c4c2-25c8-4c4c-8bbb-c2327fcb83e7",
   "metadata": {},
   "source": [
    "## View STAC Catalogs"
   ]
  },
  {
   "cell_type": "markdown",
   "id": "07429804-a088-462a-8c0f-91908ba26c2f",
   "metadata": {},
   "source": [
    "### /stac/catalogs/catalog.json"
   ]
  },
  {
   "cell_type": "code",
   "execution_count": null,
   "id": "5353dc88-2833-4ef7-b5c9-e101b96aabc3",
   "metadata": {},
   "outputs": [],
   "source": [
    "!curl -u 'actinia-gdi:actinia-gdi' -X GET \"http://localhost:8088/api/v3/stac/catalogs/catalog.json\" | jq"
   ]
  },
  {
   "cell_type": "markdown",
   "id": "56ddea34-b50d-4591-91e0-391f69d15f81",
   "metadata": {},
   "source": [
    "## View STAC collections"
   ]
  },
  {
   "cell_type": "markdown",
   "id": "ab497df5-8c78-4619-a976-0c1abb4d04df",
   "metadata": {},
   "source": [
    "STAC collection spec [https://github.com/radiantearth/stac-spec/blob/master/collection-spec/collection-spec.md](https://github.com/radiantearth/stac-spec/blob/master/collection-spec/collection-spec.md)"
   ]
  },
  {
   "cell_type": "markdown",
   "id": "e7625324-b8bb-4d99-befb-ea7e1d1a2f02",
   "metadata": {},
   "source": [
    "### /stac/collections"
   ]
  },
  {
   "cell_type": "code",
   "execution_count": null,
   "id": "afa2f5ea-335f-4b1c-9178-24f7c47c9043",
   "metadata": {},
   "outputs": [],
   "source": [
    "!curl -u 'actinia-gdi:actinia-gdi' -X GET \"http://localhost:8088/api/v3/stac/collections\" | jq"
   ]
  },
  {
   "cell_type": "markdown",
   "id": "75a31a46-5ab9-4017-80ba-3fd17f26bd56",
   "metadata": {},
   "source": [
    "## View STAC collection"
   ]
  },
  {
   "cell_type": "markdown",
   "id": "8880b70c-7fc4-46ee-985e-c77dc5ab0a13",
   "metadata": {},
   "source": [
    "### /stac/collections/{stac_collection_id}"
   ]
  },
  {
   "cell_type": "code",
   "execution_count": null,
   "id": "3c6a287a-c66e-4ed3-a0e7-76503deb8a0a",
   "metadata": {},
   "outputs": [],
   "source": [
    "!curl -u 'actinia-gdi:actinia-gdi' -X GET \"http://localhost:8088/api/v3/stac/collections/stac.defaultStac.rastercube.landsat-8-l1-c1\" | jq"
   ]
  },
  {
   "cell_type": "markdown",
   "id": "c7da5890-8ee4-44db-b102-b36fe52f22b9",
   "metadata": {},
   "source": [
    "# Demo"
   ]
  },
  {
   "cell_type": "markdown",
   "id": "dd8189ae-b7c1-4484-8c6c-c37107d3cc54",
   "metadata": {},
   "source": [
    "We will now add the Planet SkySat STAC from [https://stacindex.org/catalogs/planet-labs-stac-catalog#/](https://stacindex.org/catalogs/planet-labs-stac-catalog#/)"
   ]
  },
  {
   "cell_type": "markdown",
   "id": "b0a1e7be-9c58-4784-8673-173450f9a926",
   "metadata": {},
   "source": [
    "## 1) Add new STAC instance"
   ]
  },
  {
   "cell_type": "code",
   "execution_count": 15,
   "id": "be42e9fc-90e2-46c2-ba91-d86a777dd0b9",
   "metadata": {},
   "outputs": [
    {
     "name": "stdout",
     "output_type": "stream",
     "text": [
      "  % Total    % Received % Xferd  Average Speed   Time    Time     Time  Current\n",
      "                                 Dload  Upload   Total   Spent    Left  Speed\n",
      "100   103  100    73  100    30    231     95 --:--:-- --:--:-- --:--:--   326\n",
      "\u001b[1;39m{\n",
      "  \u001b[0m\u001b[34;1m\"StacInstance\"\u001b[0m\u001b[1;39m: \u001b[0m\u001b[1;39m{}\u001b[0m\u001b[1;39m,\n",
      "  \u001b[0m\u001b[34;1m\"message\"\u001b[0m\u001b[1;39m: \u001b[0m\u001b[0;32m\"The Instance has been added successfully\"\u001b[0m\u001b[1;39m\n",
      "\u001b[1;39m}\u001b[0m\n"
     ]
    }
   ],
   "source": [
    "!curl -u 'actinia-gdi:actinia-gdi' -X POST \"http://localhost:8088/api/v3/stac/instances/\" -H \"Content-Type: application/json\" \\\n",
    "   -d '{\"stac_instance_id\": \"planet\"}' | jq"
   ]
  },
  {
   "cell_type": "markdown",
   "id": "ea033b68-95c4-4ed8-8dce-b95b907e73c6",
   "metadata": {},
   "source": [
    "Now lets view the new instance by requesting it with the **/stac/instances/{stac_instance_id}** GET request."
   ]
  },
  {
   "cell_type": "code",
   "execution_count": 13,
   "id": "4daee352-bb0c-44fe-a4e3-39708b6f1705",
   "metadata": {},
   "outputs": [
    {
     "name": "stdout",
     "output_type": "stream",
     "text": [
      "  % Total    % Received % Xferd  Average Speed   Time    Time     Time  Current\n",
      "                                 Dload  Upload   Total   Spent    Left  Speed\n",
      "100     3  100     3    0     0     10      0 --:--:-- --:--:-- --:--:--    10\n",
      "\u001b[1;39m{}\u001b[0m\n"
     ]
    }
   ],
   "source": [
    "!curl -u 'actinia-gdi:actinia-gdi' -X GET \"http://localhost:8088/api/v3/stac/instances/usgs\" | jq"
   ]
  },
  {
   "cell_type": "markdown",
   "id": "f3a45939-8118-4223-82e3-16ffdb6365f0",
   "metadata": {},
   "source": [
    "The request should return an empty response object because we have not added any collections to the data yet."
   ]
  },
  {
   "cell_type": "markdown",
   "id": "27e1d6c4-f4ee-4b16-9a73-04723b139c56",
   "metadata": {},
   "source": [
    "## 2) Add a new collection to an instance"
   ]
  },
  {
   "cell_type": "markdown",
   "id": "7cac75b8-bf4e-4ec7-a336-0e70b4a5fd9d",
   "metadata": {},
   "source": [
    "To add a new collect to the opentopography instace we need to make a POST request to the **/stac/collections** routes specifying the `stac_instance_id` and setting the `stac_url`."
   ]
  },
  {
   "cell_type": "markdown",
   "id": "4c33f045-85a7-4d63-966a-31e985b07c11",
   "metadata": {},
   "source": [
    "In our case the `stac_instance_id = opentopography` and the `stac_url = https://www.planet.com/data/stac/open-skysat-data/collection.json`\n",
    "\n",
    "The request body will look like \n",
    "\n",
    "```json\n",
    "{\n",
    "    \"stac_instance_id\": \"opentopography\", \n",
    "    \"stac_url\": \"https://www.planet.com/data/stac/open-skysat-data/collection.json\"}\n",
    "}\n",
    "```"
   ]
  },
  {
   "cell_type": "code",
   "execution_count": 16,
   "id": "3521eec1-7a6d-4b43-ac45-954dd8c614bc",
   "metadata": {},
   "outputs": [
    {
     "name": "stdout",
     "output_type": "stream",
     "text": [
      "  % Total    % Received % Xferd  Average Speed   Time    Time     Time  Current\n",
      "                                 Dload  Upload   Total   Spent    Left  Speed\n",
      "100   388  100   277  100   111    160     64  0:00:01  0:00:01 --:--:--   225\n",
      "\u001b[1;39m{\n",
      "  \u001b[0m\u001b[34;1m\"StacCollection\"\u001b[0m\u001b[1;39m: \u001b[0m\u001b[1;39m{\n",
      "    \u001b[0m\u001b[34;1m\"stac.planet.rastercube.planet-stac-skysat\"\u001b[0m\u001b[1;39m: \u001b[0m\u001b[1;39m{\n",
      "      \u001b[0m\u001b[34;1m\"href\"\u001b[0m\u001b[1;39m: \u001b[0m\u001b[0;32m\"api/v3/stac/collections/stac.planet.rastercube.planet-stac-skysat\"\u001b[0m\u001b[1;39m,\n",
      "      \u001b[0m\u001b[34;1m\"root\"\u001b[0m\u001b[1;39m: \u001b[0m\u001b[0;32m\"https://www.planet.com/data/stac/open-skysat-data/collection.json\"\u001b[0m\u001b[1;39m\n",
      "    \u001b[1;39m}\u001b[0m\u001b[1;39m\n",
      "  \u001b[1;39m}\u001b[0m\u001b[1;39m,\n",
      "  \u001b[0m\u001b[34;1m\"message\"\u001b[0m\u001b[1;39m: \u001b[0m\u001b[0;32m\"The STAC Collection has been added successfully\"\u001b[0m\u001b[1;39m\n",
      "\u001b[1;39m}\u001b[0m\n"
     ]
    }
   ],
   "source": [
    "!curl -u 'actinia-gdi:actinia-gdi' -X POST \"http://localhost:8088/api/v3/stac/collections\" -H \"Content-Type: application/json\" \\\n",
    "   -d '{\"stac_instance_id\": \"planet\", \"stac_url\": \"https://www.planet.com/data/stac/open-skysat-data/collection.json\"}' | jq"
   ]
  },
  {
   "cell_type": "markdown",
   "id": "8e11ace5-1622-4726-bdd3-c2ab4c94b928",
   "metadata": {},
   "source": [
    "## 3) View the new collection"
   ]
  },
  {
   "cell_type": "markdown",
   "id": "caa61d27-5dd4-4414-b773-9ebd235b5e04",
   "metadata": {},
   "source": [
    "Now lets view the new collection using the GET **/stac/collections/{stac_collection_id}** by setting the route `stac_collection_id` route parameter to `stac.planet.rastercube.planet-stac-skysat`."
   ]
  },
  {
   "cell_type": "code",
   "execution_count": 18,
   "id": "eb189657-6f91-4fca-87ea-68a219f99159",
   "metadata": {},
   "outputs": [
    {
     "name": "stdout",
     "output_type": "stream",
     "text": [
      "  % Total    % Received % Xferd  Average Speed   Time    Time     Time  Current\n",
      "                                 Dload  Upload   Total   Spent    Left  Speed\n",
      "100  2485  100  2485    0     0   8875      0 --:--:-- --:--:-- --:--:--  8875\n",
      "\u001b[1;39m{\n",
      "  \u001b[0m\u001b[34;1m\"description\"\u001b[0m\u001b[1;39m: \u001b[0m\u001b[0;32m\"A Catalog of SkySat Data Collected for Winners of the Cloud Native Geospatial Awards. All data CC-BY 4.0\"\u001b[0m\u001b[1;39m,\n",
      "  \u001b[0m\u001b[34;1m\"extent\"\u001b[0m\u001b[1;39m: \u001b[0m\u001b[1;39m{\n",
      "    \u001b[0m\u001b[34;1m\"spatial\"\u001b[0m\u001b[1;39m: \u001b[0m\u001b[1;39m{\n",
      "      \u001b[0m\u001b[34;1m\"bbox\"\u001b[0m\u001b[1;39m: \u001b[0m\u001b[1;39m[\n",
      "        \u001b[1;39m[\n",
      "          \u001b[0;39m-4.185538368682979\u001b[0m\u001b[1;39m,\n",
      "          \u001b[0;39m0.2693073386275247\u001b[0m\u001b[1;39m,\n",
      "          \u001b[0;39m172.95515019320533\u001b[0m\u001b[1;39m,\n",
      "          \u001b[0;39m21.89915173899179\u001b[0m\u001b[1;39m\n",
      "        \u001b[1;39m]\u001b[0m\u001b[1;39m\n",
      "      \u001b[1;39m]\u001b[0m\u001b[1;39m\n",
      "    \u001b[1;39m}\u001b[0m\u001b[1;39m,\n",
      "    \u001b[0m\u001b[34;1m\"temporal\"\u001b[0m\u001b[1;39m: \u001b[0m\u001b[1;39m{\n",
      "      \u001b[0m\u001b[34;1m\"interval\"\u001b[0m\u001b[1;39m: \u001b[0m\u001b[1;39m[\n",
      "        \u001b[1;39m[\n",
      "          \u001b[0;32m\"2020-12-11T10:30:40.625000Z\"\u001b[0m\u001b[1;39m,\n",
      "          \u001b[0;32m\"2020-12-13T08:34:52.312000Z\"\u001b[0m\u001b[1;39m\n",
      "        \u001b[1;39m]\u001b[0m\u001b[1;39m\n",
      "      \u001b[1;39m]\u001b[0m\u001b[1;39m\n",
      "    \u001b[1;39m}\u001b[0m\u001b[1;39m\n",
      "  \u001b[1;39m}\u001b[0m\u001b[1;39m,\n",
      "  \u001b[0m\u001b[34;1m\"id\"\u001b[0m\u001b[1;39m: \u001b[0m\u001b[0;32m\"stac.planet.rastercube.planet-stac-skysat\"\u001b[0m\u001b[1;39m,\n",
      "  \u001b[0m\u001b[34;1m\"license\"\u001b[0m\u001b[1;39m: \u001b[0m\u001b[0;32m\"CC-BY-4.0\"\u001b[0m\u001b[1;39m,\n",
      "  \u001b[0m\u001b[34;1m\"links\"\u001b[0m\u001b[1;39m: \u001b[0m\u001b[1;39m[\n",
      "    \u001b[1;39m{\n",
      "      \u001b[0m\u001b[34;1m\"href\"\u001b[0m\u001b[1;39m: \u001b[0m\u001b[0;32m\"https://www.planet.com/data/stac/catalog.json\"\u001b[0m\u001b[1;39m,\n",
      "      \u001b[0m\u001b[34;1m\"rel\"\u001b[0m\u001b[1;39m: \u001b[0m\u001b[0;32m\"root\"\u001b[0m\u001b[1;39m,\n",
      "      \u001b[0m\u001b[34;1m\"type\"\u001b[0m\u001b[1;39m: \u001b[0m\u001b[0;32m\"application/json\"\u001b[0m\u001b[1;39m\n",
      "    \u001b[1;39m}\u001b[0m\u001b[1;39m,\n",
      "    \u001b[1;39m{\n",
      "      \u001b[0m\u001b[34;1m\"href\"\u001b[0m\u001b[1;39m: \u001b[0m\u001b[0;32m\"https://www.planet.com/data/stac/open-skysat-data/20201211_223832_ssc4_u0001/20201211_223832_ssc4_u0001.json\"\u001b[0m\u001b[1;39m,\n",
      "      \u001b[0m\u001b[34;1m\"rel\"\u001b[0m\u001b[1;39m: \u001b[0m\u001b[0;32m\"item\"\u001b[0m\u001b[1;39m,\n",
      "      \u001b[0m\u001b[34;1m\"title\"\u001b[0m\u001b[1;39m: \u001b[0m\u001b[0;32m\"Betio, Kiribati\"\u001b[0m\u001b[1;39m,\n",
      "      \u001b[0m\u001b[34;1m\"type\"\u001b[0m\u001b[1;39m: \u001b[0m\u001b[0;32m\"application/json\"\u001b[0m\u001b[1;39m\n",
      "    \u001b[1;39m}\u001b[0m\u001b[1;39m,\n",
      "    \u001b[1;39m{\n",
      "      \u001b[0m\u001b[34;1m\"href\"\u001b[0m\u001b[1;39m: \u001b[0m\u001b[0;32m\"https://www.planet.com/data/stac/open-skysat-data/20201213_083452_ssc1_u0001/20201213_083452_ssc1_u0001.json\"\u001b[0m\u001b[1;39m,\n",
      "      \u001b[0m\u001b[34;1m\"rel\"\u001b[0m\u001b[1;39m: \u001b[0m\u001b[0;32m\"item\"\u001b[0m\u001b[1;39m,\n",
      "      \u001b[0m\u001b[34;1m\"title\"\u001b[0m\u001b[1;39m: \u001b[0m\u001b[0;32m\"Kampala, Uganda\"\u001b[0m\u001b[1;39m,\n",
      "      \u001b[0m\u001b[34;1m\"type\"\u001b[0m\u001b[1;39m: \u001b[0m\u001b[0;32m\"application/json\"\u001b[0m\u001b[1;39m\n",
      "    \u001b[1;39m}\u001b[0m\u001b[1;39m,\n",
      "    \u001b[1;39m{\n",
      "      \u001b[0m\u001b[34;1m\"href\"\u001b[0m\u001b[1;39m: \u001b[0m\u001b[0;32m\"https://www.planet.com/data/stac/open-skysat-data/20201211_103040_ssc12_u0001/20201211_103040_ssc12_u0001.json\"\u001b[0m\u001b[1;39m,\n",
      "      \u001b[0m\u001b[34;1m\"rel\"\u001b[0m\u001b[1;39m: \u001b[0m\u001b[0;32m\"item\"\u001b[0m\u001b[1;39m,\n",
      "      \u001b[0m\u001b[34;1m\"title\"\u001b[0m\u001b[1;39m: \u001b[0m\u001b[0;32m\"Ouro-Daiébé, Mopti, Mali\"\u001b[0m\u001b[1;39m,\n",
      "      \u001b[0m\u001b[34;1m\"type\"\u001b[0m\u001b[1;39m: \u001b[0m\u001b[0;32m\"application/json\"\u001b[0m\u001b[1;39m\n",
      "    \u001b[1;39m}\u001b[0m\u001b[1;39m,\n",
      "    \u001b[1;39m{\n",
      "      \u001b[0m\u001b[34;1m\"href\"\u001b[0m\u001b[1;39m: \u001b[0m\u001b[0;32m\"https://www.planet.com/data/stac/open-skysat-data/20201213_045438_ss01_u0001/20201213_045438_ss01_u0001.json\"\u001b[0m\u001b[1;39m,\n",
      "      \u001b[0m\u001b[34;1m\"rel\"\u001b[0m\u001b[1;39m: \u001b[0m\u001b[0;32m\"item\"\u001b[0m\u001b[1;39m,\n",
      "      \u001b[0m\u001b[34;1m\"title\"\u001b[0m\u001b[1;39m: \u001b[0m\u001b[0;32m\"Sundarbans, India\"\u001b[0m\u001b[1;39m,\n",
      "      \u001b[0m\u001b[34;1m\"type\"\u001b[0m\u001b[1;39m: \u001b[0m\u001b[0;32m\"application/json\"\u001b[0m\u001b[1;39m\n",
      "    \u001b[1;39m}\u001b[0m\u001b[1;39m,\n",
      "    \u001b[1;39m{\n",
      "      \u001b[0m\u001b[34;1m\"href\"\u001b[0m\u001b[1;39m: \u001b[0m\u001b[0;32m\"https://www.planet.com/data/stac/open-skysat-data/sp-crater/catalog.json\"\u001b[0m\u001b[1;39m,\n",
      "      \u001b[0m\u001b[34;1m\"rel\"\u001b[0m\u001b[1;39m: \u001b[0m\u001b[0;32m\"child\"\u001b[0m\u001b[1;39m,\n",
      "      \u001b[0m\u001b[34;1m\"title\"\u001b[0m\u001b[1;39m: \u001b[0m\u001b[0;32m\"SP Crater, Arizona, United States\"\u001b[0m\u001b[1;39m,\n",
      "      \u001b[0m\u001b[34;1m\"type\"\u001b[0m\u001b[1;39m: \u001b[0m\u001b[0;32m\"application/json\"\u001b[0m\u001b[1;39m\n",
      "    \u001b[1;39m}\u001b[0m\u001b[1;39m,\n",
      "    \u001b[1;39m{\n",
      "      \u001b[0m\u001b[34;1m\"href\"\u001b[0m\u001b[1;39m: \u001b[0m\u001b[0;32m\"https://www.planet.com/data/stac/open-skysat-data/san-francisco/catalog.json\"\u001b[0m\u001b[1;39m,\n",
      "      \u001b[0m\u001b[34;1m\"rel\"\u001b[0m\u001b[1;39m: \u001b[0m\u001b[0;32m\"child\"\u001b[0m\u001b[1;39m,\n",
      "      \u001b[0m\u001b[34;1m\"title\"\u001b[0m\u001b[1;39m: \u001b[0m\u001b[0;32m\"San Francisco, United States\"\u001b[0m\u001b[1;39m,\n",
      "      \u001b[0m\u001b[34;1m\"type\"\u001b[0m\u001b[1;39m: \u001b[0m\u001b[0;32m\"application/json\"\u001b[0m\u001b[1;39m\n",
      "    \u001b[1;39m}\u001b[0m\u001b[1;39m,\n",
      "    \u001b[1;39m{\n",
      "      \u001b[0m\u001b[34;1m\"href\"\u001b[0m\u001b[1;39m: \u001b[0m\u001b[0;32m\"https://www.planet.com/data/stac/open-skysat-data/cocabamba-peru/catalog.json\"\u001b[0m\u001b[1;39m,\n",
      "      \u001b[0m\u001b[34;1m\"rel\"\u001b[0m\u001b[1;39m: \u001b[0m\u001b[0;32m\"child\"\u001b[0m\u001b[1;39m,\n",
      "      \u001b[0m\u001b[34;1m\"title\"\u001b[0m\u001b[1;39m: \u001b[0m\u001b[0;32m\"Cocabamba, Perú\"\u001b[0m\u001b[1;39m,\n",
      "      \u001b[0m\u001b[34;1m\"type\"\u001b[0m\u001b[1;39m: \u001b[0m\u001b[0;32m\"application/json\"\u001b[0m\u001b[1;39m\n",
      "    \u001b[1;39m}\u001b[0m\u001b[1;39m,\n",
      "    \u001b[1;39m{\n",
      "      \u001b[0m\u001b[34;1m\"href\"\u001b[0m\u001b[1;39m: \u001b[0m\u001b[0;32m\"https://www.planet.com/data/stac/open-skysat-data/angkor-wat/catalog.json\"\u001b[0m\u001b[1;39m,\n",
      "      \u001b[0m\u001b[34;1m\"rel\"\u001b[0m\u001b[1;39m: \u001b[0m\u001b[0;32m\"child\"\u001b[0m\u001b[1;39m,\n",
      "      \u001b[0m\u001b[34;1m\"title\"\u001b[0m\u001b[1;39m: \u001b[0m\u001b[0;32m\"Angkor Wat, Cambodia\"\u001b[0m\u001b[1;39m,\n",
      "      \u001b[0m\u001b[34;1m\"type\"\u001b[0m\u001b[1;39m: \u001b[0m\u001b[0;32m\"application/json\"\u001b[0m\u001b[1;39m\n",
      "    \u001b[1;39m}\u001b[0m\u001b[1;39m,\n",
      "    \u001b[1;39m{\n",
      "      \u001b[0m\u001b[34;1m\"href\"\u001b[0m\u001b[1;39m: \u001b[0m\u001b[0;32m\"https://www.planet.com/data/stac/open-skysat-data/walvis-bay/catalog.json\"\u001b[0m\u001b[1;39m,\n",
      "      \u001b[0m\u001b[34;1m\"rel\"\u001b[0m\u001b[1;39m: \u001b[0m\u001b[0;32m\"child\"\u001b[0m\u001b[1;39m,\n",
      "      \u001b[0m\u001b[34;1m\"title\"\u001b[0m\u001b[1;39m: \u001b[0m\u001b[0;32m\"Walvis Bay, Namibia\"\u001b[0m\u001b[1;39m,\n",
      "      \u001b[0m\u001b[34;1m\"type\"\u001b[0m\u001b[1;39m: \u001b[0m\u001b[0;32m\"application/json\"\u001b[0m\u001b[1;39m\n",
      "    \u001b[1;39m}\u001b[0m\u001b[1;39m,\n",
      "    \u001b[1;39m{\n",
      "      \u001b[0m\u001b[34;1m\"href\"\u001b[0m\u001b[1;39m: \u001b[0m\u001b[0;32m\"https://www.planet.com/data/stac/open-skysat-data/collection.json\"\u001b[0m\u001b[1;39m,\n",
      "      \u001b[0m\u001b[34;1m\"rel\"\u001b[0m\u001b[1;39m: \u001b[0m\u001b[0;32m\"self\"\u001b[0m\u001b[1;39m,\n",
      "      \u001b[0m\u001b[34;1m\"type\"\u001b[0m\u001b[1;39m: \u001b[0m\u001b[0;32m\"application/json\"\u001b[0m\u001b[1;39m\n",
      "    \u001b[1;39m}\u001b[0m\u001b[1;39m\n",
      "  \u001b[1;39m]\u001b[0m\u001b[1;39m,\n",
      "  \u001b[0m\u001b[34;1m\"providers\"\u001b[0m\u001b[1;39m: \u001b[0m\u001b[1;39m[\n",
      "    \u001b[1;39m{\n",
      "      \u001b[0m\u001b[34;1m\"description\"\u001b[0m\u001b[1;39m: \u001b[0m\u001b[0;32m\"Contact Planet at [planet.com/contact-sales](https://www.planet.com/contact-sales/)\"\u001b[0m\u001b[1;39m,\n",
      "      \u001b[0m\u001b[34;1m\"name\"\u001b[0m\u001b[1;39m: \u001b[0m\u001b[0;32m\"Planet\"\u001b[0m\u001b[1;39m,\n",
      "      \u001b[0m\u001b[34;1m\"roles\"\u001b[0m\u001b[1;39m: \u001b[0m\u001b[1;39m[\n",
      "        \u001b[0;32m\"producer\"\u001b[0m\u001b[1;39m,\n",
      "        \u001b[0;32m\"processor\"\u001b[0m\u001b[1;39m\n",
      "      \u001b[1;39m]\u001b[0m\u001b[1;39m,\n",
      "      \u001b[0m\u001b[34;1m\"url\"\u001b[0m\u001b[1;39m: \u001b[0m\u001b[0;32m\"https://www.planet.com\"\u001b[0m\u001b[1;39m\n",
      "    \u001b[1;39m}\u001b[0m\u001b[1;39m\n",
      "  \u001b[1;39m]\u001b[0m\u001b[1;39m,\n",
      "  \u001b[0m\u001b[34;1m\"stac_extensions\"\u001b[0m\u001b[1;39m: \u001b[0m\u001b[1;39m[]\u001b[0m\u001b[1;39m,\n",
      "  \u001b[0m\u001b[34;1m\"stac_version\"\u001b[0m\u001b[1;39m: \u001b[0m\u001b[0;32m\"1.0.0\"\u001b[0m\u001b[1;39m,\n",
      "  \u001b[0m\u001b[34;1m\"title\"\u001b[0m\u001b[1;39m: \u001b[0m\u001b[0;32m\"Open SkySat Data from CNG Awards\"\u001b[0m\u001b[1;39m,\n",
      "  \u001b[0m\u001b[34;1m\"type\"\u001b[0m\u001b[1;39m: \u001b[0m\u001b[0;32m\"Collection\"\u001b[0m\u001b[1;39m\n",
      "\u001b[1;39m}\u001b[0m\n"
     ]
    }
   ],
   "source": [
    "!curl -u 'actinia-gdi:actinia-gdi' -X GET \"http://localhost:8088/api/v3/stac/collections/stac.planet.rastercube.planet-stac-skysat\" | jq"
   ]
  },
  {
   "cell_type": "code",
   "execution_count": null,
   "id": "5cccde97-5df2-4aa2-b921-fb11462baf9b",
   "metadata": {},
   "outputs": [],
   "source": []
  }
 ],
 "metadata": {
  "kernelspec": {
   "display_name": "Python 3",
   "language": "python",
   "name": "python3"
  },
  "language_info": {
   "codemirror_mode": {
    "name": "ipython",
    "version": 3
   },
   "file_extension": ".py",
   "mimetype": "text/x-python",
   "name": "python",
   "nbconvert_exporter": "python",
   "pygments_lexer": "ipython3",
   "version": "3.8.10"
  }
 },
 "nbformat": 4,
 "nbformat_minor": 5
}
