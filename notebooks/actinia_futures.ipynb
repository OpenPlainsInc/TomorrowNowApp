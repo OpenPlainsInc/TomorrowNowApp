{
 "cells": [
  {
   "cell_type": "markdown",
   "id": "8307ce54-77b4-435e-a8f8-c4ff362f44dc",
   "metadata": {},
   "source": [
    "# Actinia FUTURES Demo"
   ]
  },
  {
   "cell_type": "code",
   "execution_count": 2,
   "id": "40904436-41cb-4d3c-8af5-bb2b7c0d0922",
   "metadata": {
    "tags": []
   },
   "outputs": [
    {
     "data": {
      "text/plain": [
       "<grass.jupyter.setup._JupyterGlobalSession at 0x7f6b3358bf10>"
      ]
     },
     "execution_count": 2,
     "metadata": {},
     "output_type": "execute_result"
    }
   ],
   "source": [
    "# Import Python standard library and IPython packages we need.\n",
    "import os\n",
    "import subprocess\n",
    "import sys\n",
    "import csv\n",
    "import numpy as np\n",
    "import matplotlib.pyplot as plt\n",
    "from collections import defaultdict\n",
    "from pprint import pprint\n",
    "import json\n",
    "import time\n",
    "import requests\n",
    "from requests.auth import HTTPBasicAuth\n",
    "\n",
    "# Ask GRASS GIS where its Python packages are.\n",
    "gisbase = subprocess.check_output([\"grass\", \"--config\", \"path\"], text=True).strip()\n",
    "os.environ[\"GISBASE\"] = gisbase\n",
    "os.environ[\"ACTINIA_USER\"] = 'actinia-gdi'\n",
    "os.environ[\"ACTINIA_PASSWORD\"] = 'actinia-gdi'\n",
    "os.environ[\"AUTH\"] = 'actinia-gdi:actinia-gdi'\n",
    "os.environ[\"ACTINIA_URL\"] = 'http://localhost:8088'\n",
    "\n",
    "ACTINIA_VERSION = 'v3'\n",
    "ACTINIA_BASEURL = 'http://localhost:8088'\n",
    "ACTINIA_URL = ACTINIA_BASEURL + \"/api/\" + ACTINIA_VERSION\n",
    "ACTINIA_AUTH = HTTPBasicAuth(\"actinia-gdi\", \"actinia-gdi\")\n",
    "sys.path.append(os.path.join(gisbase, \"etc\", \"python\"))\n",
    "\n",
    "# Import the GRASS GIS packages we need.\n",
    "import grass.script as gs\n",
    "import grass.jupyter as gj\n",
    "\n",
    "# Start GRASS Session\n",
    "## Set your grass data location\n",
    "gj.init(\"../actinia-core-data/grassdb\", \"nc_spm_08\", \"PERMANENT\")"
   ]
  },
  {
   "cell_type": "code",
   "execution_count": 3,
   "id": "ed4c0eb2-95b1-45ff-8d9f-6c29ee0b8e3b",
   "metadata": {},
   "outputs": [],
   "source": [
    "def print_as_json(data):\n",
    "    print(json.dumps(data, indent=2))"
   ]
  },
  {
   "cell_type": "code",
   "execution_count": 4,
   "id": "e1b23ac1-5ff3-4254-b517-e9f72399c77d",
   "metadata": {},
   "outputs": [
    {
     "data": {
      "text/plain": [
       "{'aspect': None,\n",
       " 'basin_50K': None,\n",
       " 'boundary_county_500m': None,\n",
       " 'cfactorbare_1m': None,\n",
       " 'cfactorgrow_1m': None,\n",
       " 'el_D782_6m': None,\n",
       " 'el_D783_6m': None,\n",
       " 'el_D792_6m': None,\n",
       " 'el_D793_6m': None,\n",
       " 'elev_lid792_1m': None,\n",
       " 'elev_ned_30m': None,\n",
       " 'elev_srtm_30m': None,\n",
       " 'elev_state_500m': None,\n",
       " 'elevation': None,\n",
       " 'elevation_shade': None,\n",
       " 'facility': None,\n",
       " 'geology_30m': None,\n",
       " 'lakes': None,\n",
       " 'landclass96': None,\n",
       " 'landcover_1m': None,\n",
       " 'landuse96_28m': None,\n",
       " 'lsat7_2002_10': None,\n",
       " 'lsat7_2002_20': None,\n",
       " 'lsat7_2002_30': None,\n",
       " 'lsat7_2002_40': None,\n",
       " 'lsat7_2002_50': None,\n",
       " 'lsat7_2002_61': None,\n",
       " 'lsat7_2002_62': None,\n",
       " 'lsat7_2002_70': None,\n",
       " 'lsat7_2002_80': None,\n",
       " 'ncmask_500m': None,\n",
       " 'ortho_2001_t792_1m': None,\n",
       " 'roadsmajor': None,\n",
       " 'slope': None,\n",
       " 'soilsID': None,\n",
       " 'soils_Kfactor': None,\n",
       " 'streams_derived': None,\n",
       " 'towns': None,\n",
       " 'urban': None,\n",
       " 'zipcodes': None,\n",
       " 'zipcodes_dbl': None}"
      ]
     },
     "execution_count": 4,
     "metadata": {},
     "output_type": "execute_result"
    }
   ],
   "source": [
    "gs.parse_command(\"g.list\", type=\"raster\")"
   ]
  },
  {
   "cell_type": "markdown",
   "id": "5503ab62-1d84-41a8-97c4-b155f56d2025",
   "metadata": {},
   "source": [
    "## Actinia Extension"
   ]
  },
  {
   "cell_type": "code",
   "execution_count": 54,
   "id": "cd3c98ff-62df-487a-b656-d3fac5d1f01d",
   "metadata": {},
   "outputs": [
    {
     "name": "stdout",
     "output_type": "stream",
     "text": [
      "Trying to create mapset test_ms\n",
      "{'accept_datetime': '2022-03-22 19:41:59.416692',\n",
      " 'accept_timestamp': 1647978119.4166865,\n",
      " 'api_info': {'endpoint': 'mapsetmanagementresourceadmin',\n",
      "              'method': 'POST',\n",
      "              'path': '/api/v3/locations/nc_spm_08/mapsets/test_ms',\n",
      "              'request_url': 'http://localhost:8088/api/v3/locations/nc_spm_08/mapsets/test_ms'},\n",
      " 'datetime': '2022-03-22 19:41:59.602279',\n",
      " 'http_code': 200,\n",
      " 'message': 'Mapset <test_ms> successfully created.',\n",
      " 'process_chain_list': [{'1': {'flags': 'l', 'module': 'g.mapsets'}}],\n",
      " 'process_log': [{'executable': 'g.mapsets',\n",
      "                  'id': '1',\n",
      "                  'parameter': ['-l'],\n",
      "                  'return_code': 0,\n",
      "                  'run_time': 0.05016827583312988,\n",
      "                  'stderr': ['Available mapsets:', ''],\n",
      "                  'stdout': 'PERMANENT landsat test user1\\n'}],\n",
      " 'process_results': {},\n",
      " 'progress': {'num_of_steps': 1, 'step': 1},\n",
      " 'resource_id': 'resource_id-49e74d2a-d90f-423f-b9ed-990e11f48726',\n",
      " 'status': 'finished',\n",
      " 'time_delta': 0.18560385704040527,\n",
      " 'timestamp': 1647978119.6022763,\n",
      " 'urls': {'resources': [],\n",
      "          'status': 'https://localhost:8088/api/v3/resources/actinia-gdi/resource_id-49e74d2a-d90f-423f-b9ed-990e11f48726'},\n",
      " 'user_id': 'actinia-gdi'}\n"
     ]
    }
   ],
   "source": [
    "!ace location=\"nc_spm_08\" create_mapset=\"test_ms\""
   ]
  },
  {
   "cell_type": "code",
   "execution_count": 55,
   "id": "3393cc9f-13be-4560-8425-59fd3dbee0c7",
   "metadata": {},
   "outputs": [
    {
     "name": "stdout",
     "output_type": "stream",
     "text": [
      "['PERMANENT', 'landsat', 'test', 'test_ms', 'user1']\n"
     ]
    }
   ],
   "source": [
    "!ace location=\"nc_spm_08\" -m"
   ]
  },
  {
   "cell_type": "markdown",
   "id": "45b71c2d-e7d2-4890-8ea2-a4f5fac00b41",
   "metadata": {},
   "source": [
    "## Get Mapset info"
   ]
  },
  {
   "cell_type": "code",
   "execution_count": 6,
   "id": "fa2baf2f-a926-4f83-96e6-7df87f1bdf66",
   "metadata": {},
   "outputs": [
    {
     "name": "stdout",
     "output_type": "stream",
     "text": [
      "  % Total    % Received % Xferd  Average Speed   Time    Time     Time  Current\n",
      "                                 Dload  Upload   Total   Spent    Left  Speed\n",
      "100  5994  100  5994    0     0   8649      0 --:--:-- --:--:-- --:--:--  8636\n",
      "\u001b[1;39m{\n",
      "  \u001b[0m\u001b[34;1m\"accept_datetime\"\u001b[0m\u001b[1;39m: \u001b[0m\u001b[0;32m\"2022-06-09 06:21:45.049806\"\u001b[0m\u001b[1;39m,\n",
      "  \u001b[0m\u001b[34;1m\"accept_timestamp\"\u001b[0m\u001b[1;39m: \u001b[0m\u001b[0;39m1654755705.0498054\u001b[0m\u001b[1;39m,\n",
      "  \u001b[0m\u001b[34;1m\"api_info\"\u001b[0m\u001b[1;39m: \u001b[0m\u001b[1;39m{\n",
      "    \u001b[0m\u001b[34;1m\"endpoint\"\u001b[0m\u001b[1;39m: \u001b[0m\u001b[0;32m\"mapsetmanagementresourceuser\"\u001b[0m\u001b[1;39m,\n",
      "    \u001b[0m\u001b[34;1m\"method\"\u001b[0m\u001b[1;39m: \u001b[0m\u001b[0;32m\"GET\"\u001b[0m\u001b[1;39m,\n",
      "    \u001b[0m\u001b[34;1m\"path\"\u001b[0m\u001b[1;39m: \u001b[0m\u001b[0;32m\"/api/v3/locations/test_location/mapsets/test_mapset/info/\"\u001b[0m\u001b[1;39m,\n",
      "    \u001b[0m\u001b[34;1m\"request_url\"\u001b[0m\u001b[1;39m: \u001b[0m\u001b[0;32m\"http://localhost:8088/api/v3/locations/test_location/mapsets/test_mapset/info/\"\u001b[0m\u001b[1;39m\n",
      "  \u001b[1;39m}\u001b[0m\u001b[1;39m,\n",
      "  \u001b[0m\u001b[34;1m\"datetime\"\u001b[0m\u001b[1;39m: \u001b[0m\u001b[0;32m\"2022-06-09 06:21:45.316678\"\u001b[0m\u001b[1;39m,\n",
      "  \u001b[0m\u001b[34;1m\"http_code\"\u001b[0m\u001b[1;39m: \u001b[0m\u001b[0;39m200\u001b[0m\u001b[1;39m,\n",
      "  \u001b[0m\u001b[34;1m\"message\"\u001b[0m\u001b[1;39m: \u001b[0m\u001b[0;32m\"Processing successfully finished\"\u001b[0m\u001b[1;39m,\n",
      "  \u001b[0m\u001b[34;1m\"process_chain_list\"\u001b[0m\u001b[1;39m: \u001b[0m\u001b[1;39m[\n",
      "    \u001b[1;39m{\n",
      "      \u001b[0m\u001b[34;1m\"1\"\u001b[0m\u001b[1;39m: \u001b[0m\u001b[1;39m{\n",
      "        \u001b[0m\u001b[34;1m\"flags\"\u001b[0m\u001b[1;39m: \u001b[0m\u001b[0;32m\"ug3\"\u001b[0m\u001b[1;39m,\n",
      "        \u001b[0m\u001b[34;1m\"module\"\u001b[0m\u001b[1;39m: \u001b[0m\u001b[0;32m\"g.region\"\u001b[0m\u001b[1;39m\n",
      "      \u001b[1;39m}\u001b[0m\u001b[1;39m,\n",
      "      \u001b[0m\u001b[34;1m\"2\"\u001b[0m\u001b[1;39m: \u001b[0m\u001b[1;39m{\n",
      "        \u001b[0m\u001b[34;1m\"flags\"\u001b[0m\u001b[1;39m: \u001b[0m\u001b[0;32m\"fw\"\u001b[0m\u001b[1;39m,\n",
      "        \u001b[0m\u001b[34;1m\"module\"\u001b[0m\u001b[1;39m: \u001b[0m\u001b[0;32m\"g.proj\"\u001b[0m\u001b[1;39m\n",
      "      \u001b[1;39m}\u001b[0m\u001b[1;39m\n",
      "    \u001b[1;39m}\u001b[0m\u001b[1;39m\n",
      "  \u001b[1;39m]\u001b[0m\u001b[1;39m,\n",
      "  \u001b[0m\u001b[34;1m\"process_log\"\u001b[0m\u001b[1;39m: \u001b[0m\u001b[1;39m[\n",
      "    \u001b[1;39m{\n",
      "      \u001b[0m\u001b[34;1m\"executable\"\u001b[0m\u001b[1;39m: \u001b[0m\u001b[0;32m\"g.region\"\u001b[0m\u001b[1;39m,\n",
      "      \u001b[0m\u001b[34;1m\"id\"\u001b[0m\u001b[1;39m: \u001b[0m\u001b[0;32m\"1\"\u001b[0m\u001b[1;39m,\n",
      "      \u001b[0m\u001b[34;1m\"parameter\"\u001b[0m\u001b[1;39m: \u001b[0m\u001b[1;39m[\n",
      "        \u001b[0;32m\"-ug3\"\u001b[0m\u001b[1;39m\n",
      "      \u001b[1;39m]\u001b[0m\u001b[1;39m,\n",
      "      \u001b[0m\u001b[34;1m\"return_code\"\u001b[0m\u001b[1;39m: \u001b[0m\u001b[0;39m0\u001b[0m\u001b[1;39m,\n",
      "      \u001b[0m\u001b[34;1m\"run_time\"\u001b[0m\u001b[1;39m: \u001b[0m\u001b[0;39m0.10031414031982422\u001b[0m\u001b[1;39m,\n",
      "      \u001b[0m\u001b[34;1m\"stderr\"\u001b[0m\u001b[1;39m: \u001b[0m\u001b[1;39m[\n",
      "        \u001b[0;32m\"\"\u001b[0m\u001b[1;39m\n",
      "      \u001b[1;39m]\u001b[0m\u001b[1;39m,\n",
      "      \u001b[0m\u001b[34;1m\"stdout\"\u001b[0m\u001b[1;39m: \u001b[0m\u001b[0;32m\"projection=99\\nzone=0\\nn=1\\ns=0\\nw=0\\ne=1\\nt=1\\nb=0\\nnsres=1\\nnsres3=1\\newres=1\\newres3=1\\ntbres=1\\nrows=1\\nrows3=1\\ncols=1\\ncols3=1\\ndepths=1\\ncells=1\\ncells3=1\\n\"\u001b[0m\u001b[1;39m\n",
      "    \u001b[1;39m}\u001b[0m\u001b[1;39m,\n",
      "    \u001b[1;39m{\n",
      "      \u001b[0m\u001b[34;1m\"executable\"\u001b[0m\u001b[1;39m: \u001b[0m\u001b[0;32m\"g.proj\"\u001b[0m\u001b[1;39m,\n",
      "      \u001b[0m\u001b[34;1m\"id\"\u001b[0m\u001b[1;39m: \u001b[0m\u001b[0;32m\"2\"\u001b[0m\u001b[1;39m,\n",
      "      \u001b[0m\u001b[34;1m\"parameter\"\u001b[0m\u001b[1;39m: \u001b[0m\u001b[1;39m[\n",
      "        \u001b[0;32m\"-fw\"\u001b[0m\u001b[1;39m\n",
      "      \u001b[1;39m]\u001b[0m\u001b[1;39m,\n",
      "      \u001b[0m\u001b[34;1m\"return_code\"\u001b[0m\u001b[1;39m: \u001b[0m\u001b[0;39m0\u001b[0m\u001b[1;39m,\n",
      "      \u001b[0m\u001b[34;1m\"run_time\"\u001b[0m\u001b[1;39m: \u001b[0m\u001b[0;39m0.10027003288269043\u001b[0m\u001b[1;39m,\n",
      "      \u001b[0m\u001b[34;1m\"stderr\"\u001b[0m\u001b[1;39m: \u001b[0m\u001b[1;39m[\n",
      "        \u001b[0;32m\"\"\u001b[0m\u001b[1;39m\n",
      "      \u001b[1;39m]\u001b[0m\u001b[1;39m,\n",
      "      \u001b[0m\u001b[34;1m\"stdout\"\u001b[0m\u001b[1;39m: \u001b[0m\u001b[0;32m\"PROJCRS[\\\"NAD83(HARN) / North Carolina\\\",BASEGEOGCRS[\\\"NAD83(HARN)\\\",DATUM[\\\"NAD83 (High Accuracy Reference Network)\\\",ELLIPSOID[\\\"GRS 1980\\\",6378137,298.257222101,LENGTHUNIT[\\\"metre\\\",1]]],PRIMEM[\\\"Greenwich\\\",0,ANGLEUNIT[\\\"degree\\\",0.0174532925199433]],ID[\\\"EPSG\\\",4152]],CONVERSION[\\\"SPCS83 North Carolina zone (meters)\\\",METHOD[\\\"Lambert Conic Conformal (2SP)\\\",ID[\\\"EPSG\\\",9802]],PARAMETER[\\\"Latitude of false origin\\\",33.75,ANGLEUNIT[\\\"degree\\\",0.0174532925199433],ID[\\\"EPSG\\\",8821]],PARAMETER[\\\"Longitude of false origin\\\",-79,ANGLEUNIT[\\\"degree\\\",0.0174532925199433],ID[\\\"EPSG\\\",8822]],PARAMETER[\\\"Latitude of 1st standard parallel\\\",36.1666666666667,ANGLEUNIT[\\\"degree\\\",0.0174532925199433],ID[\\\"EPSG\\\",8823]],PARAMETER[\\\"Latitude of 2nd standard parallel\\\",34.3333333333333,ANGLEUNIT[\\\"degree\\\",0.0174532925199433],ID[\\\"EPSG\\\",8824]],PARAMETER[\\\"Easting at false origin\\\",609601.22,LENGTHUNIT[\\\"metre\\\",1],ID[\\\"EPSG\\\",8826]],PARAMETER[\\\"Northing at false origin\\\",0,LENGTHUNIT[\\\"metre\\\",1],ID[\\\"EPSG\\\",8827]]],CS[Cartesian,2],AXIS[\\\"easting (X)\\\",east,ORDER[1],LENGTHUNIT[\\\"metre\\\",1]],AXIS[\\\"northing (Y)\\\",north,ORDER[2],LENGTHUNIT[\\\"metre\\\",1]],USAGE[SCOPE[\\\"Engineering survey, topographic mapping.\\\"],AREA[\\\"United States (USA) - North Carolina - counties of Alamance; Alexander; Alleghany; Anson; Ashe; Avery; Beaufort; Bertie; Bladen; Brunswick; Buncombe; Burke; Cabarrus; Caldwell; Camden; Carteret; Caswell; Catawba; Chatham; Cherokee; Chowan; Clay; Cleveland; Columbus; Craven; Cumberland; Currituck; Dare; Davidson; Davie; Duplin; Durham; Edgecombe; Forsyth; Franklin; Gaston; Gates; Graham; Granville; Greene; Guilford; Halifax; Harnett; Haywood; Henderson; Hertford; Hoke; Hyde; Iredell; Jackson; Johnston; Jones; Lee; Lenoir; Lincoln; Macon; Madison; Martin; McDowell; Mecklenburg; Mitchell; Montgomery; Moore; Nash; New Hanover; Northampton; Onslow; Orange; Pamlico; Pasquotank; Pender; Perquimans; Person; Pitt; Polk; Randolph; Richmond; Robeson; Rockingham; Rowan; Rutherford; Sampson; Scotland; Stanly; Stokes; Surry; Swain; Transylvania; Tyrrell; Union; Vance; Wake; Warren; Washington; Watauga; Wayne; Wilkes; Wilson; Yadkin; Yancey.\\\"],BBOX[33.83,-84.33,36.59,-75.38]],ID[\\\"EPSG\\\",3358]]\\n\"\u001b[0m\u001b[1;39m\n",
      "    \u001b[1;39m}\u001b[0m\u001b[1;39m\n",
      "  \u001b[1;39m]\u001b[0m\u001b[1;39m,\n",
      "  \u001b[0m\u001b[34;1m\"process_results\"\u001b[0m\u001b[1;39m: \u001b[0m\u001b[1;39m{\n",
      "    \u001b[0m\u001b[34;1m\"projection\"\u001b[0m\u001b[1;39m: \u001b[0m\u001b[0;32m\"PROJCRS[\\\"NAD83(HARN) / North Carolina\\\",BASEGEOGCRS[\\\"NAD83(HARN)\\\",DATUM[\\\"NAD83 (High Accuracy Reference Network)\\\",ELLIPSOID[\\\"GRS 1980\\\",6378137,298.257222101,LENGTHUNIT[\\\"metre\\\",1]]],PRIMEM[\\\"Greenwich\\\",0,ANGLEUNIT[\\\"degree\\\",0.0174532925199433]],ID[\\\"EPSG\\\",4152]],CONVERSION[\\\"SPCS83 North Carolina zone (meters)\\\",METHOD[\\\"Lambert Conic Conformal (2SP)\\\",ID[\\\"EPSG\\\",9802]],PARAMETER[\\\"Latitude of false origin\\\",33.75,ANGLEUNIT[\\\"degree\\\",0.0174532925199433],ID[\\\"EPSG\\\",8821]],PARAMETER[\\\"Longitude of false origin\\\",-79,ANGLEUNIT[\\\"degree\\\",0.0174532925199433],ID[\\\"EPSG\\\",8822]],PARAMETER[\\\"Latitude of 1st standard parallel\\\",36.1666666666667,ANGLEUNIT[\\\"degree\\\",0.0174532925199433],ID[\\\"EPSG\\\",8823]],PARAMETER[\\\"Latitude of 2nd standard parallel\\\",34.3333333333333,ANGLEUNIT[\\\"degree\\\",0.0174532925199433],ID[\\\"EPSG\\\",8824]],PARAMETER[\\\"Easting at false origin\\\",609601.22,LENGTHUNIT[\\\"metre\\\",1],ID[\\\"EPSG\\\",8826]],PARAMETER[\\\"Northing at false origin\\\",0,LENGTHUNIT[\\\"metre\\\",1],ID[\\\"EPSG\\\",8827]]],CS[Cartesian,2],AXIS[\\\"easting (X)\\\",east,ORDER[1],LENGTHUNIT[\\\"metre\\\",1]],AXIS[\\\"northing (Y)\\\",north,ORDER[2],LENGTHUNIT[\\\"metre\\\",1]],USAGE[SCOPE[\\\"Engineering survey, topographic mapping.\\\"],AREA[\\\"United States (USA) - North Carolina - counties of Alamance; Alexander; Alleghany; Anson; Ashe; Avery; Beaufort; Bertie; Bladen; Brunswick; Buncombe; Burke; Cabarrus; Caldwell; Camden; Carteret; Caswell; Catawba; Chatham; Cherokee; Chowan; Clay; Cleveland; Columbus; Craven; Cumberland; Currituck; Dare; Davidson; Davie; Duplin; Durham; Edgecombe; Forsyth; Franklin; Gaston; Gates; Graham; Granville; Greene; Guilford; Halifax; Harnett; Haywood; Henderson; Hertford; Hoke; Hyde; Iredell; Jackson; Johnston; Jones; Lee; Lenoir; Lincoln; Macon; Madison; Martin; McDowell; Mecklenburg; Mitchell; Montgomery; Moore; Nash; New Hanover; Northampton; Onslow; Orange; Pamlico; Pasquotank; Pender; Perquimans; Person; Pitt; Polk; Randolph; Richmond; Robeson; Rockingham; Rowan; Rutherford; Sampson; Scotland; Stanly; Stokes; Surry; Swain; Transylvania; Tyrrell; Union; Vance; Wake; Warren; Washington; Watauga; Wayne; Wilkes; Wilson; Yadkin; Yancey.\\\"],BBOX[33.83,-84.33,36.59,-75.38]],ID[\\\"EPSG\\\",3358]]\\n\"\u001b[0m\u001b[1;39m,\n",
      "    \u001b[0m\u001b[34;1m\"region\"\u001b[0m\u001b[1;39m: \u001b[0m\u001b[1;39m{\n",
      "      \u001b[0m\u001b[34;1m\"b\"\u001b[0m\u001b[1;39m: \u001b[0m\u001b[0;39m0\u001b[0m\u001b[1;39m,\n",
      "      \u001b[0m\u001b[34;1m\"cells\"\u001b[0m\u001b[1;39m: \u001b[0m\u001b[0;39m1\u001b[0m\u001b[1;39m,\n",
      "      \u001b[0m\u001b[34;1m\"cells3\"\u001b[0m\u001b[1;39m: \u001b[0m\u001b[0;39m1\u001b[0m\u001b[1;39m,\n",
      "      \u001b[0m\u001b[34;1m\"cols\"\u001b[0m\u001b[1;39m: \u001b[0m\u001b[0;39m1\u001b[0m\u001b[1;39m,\n",
      "      \u001b[0m\u001b[34;1m\"cols3\"\u001b[0m\u001b[1;39m: \u001b[0m\u001b[0;39m1\u001b[0m\u001b[1;39m,\n",
      "      \u001b[0m\u001b[34;1m\"depths\"\u001b[0m\u001b[1;39m: \u001b[0m\u001b[0;39m1\u001b[0m\u001b[1;39m,\n",
      "      \u001b[0m\u001b[34;1m\"e\"\u001b[0m\u001b[1;39m: \u001b[0m\u001b[0;39m1\u001b[0m\u001b[1;39m,\n",
      "      \u001b[0m\u001b[34;1m\"ewres\"\u001b[0m\u001b[1;39m: \u001b[0m\u001b[0;39m1\u001b[0m\u001b[1;39m,\n",
      "      \u001b[0m\u001b[34;1m\"ewres3\"\u001b[0m\u001b[1;39m: \u001b[0m\u001b[0;39m1\u001b[0m\u001b[1;39m,\n",
      "      \u001b[0m\u001b[34;1m\"n\"\u001b[0m\u001b[1;39m: \u001b[0m\u001b[0;39m1\u001b[0m\u001b[1;39m,\n",
      "      \u001b[0m\u001b[34;1m\"nsres\"\u001b[0m\u001b[1;39m: \u001b[0m\u001b[0;39m1\u001b[0m\u001b[1;39m,\n",
      "      \u001b[0m\u001b[34;1m\"nsres3\"\u001b[0m\u001b[1;39m: \u001b[0m\u001b[0;39m1\u001b[0m\u001b[1;39m,\n",
      "      \u001b[0m\u001b[34;1m\"projection\"\u001b[0m\u001b[1;39m: \u001b[0m\u001b[0;39m99\u001b[0m\u001b[1;39m,\n",
      "      \u001b[0m\u001b[34;1m\"rows\"\u001b[0m\u001b[1;39m: \u001b[0m\u001b[0;39m1\u001b[0m\u001b[1;39m,\n",
      "      \u001b[0m\u001b[34;1m\"rows3\"\u001b[0m\u001b[1;39m: \u001b[0m\u001b[0;39m1\u001b[0m\u001b[1;39m,\n",
      "      \u001b[0m\u001b[34;1m\"s\"\u001b[0m\u001b[1;39m: \u001b[0m\u001b[0;39m0\u001b[0m\u001b[1;39m,\n",
      "      \u001b[0m\u001b[34;1m\"t\"\u001b[0m\u001b[1;39m: \u001b[0m\u001b[0;39m1\u001b[0m\u001b[1;39m,\n",
      "      \u001b[0m\u001b[34;1m\"tbres\"\u001b[0m\u001b[1;39m: \u001b[0m\u001b[0;39m1\u001b[0m\u001b[1;39m,\n",
      "      \u001b[0m\u001b[34;1m\"w\"\u001b[0m\u001b[1;39m: \u001b[0m\u001b[0;39m0\u001b[0m\u001b[1;39m,\n",
      "      \u001b[0m\u001b[34;1m\"zone\"\u001b[0m\u001b[1;39m: \u001b[0m\u001b[0;39m0\u001b[0m\u001b[1;39m\n",
      "    \u001b[1;39m}\u001b[0m\u001b[1;39m\n",
      "  \u001b[1;39m}\u001b[0m\u001b[1;39m,\n",
      "  \u001b[0m\u001b[34;1m\"progress\"\u001b[0m\u001b[1;39m: \u001b[0m\u001b[1;39m{\n",
      "    \u001b[0m\u001b[34;1m\"num_of_steps\"\u001b[0m\u001b[1;39m: \u001b[0m\u001b[0;39m2\u001b[0m\u001b[1;39m,\n",
      "    \u001b[0m\u001b[34;1m\"step\"\u001b[0m\u001b[1;39m: \u001b[0m\u001b[0;39m2\u001b[0m\u001b[1;39m\n",
      "  \u001b[1;39m}\u001b[0m\u001b[1;39m,\n",
      "  \u001b[0m\u001b[34;1m\"resource_id\"\u001b[0m\u001b[1;39m: \u001b[0m\u001b[0;32m\"resource_id-12bb6b65-c3c5-429b-ae3a-95dad2dbd628\"\u001b[0m\u001b[1;39m,\n",
      "  \u001b[0m\u001b[34;1m\"status\"\u001b[0m\u001b[1;39m: \u001b[0m\u001b[0;32m\"finished\"\u001b[0m\u001b[1;39m,\n",
      "  \u001b[0m\u001b[34;1m\"time_delta\"\u001b[0m\u001b[1;39m: \u001b[0m\u001b[0;39m0.2668893337249756\u001b[0m\u001b[1;39m,\n",
      "  \u001b[0m\u001b[34;1m\"timestamp\"\u001b[0m\u001b[1;39m: \u001b[0m\u001b[0;39m1654755705.3166633\u001b[0m\u001b[1;39m,\n",
      "  \u001b[0m\u001b[34;1m\"urls\"\u001b[0m\u001b[1;39m: \u001b[0m\u001b[1;39m{\n",
      "    \u001b[0m\u001b[34;1m\"resources\"\u001b[0m\u001b[1;39m: \u001b[0m\u001b[1;39m[]\u001b[0m\u001b[1;39m,\n",
      "    \u001b[0m\u001b[34;1m\"status\"\u001b[0m\u001b[1;39m: \u001b[0m\u001b[0;32m\"http://localhost:8088/api/v3/resources/actinia-gdi/resource_id-12bb6b65-c3c5-429b-ae3a-95dad2dbd628\"\u001b[0m\u001b[1;39m\n",
      "  \u001b[1;39m}\u001b[0m\u001b[1;39m,\n",
      "  \u001b[0m\u001b[34;1m\"user_id\"\u001b[0m\u001b[1;39m: \u001b[0m\u001b[0;32m\"actinia-gdi\"\u001b[0m\u001b[1;39m\n",
      "\u001b[1;39m}\u001b[0m\n"
     ]
    }
   ],
   "source": [
    "!curl -u 'actinia-gdi:actinia-gdi' -X GET \"http://localhost:8088/api/v3/locations/test_location/mapsets/test_mapset/info/\" | jq"
   ]
  },
  {
   "cell_type": "markdown",
   "id": "2091e32f-d0f5-45c9-b42e-35a534e78950",
   "metadata": {},
   "source": [
    "To list all raster maps available in the specified mapset belonging to the provided location nc_spm_08, run:"
   ]
  }
 ],
 "metadata": {
  "kernelspec": {
   "display_name": "Python 3 (ipykernel)",
   "language": "python",
   "name": "python3"
  },
  "language_info": {
   "codemirror_mode": {
    "name": "ipython",
    "version": 3
   },
   "file_extension": ".py",
   "mimetype": "text/x-python",
   "name": "python",
   "nbconvert_exporter": "python",
   "pygments_lexer": "ipython3",
   "version": "3.9.5"
  }
 },
 "nbformat": 4,
 "nbformat_minor": 5
}
