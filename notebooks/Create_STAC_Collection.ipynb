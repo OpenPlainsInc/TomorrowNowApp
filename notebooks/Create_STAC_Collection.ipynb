{
 "cells": [
  {
   "cell_type": "code",
   "execution_count": 68,
   "id": "45415a0e-73f0-436b-8f28-72983193145d",
   "metadata": {},
   "outputs": [],
   "source": [
    "# Import Python standard library and IPython packages we need.\n",
    "import os\n",
    "import subprocess\n",
    "import sys\n",
    "import csv\n",
    "import numpy as np\n",
    "import matplotlib.pyplot as plt\n",
    "from collections import defaultdict\n",
    "from pprint import pprint\n",
    "import json\n",
    "import time\n",
    "import requests\n",
    "from requests.auth import HTTPBasicAuth\n",
    "import rasterio\n",
    "from shapely.geometry import GeometryCollection, Polygon, box, shape, mapping\n",
    "\n",
    "# Ask GRASS GIS where its Python packages are.\n",
    "gisbase = subprocess.check_output([\"grass\", \"--config\", \"path\"], text=True).strip()\n",
    "os.environ[\"GISBASE\"] = gisbase\n",
    "os.environ[\"ACTINIA_USER\"] = 'actinia-gdi'\n",
    "os.environ[\"ACTINIA_PASSWORD\"] = 'actinia-gdi'\n",
    "os.environ[\"AUTH\"] = 'actinia-gdi:actinia-gdi'\n",
    "os.environ[\"ACTINIA_URL\"] = 'http://localhost:8088'\n",
    "os.environ[\"ACTINIA_URL\"] = 'http://localhost:8088'\n",
    "os.environ[\"GCS_RESOURCE_BUCKET\"] = 'tomorrownow-actinia-dev'\n",
    "os.environ[\"GOOGLE_APPLICATION_CREDENTIALS\"] = './env/gcp_tomorrownow_dev_key.json'\n",
    "\n",
    "ACTINIA_VERSION = 'v3'\n",
    "ACTINIA_BASEURL = 'http://localhost:8088'\n",
    "ACTINIA_URL = ACTINIA_BASEURL + \"/api/\" + ACTINIA_VERSION\n",
    "ACTINIA_AUTH = HTTPBasicAuth(\"actinia-gdi\", \"actinia-gdi\")\n",
    "sys.path.append(os.path.join(gisbase, \"etc\", \"python\"))\n",
    "\n",
    "# Import the GRASS GIS packages we need.\n",
    "import grass.script as gs\n",
    "import grass.jupyter as gj\n",
    "\n",
    "# Start GRASS Session\n",
    "## Set your grass data location\n",
    "gj.init(\"../actinia-core-data/grassdb\", \"nc_spm_08\", \"PERMANENT\")"
   ]
  },
  {
   "cell_type": "code",
   "execution_count": 16,
   "id": "a9edf333-b253-4479-8203-68908bc6b90d",
   "metadata": {},
   "outputs": [
    {
     "name": "stdout",
     "output_type": "stream",
     "text": [
      "1.4.0\n"
     ]
    }
   ],
   "source": [
    "from datetime import datetime\n",
    "\n",
    "import pystac\n",
    "print(pystac.__version__)\n",
    "\n",
    "from pystac.extensions.projection import ProjectionExtension\n",
    "from pystac.extensions.view import ViewExtension"
   ]
  },
  {
   "cell_type": "markdown",
   "id": "0cc8c6f5-38d1-4d92-bf00-7856ad3364df",
   "metadata": {},
   "source": [
    "# Create a New root STAC catalog\n",
    "\n",
    "Creating a root catalog to oragnize all data under"
   ]
  },
  {
   "cell_type": "code",
   "execution_count": 6,
   "id": "7f78c9f8-de28-41a3-ba7a-3160cbbcd259",
   "metadata": {},
   "outputs": [],
   "source": [
    "savana = pystac.Catalog(id = \"savana\", description= \"STAC collection containing data used by Savana.\")"
   ]
  },
  {
   "cell_type": "code",
   "execution_count": 7,
   "id": "540714ae-7467-4619-b2be-99bb1dbdf622",
   "metadata": {},
   "outputs": [
    {
     "data": {
      "text/plain": [
       "[<Link rel=root target=<Catalog id=savana>>]"
      ]
     },
     "execution_count": 7,
     "metadata": {},
     "output_type": "execute_result"
    }
   ],
   "source": [
    "savana.links"
   ]
  },
  {
   "cell_type": "code",
   "execution_count": 14,
   "id": "0c3b4a26-2894-4c9c-8dba-a75d075cf6cd",
   "metadata": {},
   "outputs": [],
   "source": [
    "# Placeholder spatial extent will set from items once they are loaded\n",
    "sp_extent = pystac.SpatialExtent([None,None,None,None])"
   ]
  },
  {
   "cell_type": "markdown",
   "id": "53d7196c-c625-48f7-885b-91864e4df69e",
   "metadata": {},
   "source": [
    "## Add child catalog\n",
    "\n",
    "Adding a child catalog to savana to store land cover land use collections"
   ]
  },
  {
   "cell_type": "code",
   "execution_count": 8,
   "id": "fee85764-fd99-4f0f-b2fc-7ee6b084f1de",
   "metadata": {},
   "outputs": [],
   "source": [
    "lclu = pystac.Catalog(id = \"lclu\", description=\"A catalog containing land cover land use data collections\")\n",
    "savana.add_child(lclu)"
   ]
  },
  {
   "cell_type": "code",
   "execution_count": 9,
   "id": "37abe7b1-5582-4e94-8aec-89776e80ef59",
   "metadata": {},
   "outputs": [
    {
     "data": {
      "text/plain": [
       "[<Link rel=root target=<Catalog id=savana>>,\n",
       " <Link rel=child target=<Catalog id=lclu>>]"
      ]
     },
     "execution_count": 9,
     "metadata": {},
     "output_type": "execute_result"
    }
   ],
   "source": [
    "savana.links"
   ]
  },
  {
   "cell_type": "code",
   "execution_count": 11,
   "id": "d173254f-1cc1-4fdc-8cd0-b4661cb2a18b",
   "metadata": {},
   "outputs": [
    {
     "name": "stdout",
     "output_type": "stream",
     "text": [
      "* <Catalog id=savana>\n",
      "    * <Catalog id=lclu>\n"
     ]
    }
   ],
   "source": [
    "savana.describe()"
   ]
  },
  {
   "cell_type": "markdown",
   "id": "b0c01afa-a2fd-4e11-a83b-544e1f212091",
   "metadata": {},
   "source": [
    "## Add a collection to the lclu catalog"
   ]
  },
  {
   "cell_type": "code",
   "execution_count": 17,
   "id": "8c0344e5-333d-4cb8-95cb-02a30e553cdd",
   "metadata": {},
   "outputs": [],
   "source": [
    "sp_extent = pystac.SpatialExtent([None,None,None,None])\n",
    "start_date = datetime.strptime('2001-01-01', '%Y-%m-%d')\n",
    "end_data = datetime.strptime('2019-01-01', '%Y-%m-%d')\n",
    "temporal_extent = pystac.TemporalExtent([(start_date, end_data)])\n",
    "extent = pystac.Extent(sp_extent, temporal_extent)"
   ]
  },
  {
   "cell_type": "code",
   "execution_count": 75,
   "id": "9cf744f9-455c-4af7-bfeb-e525b05fd4fc",
   "metadata": {},
   "outputs": [],
   "source": [
    "nlcd = pystac.Collection(id='nlcd', description = 'NLCD datasets 2001 - 2019', extent = extent)\n",
    "lclu.add_child(nlcd)"
   ]
  },
  {
   "cell_type": "code",
   "execution_count": 76,
   "id": "c01de26c-15de-4ce3-9866-3ea00a09a6ed",
   "metadata": {},
   "outputs": [
    {
     "name": "stdout",
     "output_type": "stream",
     "text": [
      "* <Catalog id=savana>\n",
      "    * <Catalog id=lclu>\n",
      "        * <Collection id=nlcd>\n"
     ]
    }
   ],
   "source": [
    "savana.describe()"
   ]
  },
  {
   "cell_type": "markdown",
   "id": "baa05b98-6c29-4b9d-961c-84f88b9da8cb",
   "metadata": {},
   "source": [
    "### Load data from GCS into collectioni"
   ]
  },
  {
   "cell_type": "code",
   "execution_count": 20,
   "id": "77f20e8f-3e06-42a6-9185-82bce267e1fe",
   "metadata": {},
   "outputs": [],
   "source": [
    "from google.cloud import storage"
   ]
  },
  {
   "cell_type": "code",
   "execution_count": 46,
   "id": "09ed005b-d5ba-4942-8bd8-5e7727943458",
   "metadata": {},
   "outputs": [
    {
     "name": "stdout",
     "output_type": "stream",
     "text": [
      "<google.api_core.page_iterator.HTTPIterator object at 0x7f46bfddc8e0>\n"
     ]
    }
   ],
   "source": [
    "# Instantiates a client\n",
    "storage_client = storage.Client()\n",
    "\n",
    "# The name for the new bucket\n",
    "bucket_name = \"tomorrownow-actinia-dev\"\n",
    "buckets = storage_client.list_buckets()"
   ]
  },
  {
   "cell_type": "code",
   "execution_count": 53,
   "id": "8d49fb87-aee2-4c6f-b59f-69fb466d14a5",
   "metadata": {},
   "outputs": [
    {
     "name": "stdout",
     "output_type": "stream",
     "text": [
      "['nlcd/nlcd_2001_cog.tif', 'nlcd/nlcd_2004_cog.tif', 'nlcd/nlcd_2006_cog.tif', 'nlcd/nlcd_2008_cog.tif', 'nlcd/nlcd_2011_cog.tif', 'nlcd/nlcd_2013_cog.tif', 'nlcd/nlcd_2016_cog.tif', 'nlcd/nlcd_2019_cog.tif']\n"
     ]
    }
   ],
   "source": [
    "blobs = storage_client.list_blobs(bucket_name, prefix=\"nlcd\")\n",
    "data = [b.name for b in blobs if b.name.endswith('tif')]\n",
    "print(data)"
   ]
  },
  {
   "cell_type": "code",
   "execution_count": 60,
   "id": "17ee3146-2880-46c7-a45c-abbdd142c78e",
   "metadata": {},
   "outputs": [
    {
     "name": "stdout",
     "output_type": "stream",
     "text": [
      "Content-type: image/tiff\n",
      "Content-type: image/tiff\n",
      "Content-type: image/tiff\n",
      "Content-type: image/tiff\n",
      "Content-type: image/tiff\n",
      "Content-type: image/tiff\n",
      "Content-type: image/tiff\n",
      "Content-type: image/tiff; application=geotiff; profile=cloud-optimized\n"
     ]
    }
   ],
   "source": [
    "blobs = storage_client.list_blobs(bucket_name, prefix=\"nlcd\")\n",
    "\n",
    "for blob in blobs:\n",
    "    if blob.name.endswith('tif'):\n",
    "        print(\"Content-type: {}\".format(blob.content_type))\n",
    "        blob.content_type = \"image/tiff; application=geotiff; profile=cloud-optimized\"\n",
    "        blob.patch()\n",
    "        blob.make_public()"
   ]
  },
  {
   "cell_type": "markdown",
   "id": "cd42186a-61eb-4ac3-b9e8-32dc9859d6c2",
   "metadata": {},
   "source": [
    "### Add items to collection"
   ]
  },
  {
   "cell_type": "code",
   "execution_count": 77,
   "id": "e765d291-dd98-44ec-b0cf-27b5509a1995",
   "metadata": {},
   "outputs": [],
   "source": [
    "for d in data:\n",
    "    uri = os.path.join(f'gs://{bucket_name}', d)\n",
    "    params = {}\n",
    "    params['id'] = os.path.basename(uri).split('.')[0]\n",
    "    with rasterio.open(uri) as src:\n",
    "        params['bbox'] = list(src.bounds)\n",
    "        params['geometry'] = mapping(box(*params['bbox']))\n",
    "        \n",
    "    params['datetime'] = datetime.strptime(f'{d.split(\"_\")[1]}-01-01', '%Y-%m-%d')\n",
    "    params['properties'] = {}\n",
    "    i = pystac.Item(**params)\n",
    "    i.add_asset(key='image', asset=pystac.Asset(href=uri,\n",
    "                                                title='Geotiff',\n",
    "                                                media_type=pystac.MediaType.COG))\n",
    "    nlcd.add_item(i)"
   ]
  },
  {
   "cell_type": "code",
   "execution_count": 78,
   "id": "f08ec95a-5a14-48d2-8fc9-9b5e62d33a5b",
   "metadata": {},
   "outputs": [
    {
     "name": "stdout",
     "output_type": "stream",
     "text": [
      "* <Catalog id=savana>\n",
      "    * <Catalog id=lclu>\n",
      "        * <Collection id=nlcd>\n",
      "          * <Item id=nlcd_2001_cog>\n",
      "          * <Item id=nlcd_2004_cog>\n",
      "          * <Item id=nlcd_2006_cog>\n",
      "          * <Item id=nlcd_2008_cog>\n",
      "          * <Item id=nlcd_2011_cog>\n",
      "          * <Item id=nlcd_2013_cog>\n",
      "          * <Item id=nlcd_2016_cog>\n",
      "          * <Item id=nlcd_2019_cog>\n"
     ]
    }
   ],
   "source": [
    "# lclu.remove_child('nlcd')\n",
    "savana.describe()"
   ]
  },
  {
   "cell_type": "markdown",
   "id": "7f9e3ad0-68d3-4c99-ada1-897ac67e2d65",
   "metadata": {},
   "source": [
    "### Update item extents"
   ]
  },
  {
   "cell_type": "code",
   "execution_count": 80,
   "id": "d0a4b5f6-83b3-422c-a7b0-dbef186ccd51",
   "metadata": {},
   "outputs": [
    {
     "data": {
      "text/plain": [
       "{'type': 'Collection',\n",
       " 'id': 'nlcd',\n",
       " 'stac_version': '1.0.0',\n",
       " 'description': 'NLCD datasets 2001 - 2019',\n",
       " 'links': [{'rel': <RelType.ROOT: 'root'>,\n",
       "   'href': None,\n",
       "   'type': <MediaType.JSON: 'application/json'>},\n",
       "  {'rel': <RelType.ITEM: 'item'>,\n",
       "   'href': None,\n",
       "   'type': <MediaType.JSON: 'application/json'>},\n",
       "  {'rel': <RelType.ITEM: 'item'>,\n",
       "   'href': None,\n",
       "   'type': <MediaType.JSON: 'application/json'>},\n",
       "  {'rel': <RelType.ITEM: 'item'>,\n",
       "   'href': None,\n",
       "   'type': <MediaType.JSON: 'application/json'>},\n",
       "  {'rel': <RelType.ITEM: 'item'>,\n",
       "   'href': None,\n",
       "   'type': <MediaType.JSON: 'application/json'>},\n",
       "  {'rel': <RelType.ITEM: 'item'>,\n",
       "   'href': None,\n",
       "   'type': <MediaType.JSON: 'application/json'>},\n",
       "  {'rel': <RelType.ITEM: 'item'>,\n",
       "   'href': None,\n",
       "   'type': <MediaType.JSON: 'application/json'>},\n",
       "  {'rel': <RelType.ITEM: 'item'>,\n",
       "   'href': None,\n",
       "   'type': <MediaType.JSON: 'application/json'>},\n",
       "  {'rel': <RelType.ITEM: 'item'>,\n",
       "   'href': None,\n",
       "   'type': <MediaType.JSON: 'application/json'>},\n",
       "  {'rel': <RelType.PARENT: 'parent'>,\n",
       "   'href': None,\n",
       "   'type': <MediaType.JSON: 'application/json'>}],\n",
       " 'stac_extensions': [],\n",
       " 'extent': {'spatial': {'bbox': [[-2493045.0,\n",
       "     177285.0,\n",
       "     2342655.0,\n",
       "     3310005.0]]},\n",
       "  'temporal': {'interval': [['2001-01-01T00:00:00Z',\n",
       "     '2019-01-01T00:00:00Z']]}},\n",
       " 'license': 'proprietary'}"
      ]
     },
     "execution_count": 80,
     "metadata": {},
     "output_type": "execute_result"
    }
   ],
   "source": [
    "nlcd.update_extent_from_items()\n",
    "nlcd.to_dict()"
   ]
  },
  {
   "cell_type": "markdown",
   "id": "cb191586-a65e-45bf-8fcb-ebee89f9b172",
   "metadata": {},
   "source": [
    "## Normalize Catalogs hrefs"
   ]
  },
  {
   "cell_type": "code",
   "execution_count": 81,
   "id": "6d588360-f88f-41f9-954d-89bdddc5cbe0",
   "metadata": {},
   "outputs": [],
   "source": [
    "# savana.normalize_hrefs(os.path.join(tmp_dir.name, 'stac'))\n",
    "savana.normalize_hrefs('./stac_catalog')\n",
    "savana.save(\"./savana_stac_catalog\")"
   ]
  },
  {
   "cell_type": "code",
   "execution_count": null,
   "id": "7f20e3cf-56f5-42b1-afb7-39805ae7ba83",
   "metadata": {},
   "outputs": [],
   "source": []
  }
 ],
 "metadata": {
  "kernelspec": {
   "display_name": "Python 3 (ipykernel)",
   "language": "python",
   "name": "python3"
  },
  "language_info": {
   "codemirror_mode": {
    "name": "ipython",
    "version": 3
   },
   "file_extension": ".py",
   "mimetype": "text/x-python",
   "name": "python",
   "nbconvert_exporter": "python",
   "pygments_lexer": "ipython3",
   "version": "3.10.4"
  }
 },
 "nbformat": 4,
 "nbformat_minor": 5
}
