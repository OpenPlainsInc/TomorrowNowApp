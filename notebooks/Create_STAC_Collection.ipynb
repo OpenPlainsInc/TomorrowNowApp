{
 "cells": [
  {
   "cell_type": "code",
   "execution_count": 1,
   "id": "45415a0e-73f0-436b-8f28-72983193145d",
   "metadata": {},
   "outputs": [
    {
     "data": {
      "text/plain": [
       "<grass.jupyter.setup._JupyterGlobalSession at 0x7f9974ba5090>"
      ]
     },
     "execution_count": 1,
     "metadata": {},
     "output_type": "execute_result"
    }
   ],
   "source": [
    "# Import Python standard library and IPython packages we need.\n",
    "import os\n",
    "import subprocess\n",
    "import sys\n",
    "import csv\n",
    "import numpy as np\n",
    "import matplotlib.pyplot as plt\n",
    "from collections import defaultdict\n",
    "from pprint import pprint\n",
    "import json\n",
    "import time\n",
    "import requests\n",
    "from requests.auth import HTTPBasicAuth\n",
    "import rasterio\n",
    "from shapely.geometry import GeometryCollection, Polygon, box, shape, mapping\n",
    "from google.cloud import storage\n",
    "\n",
    "# Ask GRASS GIS where its Python packages are.\n",
    "gisbase = subprocess.check_output([\"grass\", \"--config\", \"path\"], text=True).strip()\n",
    "os.environ[\"GISBASE\"] = gisbase\n",
    "os.environ[\"ACTINIA_USER\"] = 'actinia-gdi'\n",
    "os.environ[\"ACTINIA_PASSWORD\"] = 'actinia-gdi'\n",
    "os.environ[\"AUTH\"] = 'actinia-gdi:actinia-gdi'\n",
    "os.environ[\"ACTINIA_URL\"] = 'http://localhost:8088'\n",
    "os.environ[\"ACTINIA_URL\"] = 'http://localhost:8088'\n",
    "os.environ[\"GCS_RESOURCE_BUCKET\"] = 'tomorrownow-actinia-dev'\n",
    "os.environ[\"GOOGLE_APPLICATION_CREDENTIALS\"] = './env/gcp_tomorrownow_dev_key.json'\n",
    "\n",
    "ACTINIA_VERSION = 'v3'\n",
    "ACTINIA_BASEURL = 'http://localhost:8088'\n",
    "ACTINIA_URL = ACTINIA_BASEURL + \"/api/\" + ACTINIA_VERSION\n",
    "ACTINIA_AUTH = HTTPBasicAuth(\"actinia-gdi\", \"actinia-gdi\")\n",
    "sys.path.append(os.path.join(gisbase, \"etc\", \"python\"))\n",
    "\n",
    "# Import the GRASS GIS packages we need.\n",
    "import grass.script as gs\n",
    "import grass.jupyter as gj\n",
    "\n",
    "# Start GRASS Session\n",
    "## Set your grass data location\n",
    "gj.init(\"../actinia-core-data/grassdb\", \"nc_spm_08\", \"PERMANENT\")"
   ]
  },
  {
   "cell_type": "code",
   "execution_count": 27,
   "id": "e0ccc641-3f50-44f0-8f05-1eb6cf32ac06",
   "metadata": {},
   "outputs": [
    {
     "name": "stdout",
     "output_type": "stream",
     "text": [
      "Defaulting to user installation because normal site-packages is not writeable\n",
      "Collecting rasterio\n",
      "  Downloading rasterio-1.3.3-cp310-cp310-manylinux_2_17_x86_64.manylinux2014_x86_64.whl (20.9 MB)\n",
      "\u001b[2K     \u001b[38;2;114;156;31m━━━━━━━━━━━━━━━━━━━━━━━━━━━━━━━━━━━━━━━━\u001b[0m \u001b[32m20.9/20.9 MB\u001b[0m \u001b[31m17.3 MB/s\u001b[0m eta \u001b[36m0:00:00\u001b[0mm eta \u001b[36m0:00:01\u001b[0m0:01\u001b[0m:01\u001b[0m\n",
      "\u001b[?25hCollecting click-plugins\n",
      "  Using cached click_plugins-1.1.1-py2.py3-none-any.whl (7.5 kB)\n",
      "Collecting cligj>=0.5\n",
      "  Downloading cligj-0.7.2-py3-none-any.whl (7.1 kB)\n",
      "Requirement already satisfied: attrs in /usr/lib/python3/dist-packages (from rasterio) (21.2.0)\n",
      "Requirement already satisfied: certifi in /usr/lib/python3/dist-packages (from rasterio) (2020.6.20)\n",
      "Requirement already satisfied: numpy>=1.18 in /usr/lib/python3/dist-packages (from rasterio) (1.21.5)\n",
      "Requirement already satisfied: click>=4.0 in /usr/lib/python3/dist-packages (from rasterio) (8.0.3)\n",
      "Collecting affine\n",
      "  Downloading affine-2.3.1-py2.py3-none-any.whl (16 kB)\n",
      "Requirement already satisfied: setuptools in /usr/lib/python3/dist-packages (from rasterio) (59.6.0)\n",
      "Collecting snuggs>=1.4.1\n",
      "  Downloading snuggs-1.4.7-py3-none-any.whl (5.4 kB)\n",
      "Requirement already satisfied: pyparsing>=2.1.6 in /usr/lib/python3/dist-packages (from snuggs>=1.4.1->rasterio) (2.4.7)\n",
      "Installing collected packages: affine, snuggs, cligj, click-plugins, rasterio\n",
      "Successfully installed affine-2.3.1 click-plugins-1.1.1 cligj-0.7.2 rasterio-1.3.3 snuggs-1.4.7\n",
      "--- Logging error ---\n",
      "Traceback (most recent call last):\n",
      "  File \"/home/coreywhite/.local/lib/python3.10/site-packages/pip/_internal/utils/logging.py\", line 177, in emit\n",
      "    self.console.print(renderable, overflow=\"ignore\", crop=False, style=style)\n",
      "  File \"/home/coreywhite/.local/lib/python3.10/site-packages/pip/_vendor/rich/console.py\", line 1673, in print\n",
      "    extend(render(renderable, render_options))\n",
      "  File \"/home/coreywhite/.local/lib/python3.10/site-packages/pip/_vendor/rich/console.py\", line 1305, in render\n",
      "    for render_output in iter_render:\n",
      "  File \"/home/coreywhite/.local/lib/python3.10/site-packages/pip/_internal/utils/logging.py\", line 134, in __rich_console__\n",
      "    for line in lines:\n",
      "  File \"/home/coreywhite/.local/lib/python3.10/site-packages/pip/_vendor/rich/segment.py\", line 249, in split_lines\n",
      "    for segment in segments:\n",
      "  File \"/home/coreywhite/.local/lib/python3.10/site-packages/pip/_vendor/rich/console.py\", line 1283, in render\n",
      "    renderable = rich_cast(renderable)\n",
      "  File \"/home/coreywhite/.local/lib/python3.10/site-packages/pip/_vendor/rich/protocol.py\", line 36, in rich_cast\n",
      "    renderable = cast_method()\n",
      "  File \"/home/coreywhite/.local/lib/python3.10/site-packages/pip/_internal/self_outdated_check.py\", line 130, in __rich__\n",
      "    pip_cmd = get_best_invocation_for_this_pip()\n",
      "  File \"/home/coreywhite/.local/lib/python3.10/site-packages/pip/_internal/utils/entrypoints.py\", line 58, in get_best_invocation_for_this_pip\n",
      "    if found_executable and os.path.samefile(\n",
      "  File \"/usr/lib/python3.10/genericpath.py\", line 101, in samefile\n",
      "    s2 = os.stat(f2)\n",
      "FileNotFoundError: [Errno 2] No such file or directory: '/usr/bin/pip'\n",
      "Call stack:\n",
      "  File \"/home/coreywhite/.local/bin/pip\", line 8, in <module>\n",
      "    sys.exit(main())\n",
      "  File \"/home/coreywhite/.local/lib/python3.10/site-packages/pip/_internal/cli/main.py\", line 70, in main\n",
      "    return command.main(cmd_args)\n",
      "  File \"/home/coreywhite/.local/lib/python3.10/site-packages/pip/_internal/cli/base_command.py\", line 101, in main\n",
      "    return self._main(args)\n",
      "  File \"/home/coreywhite/.local/lib/python3.10/site-packages/pip/_internal/cli/base_command.py\", line 223, in _main\n",
      "    self.handle_pip_version_check(options)\n",
      "  File \"/home/coreywhite/.local/lib/python3.10/site-packages/pip/_internal/cli/req_command.py\", line 190, in handle_pip_version_check\n",
      "    pip_self_version_check(session, options)\n",
      "  File \"/home/coreywhite/.local/lib/python3.10/site-packages/pip/_internal/self_outdated_check.py\", line 236, in pip_self_version_check\n",
      "    logger.warning(\"[present-rich] %s\", upgrade_prompt)\n",
      "  File \"/usr/lib/python3.10/logging/__init__.py\", line 1489, in warning\n",
      "    self._log(WARNING, msg, args, **kwargs)\n",
      "  File \"/usr/lib/python3.10/logging/__init__.py\", line 1624, in _log\n",
      "    self.handle(record)\n",
      "  File \"/usr/lib/python3.10/logging/__init__.py\", line 1634, in handle\n",
      "    self.callHandlers(record)\n",
      "  File \"/usr/lib/python3.10/logging/__init__.py\", line 1696, in callHandlers\n",
      "    hdlr.handle(record)\n",
      "  File \"/usr/lib/python3.10/logging/__init__.py\", line 968, in handle\n",
      "    self.emit(record)\n",
      "  File \"/home/coreywhite/.local/lib/python3.10/site-packages/pip/_internal/utils/logging.py\", line 179, in emit\n",
      "    self.handleError(record)\n",
      "Message: '[present-rich] %s'\n",
      "Arguments: (UpgradePrompt(old='22.2.2', new='22.3.1'),)\n"
     ]
    }
   ],
   "source": [
    "# !pip3 install google-cloud-storage \n",
    "!pip install rasterio"
   ]
  },
  {
   "cell_type": "code",
   "execution_count": 2,
   "id": "a9edf333-b253-4479-8203-68908bc6b90d",
   "metadata": {},
   "outputs": [
    {
     "name": "stdout",
     "output_type": "stream",
     "text": [
      "1.6.1\n"
     ]
    }
   ],
   "source": [
    "from datetime import datetime\n",
    "\n",
    "import pystac\n",
    "print(pystac.__version__)\n",
    "\n",
    "from pystac.extensions.projection import ProjectionExtension\n",
    "from pystac.extensions.view import ViewExtension"
   ]
  },
  {
   "cell_type": "markdown",
   "id": "0cc8c6f5-38d1-4d92-bf00-7856ad3364df",
   "metadata": {},
   "source": [
    "# Create a New root STAC catalog\n",
    "\n",
    "## Collections\n",
    "\n",
    "### geomorphology\n",
    "#### elevation\n",
    "- LandFire_CONUS\n",
    "#### slope\n",
    "- LandFirePercent_CONUS\n",
    "- LandFireSlopeDegree_CONUS\n",
    "#### aspect\n",
    "- LandFire_CONUS\n",
    "         \n",
    "### hydrology\n",
    "#### FlowDirection\n",
    "- MeritHydro\n",
    "#### Basins\n",
    "- MeritHydro\n",
    "#### Streams\n",
    "- MeritHydro\n",
    "#### WaterBodies\n",
    "\n",
    "### transportation\n",
    "#### Roads\n",
    "- LandFire_CONUS\n",
    "      \n",
    "### lulc\n",
    "#### Land Cover\n",
    "- NLCD (2001 - 2019)\n",
    "- [X] GCP\n",
    "- [ ] Collection\n",
    "#### Land Use\n",
    "- NWALT (1974 - 2012)\n",
    "#### Impervious Surface\n",
    "- NLCD (2001 - 2019)\n",
    "#### Protected Areas\n",
    "- PADUS3_CONUS\n",
    "         \n",
    " \n",
    "### climate_weather\n",
    "#### Precipitation\n",
    "#### Climate Projections\n",
    "\n",
    "### demographic\n",
    "#### Population\n",
    "- LandScanGlobal\n",
    "    - Day (2000 - 2021)\n",
    "    - Night (2000 - 2021)\n",
    "- LandScanUSA \n",
    "     - Day (2016 - 2021)\n",
    "     - Night (2016 - 2021)\n",
    "     \n",
    "### natural_disasters\n",
    "#### Flooding\n",
    "- FloodDamageProbability\n",
    "#### Fire\n",
    "     \n",
    "\n",
    "Creating a root catalog to oragnize all data under"
   ]
  },
  {
   "cell_type": "code",
   "execution_count": 142,
   "id": "7f78c9f8-de28-41a3-ba7a-3160cbbcd259",
   "metadata": {},
   "outputs": [],
   "source": [
    "op_catalog = pystac.Catalog(id = \"openplains\", description= \"STAC collection containing data used by OpenPlains.\")"
   ]
  },
  {
   "cell_type": "code",
   "execution_count": 143,
   "id": "540714ae-7467-4619-b2be-99bb1dbdf622",
   "metadata": {},
   "outputs": [
    {
     "data": {
      "text/plain": [
       "[<Link rel=root target=<Catalog id=openplains>>]"
      ]
     },
     "execution_count": 143,
     "metadata": {},
     "output_type": "execute_result"
    }
   ],
   "source": [
    "op_catalog.links"
   ]
  },
  {
   "cell_type": "code",
   "execution_count": 144,
   "id": "0c3b4a26-2894-4c9c-8dba-a75d075cf6cd",
   "metadata": {},
   "outputs": [],
   "source": [
    "# Placeholder spatial extent will set from items once they are loaded\n",
    "sp_extent = pystac.SpatialExtent([None,None,None,None])"
   ]
  },
  {
   "cell_type": "markdown",
   "id": "53d7196c-c625-48f7-885b-91864e4df69e",
   "metadata": {},
   "source": [
    "## Add LULC catalog\n",
    "\n",
    "Adding a child catalog to op_catalog to store land cover land use collections"
   ]
  },
  {
   "cell_type": "code",
   "execution_count": 145,
   "id": "fee85764-fd99-4f0f-b2fc-7ee6b084f1de",
   "metadata": {},
   "outputs": [],
   "source": [
    "lclu = pystac.Catalog(id = \"lclu\", description=\"A catalog containing land cover land use data collections\")\n",
    "op_catalog.add_child(lclu)"
   ]
  },
  {
   "cell_type": "code",
   "execution_count": 146,
   "id": "37abe7b1-5582-4e94-8aec-89776e80ef59",
   "metadata": {},
   "outputs": [
    {
     "data": {
      "text/plain": [
       "[<Link rel=root target=<Catalog id=openplains>>,\n",
       " <Link rel=child target=<Catalog id=lclu>>]"
      ]
     },
     "execution_count": 146,
     "metadata": {},
     "output_type": "execute_result"
    }
   ],
   "source": [
    "op_catalog.links"
   ]
  },
  {
   "cell_type": "code",
   "execution_count": 147,
   "id": "d173254f-1cc1-4fdc-8cd0-b4661cb2a18b",
   "metadata": {},
   "outputs": [
    {
     "name": "stdout",
     "output_type": "stream",
     "text": [
      "* <Catalog id=openplains>\n",
      "    * <Catalog id=lclu>\n"
     ]
    }
   ],
   "source": [
    "op_catalog.describe()"
   ]
  },
  {
   "cell_type": "markdown",
   "id": "b0c01afa-a2fd-4e11-a83b-544e1f212091",
   "metadata": {},
   "source": [
    "### Add a collection to the lclu catalog"
   ]
  },
  {
   "cell_type": "code",
   "execution_count": 148,
   "id": "8c0344e5-333d-4cb8-95cb-02a30e553cdd",
   "metadata": {},
   "outputs": [],
   "source": [
    "# bounding_box = (west, south, east, north)\n",
    "# Upper Left  (, ) (128d23'12.86\"W, 48d45' 5.48\"N)\n",
    "# Lower Left  (,  ) (118d41' 8.49\"W, 22d25'42.26\"N)\n",
    "# Upper Right ( 2327655.000, ) ( 64d 3'14.58\"W, 48d51'23.26\"N)\n",
    "# Lower Right ( 2327655.000) ( 73d38' 8.32\"W, 22d30'13.03\"N)\n",
    "\n",
    "north = 3267405\n",
    "west = -2362395\n",
    "south = 221265\n",
    "east = 2327655\n",
    "sp_extent = pystac.SpatialExtent([None,None,None,None])\n",
    "start_date = datetime.strptime('2001-01-01', '%Y-%m-%d')\n",
    "end_data = datetime.strptime('2019-01-01', '%Y-%m-%d')\n",
    "temporal_extent = pystac.TemporalExtent([(start_date, end_data)])\n",
    "extent = pystac.Extent(sp_extent, temporal_extent)"
   ]
  },
  {
   "cell_type": "code",
   "execution_count": 149,
   "id": "9cf744f9-455c-4af7-bfeb-e525b05fd4fc",
   "metadata": {},
   "outputs": [],
   "source": [
    "nlcd = pystac.Collection(id='nlcd', description = 'NLCD datasets 2001 - 2019', extent = extent)\n",
    "lclu.add_child(nlcd)"
   ]
  },
  {
   "cell_type": "code",
   "execution_count": 150,
   "id": "c01de26c-15de-4ce3-9866-3ea00a09a6ed",
   "metadata": {},
   "outputs": [
    {
     "name": "stdout",
     "output_type": "stream",
     "text": [
      "* <Catalog id=openplains>\n",
      "    * <Catalog id=lclu>\n",
      "        * <Collection id=nlcd>\n"
     ]
    }
   ],
   "source": [
    "op_catalog.describe()"
   ]
  },
  {
   "cell_type": "markdown",
   "id": "baa05b98-6c29-4b9d-961c-84f88b9da8cb",
   "metadata": {},
   "source": [
    "### Load data from GCS into collection"
   ]
  },
  {
   "cell_type": "code",
   "execution_count": 37,
   "id": "77f20e8f-3e06-42a6-9185-82bce267e1fe",
   "metadata": {},
   "outputs": [],
   "source": [
    "from google.cloud import storage"
   ]
  },
  {
   "cell_type": "code",
   "execution_count": 39,
   "id": "09ed005b-d5ba-4942-8bd8-5e7727943458",
   "metadata": {},
   "outputs": [],
   "source": [
    "# Instantiates a client\n",
    "storage_client = storage.Client()\n",
    "\n",
    "# The name for the new bucket\n",
    "bucket_name = \"tomorrownow-actinia-dev\"\n",
    "buckets = storage_client.list_buckets()"
   ]
  },
  {
   "cell_type": "code",
   "execution_count": 40,
   "id": "8d49fb87-aee2-4c6f-b59f-69fb466d14a5",
   "metadata": {},
   "outputs": [
    {
     "name": "stdout",
     "output_type": "stream",
     "text": [
      "['nlcd/nlcd_2001_cog.tif', 'nlcd/nlcd_2004_cog.tif', 'nlcd/nlcd_2006_cog.tif', 'nlcd/nlcd_2008_cog.tif', 'nlcd/nlcd_2011_cog.tif', 'nlcd/nlcd_2013_cog.tif', 'nlcd/nlcd_2016_cog.tif', 'nlcd/nlcd_2019_cog.tif']\n"
     ]
    }
   ],
   "source": [
    "blobs = storage_client.list_blobs(bucket_name, prefix=\"nlcd\")\n",
    "data = [b.name for b in blobs if b.name.endswith('tif')]\n",
    "print(data)"
   ]
  },
  {
   "cell_type": "code",
   "execution_count": 60,
   "id": "17ee3146-2880-46c7-a45c-abbdd142c78e",
   "metadata": {},
   "outputs": [
    {
     "name": "stdout",
     "output_type": "stream",
     "text": [
      "Content-type: image/tiff\n",
      "Content-type: image/tiff\n",
      "Content-type: image/tiff\n",
      "Content-type: image/tiff\n",
      "Content-type: image/tiff\n",
      "Content-type: image/tiff\n",
      "Content-type: image/tiff\n",
      "Content-type: image/tiff; application=geotiff; profile=cloud-optimized\n"
     ]
    }
   ],
   "source": [
    "blobs = storage_client.list_blobs(bucket_name, prefix=\"nlcd\")\n",
    "\n",
    "for blob in blobs:\n",
    "    if blob.name.endswith('tif'):\n",
    "        print(\"Content-type: {}\".format(blob.content_type))\n",
    "        blob.content_type = \"image/tiff; application=geotiff; profile=cloud-optimized\"\n",
    "        blob.patch()\n",
    "        blob.make_public()"
   ]
  },
  {
   "cell_type": "markdown",
   "id": "cd42186a-61eb-4ac3-b9e8-32dc9859d6c2",
   "metadata": {},
   "source": [
    "#### Add items to collection"
   ]
  },
  {
   "cell_type": "code",
   "execution_count": 77,
   "id": "e765d291-dd98-44ec-b0cf-27b5509a1995",
   "metadata": {},
   "outputs": [],
   "source": [
    "for d in data:\n",
    "    uri = os.path.join(f'gs://{bucket_name}', d)\n",
    "    uri = os.path.join(f'gs://{bucket_name}', d) nlcd_2001_cog.tif\n",
    "    params = {}\n",
    "    params['id'] = os.path.basename(uri).split('.')[0]\n",
    "    with rasterio.open(uri) as src:\n",
    "        params['bbox'] = list(src.bounds)\n",
    "        params['geometry'] = mapping(box(*params['bbox']))\n",
    "        \n",
    "    params['datetime'] = datetime.strptime(f'{d.split(\"_\")[1]}-01-01', '%Y-%m-%d')\n",
    "    params['properties'] = {}\n",
    "    i = pystac.Item(**params)\n",
    "    i.add_asset(key='image', asset=pystac.Asset(href=uri,\n",
    "                                                title='Geotiff',\n",
    "                                                media_type=pystac.MediaType.COG))\n",
    "    nlcd.add_item(i)"
   ]
  },
  {
   "cell_type": "code",
   "execution_count": 78,
   "id": "f08ec95a-5a14-48d2-8fc9-9b5e62d33a5b",
   "metadata": {},
   "outputs": [
    {
     "name": "stdout",
     "output_type": "stream",
     "text": [
      "* <Catalog id=savana>\n",
      "    * <Catalog id=lclu>\n",
      "        * <Collection id=nlcd>\n",
      "          * <Item id=nlcd_2001_cog>\n",
      "          * <Item id=nlcd_2004_cog>\n",
      "          * <Item id=nlcd_2006_cog>\n",
      "          * <Item id=nlcd_2008_cog>\n",
      "          * <Item id=nlcd_2011_cog>\n",
      "          * <Item id=nlcd_2013_cog>\n",
      "          * <Item id=nlcd_2016_cog>\n",
      "          * <Item id=nlcd_2019_cog>\n"
     ]
    }
   ],
   "source": [
    "# lclu.remove_child('nlcd')\n",
    "op_catalog.describe()"
   ]
  },
  {
   "cell_type": "markdown",
   "id": "7f9e3ad0-68d3-4c99-ada1-897ac67e2d65",
   "metadata": {},
   "source": [
    "#### Update item extents"
   ]
  },
  {
   "cell_type": "code",
   "execution_count": 80,
   "id": "d0a4b5f6-83b3-422c-a7b0-dbef186ccd51",
   "metadata": {},
   "outputs": [
    {
     "data": {
      "text/plain": [
       "{'type': 'Collection',\n",
       " 'id': 'nlcd',\n",
       " 'stac_version': '1.0.0',\n",
       " 'description': 'NLCD datasets 2001 - 2019',\n",
       " 'links': [{'rel': <RelType.ROOT: 'root'>,\n",
       "   'href': None,\n",
       "   'type': <MediaType.JSON: 'application/json'>},\n",
       "  {'rel': <RelType.ITEM: 'item'>,\n",
       "   'href': None,\n",
       "   'type': <MediaType.JSON: 'application/json'>},\n",
       "  {'rel': <RelType.ITEM: 'item'>,\n",
       "   'href': None,\n",
       "   'type': <MediaType.JSON: 'application/json'>},\n",
       "  {'rel': <RelType.ITEM: 'item'>,\n",
       "   'href': None,\n",
       "   'type': <MediaType.JSON: 'application/json'>},\n",
       "  {'rel': <RelType.ITEM: 'item'>,\n",
       "   'href': None,\n",
       "   'type': <MediaType.JSON: 'application/json'>},\n",
       "  {'rel': <RelType.ITEM: 'item'>,\n",
       "   'href': None,\n",
       "   'type': <MediaType.JSON: 'application/json'>},\n",
       "  {'rel': <RelType.ITEM: 'item'>,\n",
       "   'href': None,\n",
       "   'type': <MediaType.JSON: 'application/json'>},\n",
       "  {'rel': <RelType.ITEM: 'item'>,\n",
       "   'href': None,\n",
       "   'type': <MediaType.JSON: 'application/json'>},\n",
       "  {'rel': <RelType.ITEM: 'item'>,\n",
       "   'href': None,\n",
       "   'type': <MediaType.JSON: 'application/json'>},\n",
       "  {'rel': <RelType.PARENT: 'parent'>,\n",
       "   'href': None,\n",
       "   'type': <MediaType.JSON: 'application/json'>}],\n",
       " 'stac_extensions': [],\n",
       " 'extent': {'spatial': {'bbox': [[-2493045.0,\n",
       "     177285.0,\n",
       "     2342655.0,\n",
       "     3310005.0]]},\n",
       "  'temporal': {'interval': [['2001-01-01T00:00:00Z',\n",
       "     '2019-01-01T00:00:00Z']]}},\n",
       " 'license': 'proprietary'}"
      ]
     },
     "execution_count": 80,
     "metadata": {},
     "output_type": "execute_result"
    }
   ],
   "source": [
    "nlcd.update_extent_from_items()\n",
    "nlcd.to_dict()"
   ]
  },
  {
   "cell_type": "markdown",
   "id": "403acc1e-4107-4590-9167-afd82d491650",
   "metadata": {},
   "source": [
    "## Add transportation Catalog"
   ]
  },
  {
   "cell_type": "code",
   "execution_count": 54,
   "id": "d801263c-4050-47e3-8805-0b5f7bf594c7",
   "metadata": {},
   "outputs": [],
   "source": [
    "transportation = pystac.Catalog(id = \"transportation\", description=\"A catalog containing transportation data collections\")\n",
    "op_catalog.add_child(transportation)"
   ]
  },
  {
   "cell_type": "markdown",
   "id": "d65f2032-58b3-4d05-9023-d3585b09b238",
   "metadata": {},
   "source": [
    "### Add Collections"
   ]
  },
  {
   "cell_type": "code",
   "execution_count": 55,
   "id": "ac665013-ead4-4d33-a883-966945f5ae69",
   "metadata": {},
   "outputs": [],
   "source": [
    "sp_extent = pystac.SpatialExtent([None,None,None,None])\n",
    "roads = pystac.Collection(id='roads', description = 'Road Datasets', extent = sp_extent)\n",
    "transportation.add_child(roads)"
   ]
  },
  {
   "cell_type": "markdown",
   "id": "be70e83c-7655-452a-a778-b47f8e3e6fea",
   "metadata": {},
   "source": [
    "### Add items"
   ]
  },
  {
   "cell_type": "code",
   "execution_count": 56,
   "id": "43ac5bd5-d830-49c3-84b5-183f4d4d82a8",
   "metadata": {},
   "outputs": [],
   "source": [
    "def addCogAssets(uri, collection, properties={}, extra_asset_fields={}):\n",
    "    with rasterio.open(uri) as src:\n",
    "        params = {}\n",
    "        params['id'] = os.path.basename(uri).split('.')[0]\n",
    "    # try:\n",
    "        params['bbox'] = list(src.bounds)\n",
    "        params['geometry'] = mapping(box(*params['bbox']))\n",
    "\n",
    "        params['datetime'] = datetime.strptime(f'{2020}-01-01', '%Y-%m-%d')\n",
    "        params['properties'] = properties\n",
    "        params[\"stac_extensions\"]: [\n",
    "            \"https://stac-extensions.github.io/projection/v1.0.0/schema.json\",\n",
    "            \"https://stac-extensions.github.io/eo/v1.0.0/schema.json\",\n",
    "            \"https://stac-extensions.github.io/classification/v1.1.0/schema.json\"\n",
    "        ]\n",
    "        i = pystac.Item(**params)\n",
    "        i.add_asset(key='analytic', asset=pystac.Asset(href=uri,\n",
    "                                                    title='LF 2020 Operational Roads',\n",
    "                                                    media_type=pystac.MediaType.COG,\n",
    "                                                    roles=['data'], extra_fields=extra_asset_fields))\n",
    "        collection.add_item(i)\n",
    "    # except:\n",
    "    #     print(e)\n",
    "        \n",
    "    \n",
    "url = 'https://storage.googleapis.com/tomorrownow-actinia-dev/SpatialData/transportation/roads/LC20_Roads_220_cog.tif'\n",
    "properties = {\n",
    "    \"source\": \"https://www.landfire.gov/transportation.php\",\n",
    "    \"name\": \"LF 2020 Operational Roads\",\n",
    "    \"proj:epsg\": 5070   \n",
    "}\n",
    "\n",
    "extra_asset_field = { \n",
    "    \"raster:bands\": [\n",
    "        {\n",
    "            \"classification:classes\": [\n",
    "                {\n",
    "                    \"value\": -9999,\n",
    "                    \"name\": \"Fill - NoData\",\n",
    "                    \"description\": \"NoData\",\n",
    "                    \"nodata\": True\n",
    "                },\n",
    "                {\n",
    "                    \"value\": 0,\n",
    "                    \"name\": \"Background Value\",\n",
    "                    \"description\": \"Background Value.\",\n",
    "                    \"color_hint\": \"000000\"\n",
    "                },\n",
    "                {\n",
    "                    \"value\": 20,\n",
    "                    \"name\": \"Primary road\",\n",
    "                    \"description\": \"Interstates and other major roads. Pixels were derived from the 2018 NavStreets Street Data.\",\n",
    "                    \"color_hint\": \"ff0101\"\n",
    "                },\n",
    "                {\n",
    "                    \"value\": 21,\n",
    "                    \"name\": \"Secondary road\",\n",
    "                    \"description\": \"Non-interstate highways. Pixels were derived from the 2018 NavStreets Street Data.\",\n",
    "                    \"color_hint\": \"ffff01\"\n",
    "                },\n",
    "                {\n",
    "                    \"value\": 22,\n",
    "                    \"name\": \"Tertiary road\",\n",
    "                    \"description\": \"Any two-lane road. Pixels were derived from the 2018 NavStreets Street Data.\",\n",
    "                    \"color_hint\": \"00f00f\"\n",
    "                },\n",
    "                {\n",
    "                    \"value\": 23,\n",
    "                    \"name\": \"Thinned road\",\n",
    "                    \"description\": \"Small tertiary roads that generally are not paved and have been removed from the landcover but remain as part of the impervious surface product. Pixels were derived from the 2018 NavStreets Street Data\",\n",
    "                    \"color_hint\": \"ffffff\"\n",
    "                },\n",
    "                {\n",
    "                    \"value\": 255,\n",
    "                    \"name\": \"NoData\",\n",
    "                    \"description\": \"NoData\",\n",
    "                    \"nodata\": True\n",
    "                }\n",
    "          ]\n",
    "        }\n",
    "      ]\n",
    "}\n",
    "addCogAssets(url, roads, properties, extra_asset_field)"
   ]
  },
  {
   "cell_type": "code",
   "execution_count": 57,
   "id": "417f0662-640e-42f4-a01e-a0c412a3ae54",
   "metadata": {},
   "outputs": [
    {
     "name": "stdout",
     "output_type": "stream",
     "text": [
      "* <Catalog id=openplains>\n",
      "    * <Catalog id=lclu>\n",
      "        * <Collection id=nlcd>\n",
      "    * <Catalog id=transportation>\n",
      "        * <Collection id=roads>\n",
      "          * <Item id=LC20_Roads_220_cog>\n"
     ]
    }
   ],
   "source": [
    "# op_catalog.remove_child('transportation')\n",
    "op_catalog.describe()"
   ]
  },
  {
   "cell_type": "code",
   "execution_count": 58,
   "id": "49629fb4-5cf4-4a63-a7e4-c221671abd8d",
   "metadata": {},
   "outputs": [
    {
     "data": {
      "text/plain": [
       "{'type': 'Collection',\n",
       " 'id': 'roads',\n",
       " 'stac_version': '1.0.0',\n",
       " 'description': 'Road Datasets',\n",
       " 'links': [{'rel': <RelType.ROOT: 'root'>,\n",
       "   'href': '/home/coreywhite/Documents/GitHub/TomorrowNow/TomorrowNowApp/notebooks/op_catalog/catalog.json',\n",
       "   'type': <MediaType.JSON: 'application/json'>},\n",
       "  {'rel': <RelType.SELF: 'self'>,\n",
       "   'href': '/home/coreywhite/Documents/GitHub/TomorrowNow/TomorrowNowApp/notebooks/op_catalog/transportation/roads/collection.json',\n",
       "   'type': <MediaType.JSON: 'application/json'>},\n",
       "  {'rel': <RelType.ITEM: 'item'>,\n",
       "   'href': '/home/coreywhite/Documents/GitHub/TomorrowNow/TomorrowNowApp/notebooks/op_catalog/transportation/roads/LC20_Roads_220_cog/LC20_Roads_220_cog.json',\n",
       "   'type': <MediaType.JSON: 'application/json'>},\n",
       "  {'rel': <RelType.PARENT: 'parent'>,\n",
       "   'href': '/home/coreywhite/Documents/GitHub/TomorrowNow/TomorrowNowApp/notebooks/op_catalog/transportation/catalog.json',\n",
       "   'type': <MediaType.JSON: 'application/json'>}],\n",
       " 'stac_extensions': [],\n",
       " 'extent': {'spatial': {'bbox': [[-2362395.0000000005,\n",
       "     221265.00000000047,\n",
       "     2327655.0000000005,\n",
       "     3267405.000000001]]},\n",
       "  'temporal': {'interval': [['2020-01-01T00:00:00Z',\n",
       "     '2020-01-01T00:00:00Z']]}},\n",
       " 'license': 'proprietary'}"
      ]
     },
     "execution_count": 58,
     "metadata": {},
     "output_type": "execute_result"
    }
   ],
   "source": [
    "roads.update_extent_from_items()\n",
    "roads.to_dict()"
   ]
  },
  {
   "cell_type": "markdown",
   "id": "ba68f0e2-58e9-42c2-8083-82b37cc2a4c6",
   "metadata": {},
   "source": [
    "## Add Geomorphology Catalog"
   ]
  },
  {
   "cell_type": "markdown",
   "id": "cb191586-a65e-45bf-8fcb-ebee89f9b172",
   "metadata": {},
   "source": [
    "## Normalize Catalogs hrefs"
   ]
  },
  {
   "cell_type": "code",
   "execution_count": 88,
   "id": "6d588360-f88f-41f9-954d-89bdddc5cbe0",
   "metadata": {},
   "outputs": [],
   "source": [
    "# op_catalog.normalize_hrefs(os.path.join(tmp_dir.name, 'stac'))\n",
    "op_catalog.normalize_hrefs('./op_catalog')\n",
    "op_catalog.save(\"./op_catalog\")"
   ]
  },
  {
   "cell_type": "markdown",
   "id": "fd9c57b0-ab92-4c82-bc53-5d889d6719c8",
   "metadata": {},
   "source": [
    "# GRASSDATA Catalog"
   ]
  },
  {
   "cell_type": "code",
   "execution_count": 134,
   "id": "2b8690ad-08c3-4350-a561-55354c0e93d4",
   "metadata": {},
   "outputs": [],
   "source": [
    "grassdata_catalog = pystac.Catalog(id = \"grassdata\", description= \"GRASS GIS STAC data catalog used by OpenPlains.\")\n",
    "\n",
    "sp_extent = pystac.SpatialExtent([33.83,-84.33,36.59,-75.38])\n",
    "# A GRASS Location\n",
    "nc_spm_08 = pystac.Collection(\n",
    "    id=\"nc_spm_08\",\n",
    "    description=\"GRASS GIS Sample Datasets\",\n",
    "    extent=sp_extent,\n",
    "    title=\"nc_spm_08\",\n",
    "    stac_extensions=[\n",
    "        \"https://stac-extensions.github.io/projection/v1.0.0/schema.json\",\n",
    "        \"https://stac-extensions.github.io/scientific/v1.0.0/schema.json\"\n",
    "    ],\n",
    "    license=\"GNU General Public License (GPL)\",\n",
    "    keywords=['GRASS GIS', 'Location'],\n",
    "    extra_fields={\n",
    "        \"grass:type\": \"location\",\n",
    "        \"proj:epsg\": 3358,\n",
    "        \"sci:citation\": \"GRASS Development Team, 2022. Geographic Resources Analysis Support System (GRASS) Software, Version 8.0. Open Source Geospatial Foundation. https://grass.osgeo.org\" \n",
    "    }\n",
    ")\n",
    "grassdata_catalog.add_child(nc_spm_08)"
   ]
  },
  {
   "cell_type": "code",
   "execution_count": 108,
   "id": "d3f28a05-7d2c-47de-a9bf-67af5e785d18",
   "metadata": {},
   "outputs": [
    {
     "data": {
      "text/plain": [
       "{'type': 'Collection',\n",
       " 'id': 'nc_spm_08',\n",
       " 'stac_version': '1.0.0',\n",
       " 'description': 'GRASS GIS Sample Datasets',\n",
       " 'links': [{'rel': <RelType.ROOT: 'root'>,\n",
       "   'href': None,\n",
       "   'type': <MediaType.JSON: 'application/json'>},\n",
       "  {'rel': <RelType.PARENT: 'parent'>,\n",
       "   'href': None,\n",
       "   'type': <MediaType.JSON: 'application/json'>}],\n",
       " 'stac_extensions': ['https://stac-extensions.github.io/projection/v1.0.0/schema.json',\n",
       "  'https://stac-extensions.github.io/scientific/v1.0.0/schema.json'],\n",
       " 'grass:type': 'location',\n",
       " 'proj:epsg': 3358,\n",
       " 'sci:citation': 'GRASS Development Team, 2022. Geographic Resources Analysis Support System (GRASS) Software, Version 8.0. Open Source Geospatial Foundation. https://grass.osgeo.org',\n",
       " 'title': 'nc_spm_08',\n",
       " 'extent': {'bbox': [[33.83, -84.33, 36.59, -75.38]]},\n",
       " 'license': 'GNU General Public License (GPL)',\n",
       " 'keywords': ['GRASS GIS', 'Location']}"
      ]
     },
     "execution_count": 108,
     "metadata": {},
     "output_type": "execute_result"
    }
   ],
   "source": [
    "grassdata_catalog.to_dict()\n",
    "nc_spm_08.to_dict()"
   ]
  },
  {
   "cell_type": "code",
   "execution_count": 135,
   "id": "f5e148b4-97e6-42a3-b79e-a19ed50c0d2c",
   "metadata": {},
   "outputs": [],
   "source": [
    "PERMANENT = pystac.Collection(\n",
    "    id=\"PERMANENT\",\n",
    "    description=\"defualt mapset\",\n",
    "    extent=sp_extent,\n",
    "    title=\"PERMANENT\",\n",
    "    stac_extensions=[\n",
    "        \"https://stac-extensions.github.io/projection/v1.0.0/schema.json\",\n",
    "        \"https://stac-extensions.github.io/scientific/v1.0.0/schema.json\"\n",
    "    ],\n",
    "    license=\"GNU General Public License (GPL)\",\n",
    "    keywords=['GRASS GIS', 'mapset', 'PERMANENT'],\n",
    "    extra_fields={\n",
    "        \"grass:type\": \"mapset\",\n",
    "        \"proj:epsg\": 3358,\n",
    "        \"sci:citation\": \"GRASS Development Team, 2022. Geographic Resources Analysis Support System (GRASS) Software, Version 8.0. Open Source Geospatial Foundation. https://grass.osgeo.org\" \n",
    "    }\n",
    ")\n",
    "nc_spm_08.add_child(PERMANENT)"
   ]
  },
  {
   "cell_type": "code",
   "execution_count": 113,
   "id": "a6d23a1a-45d8-49af-ab0d-63c4f9c0bbd6",
   "metadata": {},
   "outputs": [
    {
     "data": {
      "text/plain": [
       "{'type': 'Collection',\n",
       " 'id': 'PERMANENT',\n",
       " 'stac_version': '1.0.0',\n",
       " 'description': 'defualt mapset',\n",
       " 'links': [{'rel': <RelType.ROOT: 'root'>,\n",
       "   'href': None,\n",
       "   'type': <MediaType.JSON: 'application/json'>},\n",
       "  {'rel': <RelType.PARENT: 'parent'>,\n",
       "   'href': None,\n",
       "   'type': <MediaType.JSON: 'application/json'>,\n",
       "   'title': 'nc_spm_08'}],\n",
       " 'stac_extensions': ['https://stac-extensions.github.io/projection/v1.0.0/schema.json',\n",
       "  'https://stac-extensions.github.io/scientific/v1.0.0/schema.json'],\n",
       " 'grass:type': 'mapset',\n",
       " 'proj:epsg': 3358,\n",
       " 'sci:citation': 'GRASS Development Team, 2022. Geographic Resources Analysis Support System (GRASS) Software, Version 8.0. Open Source Geospatial Foundation. https://grass.osgeo.org',\n",
       " 'title': 'PERMANENT',\n",
       " 'extent': {'bbox': [[33.83, -84.33, 36.59, -75.38]]},\n",
       " 'license': 'GNU General Public License (GPL)',\n",
       " 'keywords': ['GRASS GIS', 'mapset', 'PERMANENT']}"
      ]
     },
     "execution_count": 113,
     "metadata": {},
     "output_type": "execute_result"
    }
   ],
   "source": [
    "PERMANENT.to_dict()"
   ]
  },
  {
   "cell_type": "code",
   "execution_count": 99,
   "id": "b21ea387-418c-43db-bd7c-1293a5b63472",
   "metadata": {},
   "outputs": [
    {
     "data": {
      "text/plain": [
       "{'accept_datetime': '2022-11-11 07:34:18.163788',\n",
       " 'accept_timestamp': 1668152058.1637862,\n",
       " 'api_info': {'endpoint': 'rasterlayerresource',\n",
       "  'method': 'GET',\n",
       "  'path': '/api/v3/locations/nc_spm_08/mapsets/PERMANENT/raster_layers/elevation',\n",
       "  'request_url': 'http://localhost:8088/api/v3/locations/nc_spm_08/mapsets/PERMANENT/raster_layers/elevation'},\n",
       " 'datetime': '2022-11-11 07:34:18.362907',\n",
       " 'http_code': 200,\n",
       " 'message': 'Processing successfully finished',\n",
       " 'process_chain_list': [{'1': {'flags': 'gre',\n",
       "    'inputs': {'map': 'elevation@PERMANENT'},\n",
       "    'module': 'r.info'}}],\n",
       " 'process_log': [{'executable': 'r.info',\n",
       "   'id': '1',\n",
       "   'mapset_size': 421,\n",
       "   'parameter': ['map=elevation@PERMANENT', '-gre'],\n",
       "   'return_code': 0,\n",
       "   'run_time': 0.10041546821594238,\n",
       "   'stderr': [''],\n",
       "   'stdout': 'north=228500\\nsouth=215000\\neast=645000\\nwest=630000\\nnsres=10\\newres=10\\nrows=1350\\ncols=1500\\ncells=2025000\\ndatatype=FCELL\\nncats=255\\nmin=55.57879\\nmax=156.3299\\nmap=elevation\\nmaptype=raster\\nmapset=PERMANENT\\nlocation=nc_spm_08\\ndatabase=/actinia_core/workspace/temp_db/gisdbase_22c6051dfe5a44a1b95fa567e27f471e\\ndate=\"Tue Nov  7 01:09:51 2006\"\\ncreator=\"helena\"\\ntitle=\"South-West Wake county: Elevation NED 10m\"\\ntimestamp=\"none\"\\nunits=\"none\"\\nvdatum=\"none\"\\nsemantic_label=\"none\"\\nsource1=\"\"\\nsource2=\"\"\\ndescription=\"generated by r.proj\"\\ncomments=\"r.proj input=\"ned03arcsec\" location=\"northcarolina_latlong\" mapset=\"\\\\helena\" output=\"elev_ned10m\" method=\"cubic\" resolution=10\"\\n'}],\n",
       " 'process_results': {'cells': '2025000',\n",
       "  'cols': '1500',\n",
       "  'comments': '\"r.proj input=\"ned03arcsec\" location=\"northcarolina_latlong\" mapset=\"\\\\helena\" output=\"elev_ned10m\" method=\"cubic\" resolution=10\"',\n",
       "  'creator': '\"helena\"',\n",
       "  'database': '/actinia_core/workspace/temp_db/gisdbase_22c6051dfe5a44a1b95fa567e27f471e',\n",
       "  'datatype': 'FCELL',\n",
       "  'date': '\"Tue Nov  7 01:09:51 2006\"',\n",
       "  'description': '\"generated by r.proj\"',\n",
       "  'east': '645000',\n",
       "  'ewres': '10',\n",
       "  'location': 'nc_spm_08',\n",
       "  'map': 'elevation',\n",
       "  'mapset': 'PERMANENT',\n",
       "  'maptype': 'raster',\n",
       "  'max': '156.3299',\n",
       "  'min': '55.57879',\n",
       "  'ncats': '255',\n",
       "  'north': '228500',\n",
       "  'nsres': '10',\n",
       "  'rows': '1350',\n",
       "  'semantic_label': '\"none\"',\n",
       "  'source1': '\"\"',\n",
       "  'source2': '\"\"',\n",
       "  'south': '215000',\n",
       "  'timestamp': '\"none\"',\n",
       "  'title': '\"South-West Wake county: Elevation NED 10m\"',\n",
       "  'units': '\"none\"',\n",
       "  'vdatum': '\"none\"',\n",
       "  'west': '630000'},\n",
       " 'progress': {'num_of_steps': 1, 'step': 1},\n",
       " 'queue': 'local',\n",
       " 'resource_id': 'resource_id-b41c563b-7f78-437a-ac59-af00a5228aad',\n",
       " 'status': 'finished',\n",
       " 'time_delta': 0.19914770126342773,\n",
       " 'timestamp': 1668152058.3628757,\n",
       " 'urls': {'resources': [],\n",
       "  'status': 'http://localhost:8088/api/v3/resources/actinia-gdi/resource_id-b41c563b-7f78-437a-ac59-af00a5228aad'},\n",
       " 'user_id': 'actinia-gdi'}"
      ]
     },
     "execution_count": 99,
     "metadata": {},
     "output_type": "execute_result"
    }
   ],
   "source": [
    "# elevation_json = !curl -u 'actinia-gdi:actinia-gdi' -X GET \"http://localhost:8088/api/v3/locations/nc_spm_08/mapsets/PERMANENT/raster_layers/elevation\" | jq\n",
    "\n",
    "url =  \"http://localhost:8088/api/v3/locations/nc_spm_08/mapsets/PERMANENT/raster_layers/elevation\"\n",
    "# # url = \"http://localhost:8088/api/v3/locations/the_research_triangle/process_chain_validation_sync\"\n",
    "r = requests.get(\n",
    "            url, \n",
    "            auth=ACTINIA_AUTH,\n",
    "            headers={\"content-type\": \"application/json; charset=utf-8\"}\n",
    "        )\n",
    "elevation_json = r.json()\n",
    "elevation_json\n",
    "# print(f\"Response: {r.json()}\")"
   ]
  },
  {
   "cell_type": "code",
   "execution_count": 136,
   "id": "6c2c8a8e-400e-4786-97b1-ec39ec946f73",
   "metadata": {},
   "outputs": [],
   "source": [
    "def addGrassAssets(collection, location=\"nc_spm_08\", mapset=\"PERMANENT\", data_type=\"raster_layers\", data_name=\"elevation\"):\n",
    "    url =  f\"http://localhost:8088/api/v3/locations/{location}/mapsets/{mapset}/{data_type}/{data_name}\"\n",
    "    r = requests.get(\n",
    "                url, \n",
    "                auth=ACTINIA_AUTH,\n",
    "                headers={\"content-type\": \"application/json; charset=utf-8\"}\n",
    "            )\n",
    "    response_json = r.json()\n",
    "    if response_json:\n",
    "        uri = response_json['api_info']['path']\n",
    "        params = {}\n",
    "        params['id'] = data_name\n",
    "        process_results = response_json['process_results']\n",
    "        # left, bottom, right, top\n",
    "        params['bbox'] = [int(x) for x in [process_results['west'],process_results['south'],process_results['east'],process_results['north']]]\n",
    "        params['geometry'] = mapping(box(*params['bbox']))\n",
    "\n",
    "        params['datetime'] = datetime.strptime(\"2006-11-07T01:09:51\", '%Y-%d-%mT%H:%M:%S') #response_json['accept_datetime'] #process_results['date']\n",
    "        \n",
    "        # Some of these may need to be placed into other extensions (e.g., raster, proj, etc..)\n",
    "        grass_extensions = ['datatype', 'comments', 'creator', \n",
    "                          'ewres', 'nsres', 'cols', 'location', 'mapset', 'map', 'maptype', 'min', 'max', 'ncats', 'semantic_label', 'source1', 'source2']\n",
    "        \n",
    "        params['properties'] = {\n",
    "            \"title\": process_results['title'],\n",
    "            \"description\": process_results['description'],\n",
    "            \"proj:epsg\": 3358\n",
    "        }\n",
    "        \n",
    "        for ge in grass_extensions:\n",
    "            label = f\"grass:{ge}\"\n",
    "            params['properties'][label] = process_results[ge]\n",
    "            \n",
    "        params[\"stac_extensions\"]: [\n",
    "            \"https://stac-extensions.github.io/projection/v1.0.0/schema.json\",\n",
    "            # \"https://stac-extensions.github.io/eo/v1.0.0/schema.json\",\n",
    "            # \"https://stac-extensions.github.io/classification/v1.1.0/schema.json\",\n",
    "            # \"https://stac-extensions.github.io/raster/v1.1.0/schema.json\"\n",
    "        ]\n",
    "        i = pystac.Item(**params)\n",
    "        \n",
    "        ## Add GRASS Colors\n",
    "        extra_asset_fields={}\n",
    "        \n",
    "        i.add_asset(key=process_results['maptype'], asset=pystac.Asset(href=uri,\n",
    "                                                    title=process_results['title'],\n",
    "                                                    media_type=pystac.MediaType.COG,\n",
    "                                                    roles=['data'], extra_fields=extra_asset_fields))\n",
    "        \n",
    "        i.add_asset(key='thumbnail', asset=pystac.Asset(href=uri + 'render',\n",
    "                                                    title=process_results['title'] + \" \" + \"Thumbnail\",\n",
    "                                                    media_type=pystac.MediaType.PNG,\n",
    "                                                    roles=['thumbnail']))\n",
    "        \n",
    "        \n",
    "        collection.add_item(i)\n",
    "        \n",
    "    \n",
    "\n",
    "\n",
    "addGrassAssets(PERMANENT)"
   ]
  },
  {
   "cell_type": "code",
   "execution_count": 137,
   "id": "4b041724-9254-41a6-b8d9-a39d7929381f",
   "metadata": {},
   "outputs": [
    {
     "name": "stdout",
     "output_type": "stream",
     "text": [
      "* <Catalog id=grassdata>\n",
      "    * <Collection id=nc_spm_08>\n",
      "        * <Collection id=PERMANENT>\n",
      "          * <Item id=elevation>\n"
     ]
    },
    {
     "data": {
      "text/html": [
       "\n",
       "\n",
       "<div class=\"jp-RenderedHTMLCommon jp-RenderedHTML jp-mod-trusted jp-OutputArea-output\">\n",
       "    <div style=\"\n",
       "        width: 24px;\n",
       "        height: 24px;\n",
       "        background-color: #DBF5FF;\n",
       "        border: 3px solid #4CC9FF;\n",
       "        border-radius: 5px;\n",
       "        position: absolute;\">\n",
       "    </div>\n",
       "    <div>\n",
       "        <details style=\"margin-left: 48px;\">\n",
       "            <summary style=\"margin-bottom: 20px;\">\n",
       "                <h3 style=\"margin-bottom: 0px; display: inline;\">Item: elevation</h3>\n",
       "            </summary>\n",
       "            <table style=\"width: 100%; text-align: left;\">\n",
       "                <tr><td style=\"text-align: left;\"><strong>ID</strong>: elevation </td></tr>\n",
       "                \n",
       "                \n",
       "                    <tr><td style=\"text-align: left;\"><strong>Bounding Box:</strong> [630000, 215000, 645000, 228500] </td></tr>\n",
       "                \n",
       "                \n",
       "                    <tr><td style=\"text-align: left;\"><strong>Datetime:</strong> 2006-07-11 01:09:51 </td></tr>\n",
       "                \n",
       "                \n",
       "                    \n",
       "                        <tr><td style=\"text-align: left;\"><strong>title:</strong> \"South-West Wake county: Elevation NED 10m\" </td></tr>\n",
       "                    \n",
       "                        <tr><td style=\"text-align: left;\"><strong>description:</strong> \"generated by r.proj\" </td></tr>\n",
       "                    \n",
       "                        <tr><td style=\"text-align: left;\"><strong>proj:epsg:</strong> 3358 </td></tr>\n",
       "                    \n",
       "                        <tr><td style=\"text-align: left;\"><strong>grass:datatype:</strong> FCELL </td></tr>\n",
       "                    \n",
       "                        <tr><td style=\"text-align: left;\"><strong>grass:comments:</strong> \"r.proj input=\"ned03arcsec\" location=\"northcarolina_latlong\" mapset=\"\\helena\" output=\"elev_ned10m\" method=\"cubic\" resolution=10\" </td></tr>\n",
       "                    \n",
       "                        <tr><td style=\"text-align: left;\"><strong>grass:creator:</strong> \"helena\" </td></tr>\n",
       "                    \n",
       "                        <tr><td style=\"text-align: left;\"><strong>grass:ewres:</strong> 10 </td></tr>\n",
       "                    \n",
       "                        <tr><td style=\"text-align: left;\"><strong>grass:nsres:</strong> 10 </td></tr>\n",
       "                    \n",
       "                        <tr><td style=\"text-align: left;\"><strong>grass:cols:</strong> 1500 </td></tr>\n",
       "                    \n",
       "                        <tr><td style=\"text-align: left;\"><strong>grass:location:</strong> nc_spm_08 </td></tr>\n",
       "                    \n",
       "                        <tr><td style=\"text-align: left;\"><strong>grass:mapset:</strong> PERMANENT </td></tr>\n",
       "                    \n",
       "                        <tr><td style=\"text-align: left;\"><strong>grass:map:</strong> elevation </td></tr>\n",
       "                    \n",
       "                        <tr><td style=\"text-align: left;\"><strong>grass:maptype:</strong> raster </td></tr>\n",
       "                    \n",
       "                        <tr><td style=\"text-align: left;\"><strong>grass:min:</strong> 55.57879 </td></tr>\n",
       "                    \n",
       "                        <tr><td style=\"text-align: left;\"><strong>grass:max:</strong> 156.3299 </td></tr>\n",
       "                    \n",
       "                        <tr><td style=\"text-align: left;\"><strong>grass:ncats:</strong> 255 </td></tr>\n",
       "                    \n",
       "                        <tr><td style=\"text-align: left;\"><strong>grass:semantic_label:</strong> \"none\" </td></tr>\n",
       "                    \n",
       "                        <tr><td style=\"text-align: left;\"><strong>grass:source1:</strong> \"\" </td></tr>\n",
       "                    \n",
       "                        <tr><td style=\"text-align: left;\"><strong>grass:source2:</strong> \"\" </td></tr>\n",
       "                    \n",
       "                \n",
       "                \n",
       "            </table>\n",
       "            \n",
       "            \n",
       "        <details>\n",
       "            <summary style=\"margin-bottom: 10px; margin-top: 10px;\">\n",
       "                <h4 style=\"margin-bottom: 0px; display: inline;\">Assets</h4>\n",
       "            </summary>\n",
       "            \n",
       "                \n",
       "\n",
       "<div class=\"jp-RenderedHTMLCommon jp-RenderedHTML jp-mod-trusted jp-OutputArea-output\">\n",
       "    <div style=\"\n",
       "        width: 24px;\n",
       "        height: 24px;\n",
       "        background-color: #FED7E5;\n",
       "        border: 3px solid #FA4C8C;\n",
       "        border-radius: 5px;\n",
       "        position: absolute;\">\n",
       "    </div>\n",
       "    <div>\n",
       "        <details style=\"margin-left: 48px;\">\n",
       "            <summary style=\"margin-bottom: 20px;\">\n",
       "                <h3 style=\"margin-bottom: 0px; display: inline;\">Asset: \"South-West Wake county: Elevation NED 10m\"</h3>\n",
       "            </summary>\n",
       "            <table style=\"width: 100%; text-align: left;\">\n",
       "                <tr><td style=\"text-align: left;\"><strong>href</strong>: /api/v3/locations/nc_spm_08/mapsets/PERMANENT/raster_layers/elevation </td></tr>\n",
       "                \n",
       "                    <tr><td style=\"text-align: left;\"><strong>Title:</strong> \"South-West Wake county: Elevation NED 10m\" </td></tr>\n",
       "                \n",
       "                \n",
       "                \n",
       "                    <tr><td style=\"text-align: left;\"><strong>Media type:</strong> image/tiff; application=geotiff; profile=cloud-optimized </td></tr>\n",
       "                \n",
       "                \n",
       "                    <tr><td style=\"text-align: left;\"><strong>Roles:</strong> ['data'] </td></tr>\n",
       "                \n",
       "                \n",
       "                    <tr><td style=\"text-align: left;\"><strong>Owner:</strong>  </td></tr>\n",
       "                \n",
       "                \n",
       "            </table>\n",
       "        </details>\n",
       "    </div>\n",
       "</div>\n",
       "            \n",
       "                \n",
       "\n",
       "<div class=\"jp-RenderedHTMLCommon jp-RenderedHTML jp-mod-trusted jp-OutputArea-output\">\n",
       "    <div style=\"\n",
       "        width: 24px;\n",
       "        height: 24px;\n",
       "        background-color: #FED7E5;\n",
       "        border: 3px solid #FA4C8C;\n",
       "        border-radius: 5px;\n",
       "        position: absolute;\">\n",
       "    </div>\n",
       "    <div>\n",
       "        <details style=\"margin-left: 48px;\">\n",
       "            <summary style=\"margin-bottom: 20px;\">\n",
       "                <h3 style=\"margin-bottom: 0px; display: inline;\">Asset: \"South-West Wake county: Elevation NED 10m\" Thumbnail</h3>\n",
       "            </summary>\n",
       "            <table style=\"width: 100%; text-align: left;\">\n",
       "                <tr><td style=\"text-align: left;\"><strong>href</strong>: /api/v3/locations/nc_spm_08/mapsets/PERMANENT/raster_layers/elevationrender </td></tr>\n",
       "                \n",
       "                    <tr><td style=\"text-align: left;\"><strong>Title:</strong> \"South-West Wake county: Elevation NED 10m\" Thumbnail </td></tr>\n",
       "                \n",
       "                \n",
       "                \n",
       "                    <tr><td style=\"text-align: left;\"><strong>Media type:</strong> image/png </td></tr>\n",
       "                \n",
       "                \n",
       "                    <tr><td style=\"text-align: left;\"><strong>Roles:</strong> ['thumbnail'] </td></tr>\n",
       "                \n",
       "                \n",
       "                    <tr><td style=\"text-align: left;\"><strong>Owner:</strong>  </td></tr>\n",
       "                \n",
       "                \n",
       "            </table>\n",
       "        </details>\n",
       "    </div>\n",
       "</div>\n",
       "            \n",
       "        </details>\n",
       "    \n",
       "            \n",
       "        <details>\n",
       "            <summary style=\"margin-bottom: 10px; margin-top: 10px\">\n",
       "                <h4 style=\"margin-bottom: 0px; display: inline;\">Links</h4>\n",
       "            </summary>\n",
       "            \n",
       "                \n",
       "\n",
       "<div class=\"jp-RenderedHTMLCommon jp-RenderedHTML jp-mod-trusted jp-OutputArea-output\">\n",
       "    <div style=\"\n",
       "        width: 24px;\n",
       "        height: 24px;\n",
       "        background-color: #FFF7E5;\n",
       "        border: 3px solid #FF6132;\n",
       "        border-radius: 5px;\n",
       "        position: absolute;\">\n",
       "    </div>\n",
       "    <div style=\"margin-left: 48px;\">\n",
       "        <h4 style=\"margin-bottom: 0px;\">Link: </h4>\n",
       "        \n",
       "        <table style=\"width: 100%; text-align: left;\">\n",
       "            <tr><td style=\"text-align: left;\"><strong>Rel:</strong> root </td></tr>\n",
       "            <tr><td style=\"text-align: left;\"><strong>Target:</strong> <Catalog id=grassdata> </td></tr>\n",
       "            \n",
       "                <tr><td style=\"text-align: left;\"><strong>Media Type:</strong> application/json </td></tr>\n",
       "            \n",
       "            \n",
       "        </table>\n",
       "        \n",
       "    </div>\n",
       "</div>\n",
       "            \n",
       "                \n",
       "\n",
       "<div class=\"jp-RenderedHTMLCommon jp-RenderedHTML jp-mod-trusted jp-OutputArea-output\">\n",
       "    <div style=\"\n",
       "        width: 24px;\n",
       "        height: 24px;\n",
       "        background-color: #FFF7E5;\n",
       "        border: 3px solid #FF6132;\n",
       "        border-radius: 5px;\n",
       "        position: absolute;\">\n",
       "    </div>\n",
       "    <div style=\"margin-left: 48px;\">\n",
       "        <h4 style=\"margin-bottom: 0px;\">Link: </h4>\n",
       "        \n",
       "            <p style=\"color: #9D9D9D; margin-bottom: 0px;\">PERMANENT</p>\n",
       "        \n",
       "        <table style=\"width: 100%; text-align: left;\">\n",
       "            <tr><td style=\"text-align: left;\"><strong>Rel:</strong> collection </td></tr>\n",
       "            <tr><td style=\"text-align: left;\"><strong>Target:</strong> <Collection id=PERMANENT> </td></tr>\n",
       "            \n",
       "                <tr><td style=\"text-align: left;\"><strong>Media Type:</strong> application/json </td></tr>\n",
       "            \n",
       "            \n",
       "        </table>\n",
       "        \n",
       "    </div>\n",
       "</div>\n",
       "            \n",
       "                \n",
       "\n",
       "<div class=\"jp-RenderedHTMLCommon jp-RenderedHTML jp-mod-trusted jp-OutputArea-output\">\n",
       "    <div style=\"\n",
       "        width: 24px;\n",
       "        height: 24px;\n",
       "        background-color: #FFF7E5;\n",
       "        border: 3px solid #FF6132;\n",
       "        border-radius: 5px;\n",
       "        position: absolute;\">\n",
       "    </div>\n",
       "    <div style=\"margin-left: 48px;\">\n",
       "        <h4 style=\"margin-bottom: 0px;\">Link: </h4>\n",
       "        \n",
       "            <p style=\"color: #9D9D9D; margin-bottom: 0px;\">PERMANENT</p>\n",
       "        \n",
       "        <table style=\"width: 100%; text-align: left;\">\n",
       "            <tr><td style=\"text-align: left;\"><strong>Rel:</strong> parent </td></tr>\n",
       "            <tr><td style=\"text-align: left;\"><strong>Target:</strong> <Collection id=PERMANENT> </td></tr>\n",
       "            \n",
       "                <tr><td style=\"text-align: left;\"><strong>Media Type:</strong> application/json </td></tr>\n",
       "            \n",
       "            \n",
       "        </table>\n",
       "        \n",
       "    </div>\n",
       "</div>\n",
       "            \n",
       "        </details>\n",
       "    \n",
       "        </details>\n",
       "    </div>\n",
       "</div>"
      ],
      "text/plain": [
       "<Item id=elevation>"
      ]
     },
     "execution_count": 137,
     "metadata": {},
     "output_type": "execute_result"
    }
   ],
   "source": [
    "grassdata_catalog.describe()\n",
    "PERMANENT.get_item(\"elevation\")"
   ]
  },
  {
   "cell_type": "code",
   "execution_count": 140,
   "id": "093f92fa-ae27-4035-8abb-3d4fdfec0165",
   "metadata": {},
   "outputs": [],
   "source": [
    "grassdata_catalog.normalize_hrefs('https://github.com/tomorrownow/TomorrowNowApp/blob/main/notebooks/grass_catalog/')"
   ]
  },
  {
   "cell_type": "code",
   "execution_count": 141,
   "id": "e9fe4aed-0eb0-4add-b093-84062bf8143e",
   "metadata": {},
   "outputs": [],
   "source": [
    "grassdata_catalog.save(\"./grass_catalog\")"
   ]
  },
  {
   "cell_type": "code",
   "execution_count": null,
   "id": "0e14b27d-555b-4802-8008-8918bd8c4fb3",
   "metadata": {},
   "outputs": [],
   "source": []
  }
 ],
 "metadata": {
  "kernelspec": {
   "display_name": "Python 3 (ipykernel)",
   "language": "python",
   "name": "python3"
  },
  "language_info": {
   "codemirror_mode": {
    "name": "ipython",
    "version": 3
   },
   "file_extension": ".py",
   "mimetype": "text/x-python",
   "name": "python",
   "nbconvert_exporter": "python",
   "pygments_lexer": "ipython3",
   "version": "3.10.6"
  }
 },
 "nbformat": 4,
 "nbformat_minor": 5
}
