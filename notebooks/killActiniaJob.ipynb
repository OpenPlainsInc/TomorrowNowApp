{
 "cells": [
  {
   "cell_type": "markdown",
   "id": "eeef890c-5e91-4df0-879f-6dfb294c76e0",
   "metadata": {},
   "source": [
    "# Kill Actinia Job"
   ]
  },
  {
   "cell_type": "code",
   "execution_count": 1,
   "id": "82f4e210-aed7-4c2c-8a4e-b97bbc3bbe30",
   "metadata": {},
   "outputs": [
    {
     "name": "stdout",
     "output_type": "stream",
     "text": [
      "/home/coreywhite/.local/grass83\n"
     ]
    },
    {
     "data": {
      "text/plain": [
       "<grass.jupyter.setup._JupyterGlobalSession at 0x7f6af499e950>"
      ]
     },
     "execution_count": 1,
     "metadata": {},
     "output_type": "execute_result"
    }
   ],
   "source": [
    "# Import Python standard library and IPython packages we need.\n",
    "import os\n",
    "import subprocess\n",
    "import sys\n",
    "import csv\n",
    "import numpy as np\n",
    "import matplotlib.pyplot as plt\n",
    "from collections import defaultdict\n",
    "from pprint import pprint\n",
    "import json\n",
    "import time\n",
    "import requests\n",
    "from requests.auth import HTTPBasicAuth\n",
    "\n",
    "# Ask GRASS GIS where its Python packages are.\n",
    "gisbase = subprocess.check_output([\"grass\", \"--config\", \"path\"], text=True).strip()\n",
    "os.environ[\"GISBASE\"] = gisbase\n",
    "os.environ[\"ACTINIA_USER\"] = 'actinia-gdi'\n",
    "os.environ[\"ACTINIA_PASSWORD\"] = 'actinia-gdi'\n",
    "os.environ[\"AUTH\"] = 'actinia-gdi:actinia-gdi'\n",
    "os.environ[\"ACTINIA_URL\"] = 'http://localhost:8088'\n",
    "print(gisbase)\n",
    "ACTINIA_VERSION = 'v3'\n",
    "ACTINIA_BASEURL = 'http://localhost:8088'\n",
    "ACTINIA_URL = ACTINIA_BASEURL + \"/api/\" + ACTINIA_VERSION\n",
    "ACTINIA_AUTH = HTTPBasicAuth(\"actinia-gdi\", \"actinia-gdi\")\n",
    "# Ask GRASS GIS where its Python packages are.\n",
    "sys.path.append(\n",
    "    subprocess.check_output([\"grass\", \"--config\", \"python_path\"], text=True).strip()\n",
    ")\n",
    "\n",
    "# Import the GRASS GIS packages we need.\n",
    "import grass.script as gs\n",
    "import grass.jupyter as gj\n",
    "\n",
    "# Start GRASS Session\n",
    "## Set your grass data location\n",
    "gj.init(\"../actinia-core-data/grassdb\", \"nc_spm_08\", \"PERMANENT\")"
   ]
  },
  {
   "cell_type": "code",
   "execution_count": null,
   "id": "e64d0452-284f-4ef2-bd4c-35583f6a34e4",
   "metadata": {},
   "outputs": [],
   "source": [
    "RESPONSE_ID = \"http://localhost:8088/api/v3/resources/actinia-gdi/resource_id-cde4c477-2e36-4301-8a34-c75b9a508e72\"\n",
    "!curl -u 'actinia-gdi:actinia-gdi' -X GET $RESPONSE_ID | jq"
   ]
  },
  {
   "cell_type": "code",
   "execution_count": 22,
   "id": "a481ab85-029f-46be-9361-365b8c5b6a5a",
   "metadata": {},
   "outputs": [],
   "source": [
    "%%bash --out output --err error\n",
    "ace list_jobs=running"
   ]
  },
  {
   "cell_type": "code",
   "execution_count": 23,
   "id": "757cecb9-546b-4cc7-b6c4-1cd5059318e2",
   "metadata": {},
   "outputs": [
    {
     "name": "stdout",
     "output_type": "stream",
     "text": [
      "resource_id-f49e9a86-8722-457d-83c8-010aa5ae2f78 running 2022-09-22 18:27:14.686025\n",
      "\n",
      "resource_id-f49e9a86-8722-457d-83c8-010aa5ae2f78\n"
     ]
    }
   ],
   "source": [
    "print(output)\n",
    "resource_id = output.split(\" \")[0]\n",
    "print(resource_id)\n"
   ]
  },
  {
   "cell_type": "code",
   "execution_count": 24,
   "id": "293ee7e3-162b-4da6-b514-84a47e363dce",
   "metadata": {},
   "outputs": [
    {
     "name": "stdout",
     "output_type": "stream",
     "text": [
      "{'message': 'Termination request committed', 'status': 'accepted'}\n"
     ]
    }
   ],
   "source": [
    "!ace kill_job=$resource_id"
   ]
  },
  {
   "cell_type": "code",
   "execution_count": 25,
   "id": "f0ec798c-3645-4fe4-9c0c-965643263ebe",
   "metadata": {},
   "outputs": [
    {
     "name": "stdout",
     "output_type": "stream",
     "text": [
      "resource_id-f49e9a86-8722-457d-83c8-010aa5ae2f78 running 2022-09-22 18:27:14.686025\n"
     ]
    }
   ],
   "source": [
    "!ace list_jobs=running"
   ]
  },
  {
   "cell_type": "code",
   "execution_count": 26,
   "id": "9e508aeb-8a1d-4e1f-9fc4-b9560f4fc95c",
   "metadata": {},
   "outputs": [
    {
     "name": "stdout",
     "output_type": "stream",
     "text": [
      "{'accept_datetime': '2022-09-22 18:23:17.464161',\n",
      " 'accept_timestamp': 1663870997.4641569,\n",
      " 'api_info': {'endpoint': 'asyncpersistentresource',\n",
      "              'method': 'POST',\n",
      "              'path': '/api/v3/locations/CONUS/mapsets/hydro/processing_async',\n",
      "              'request_url': 'http://actinia-core:8088/api/v3/locations/CONUS/mapsets/hydro/processing_async'},\n",
      " 'datetime': '2022-09-22 18:27:14.686025',\n",
      " 'http_code': 200,\n",
      " 'message': 'Running executable r.import with parameters '\n",
      "            \"['input=/vsicurl/https://prd-tnm.s3.amazonaws.com/ ... 00', \"\n",
      "            \"'extent=region', 'output=usgs_3dep_30m', '-'] for 236.365 seconds\",\n",
      " 'process_chain_list': [],\n",
      " 'progress': {'num_of_steps': 29, 'step': 2},\n",
      " 'resource_id': 'resource_id-f49e9a86-8722-457d-83c8-010aa5ae2f78',\n",
      " 'status': 'running',\n",
      " 'time_delta': 237.22191834449768,\n",
      " 'timestamp': 1663871234.6860204,\n",
      " 'urls': {'resources': [],\n",
      "          'status': 'http://actinia-core:8088/api/v3/resources/actinia-gdi/resource_id-f49e9a86-8722-457d-83c8-010aa5ae2f78'},\n",
      " 'user_id': 'actinia-gdi'}\n"
     ]
    }
   ],
   "source": [
    "!ace info_job=$resource_id"
   ]
  },
  {
   "cell_type": "code",
   "execution_count": 27,
   "id": "d6998b47-9c7a-4025-998c-369f06387773",
   "metadata": {},
   "outputs": [
    {
     "name": "stdout",
     "output_type": "stream",
     "text": [
      "Allows the execution of single GRASS GIS command or a list of GRASS GIS commands on an actinia REST service.\n",
      "\n",
      "Usage:\n",
      " ace [-adlmrvs] [grass_command=string] [script=string] [location=value]\n",
      "   [mapset=value] [list_jobs=value] [info_job=value] [kill_job=value]\n",
      "   [create_location=value] [delete_location=value] [create_mapset=value]\n",
      "   [delete_mapset=value] [render_raster=value] [render_vector=value]\n",
      "   [render_strds=value] [--help] [--verbose] [--quiet] [--ui]\n",
      "\n",
      "Flags:\n",
      "  -a   Request the version of the actinia server\n",
      "  -d   Dry run: just print the JSON request and do not send the generated request to the server\n",
      "  -l   List locations the user has access to\n",
      "  -m   List mapsets within specified location\n",
      "  -r   List raster maps of mapsets of specified location\n",
      "  -v   List vector maps of mapsets of specified location\n",
      "  -s   List STRDS of mapsets of specified location\n",
      "\n",
      "Parameters:\n",
      "    grass_command   GRASS GIS command to be executed\n",
      "           script   Script file from which all all commands will be executed on the actinia server\n",
      "         location   Use this location name for processing on the actinia server\n",
      "           mapset   Use this persistent mapset name for processing on the actinia server\n",
      "        list_jobs   List all jobs of the user\n",
      "                    options: all,accepted,running,terminated,finished,error\n",
      "         info_job   Show information about a job (use job-ID)\n",
      "         kill_job   Kill a job (use job-ID)\n",
      "  create_location   Create new location in the persistent database of the actinia server using the provided EPSG code, e.g.: create_location=\"latlon 4326\"\n",
      "  delete_location   Delete existing location from the actinia server\n",
      "    create_mapset   Create a new mapset in the persistent database of the actinia server using the specified location\n",
      "    delete_mapset   Delete an existing mapset from the actinia server using the specified location\n",
      "    render_raster   Show a rendered image from a specific raster map\n",
      "    render_vector   Show a rendered image from a specific vector map\n",
      "     render_strds   Show a rendered image from a specific STRDS\n"
     ]
    }
   ],
   "source": [
    "!ace --help"
   ]
  },
  {
   "cell_type": "markdown",
   "id": "e7e39a3a-1945-45ae-925d-cd8c3f3895ea",
   "metadata": {},
   "source": [
    "## Check for Locks"
   ]
  },
  {
   "cell_type": "code",
   "execution_count": 29,
   "id": "169edefd-9000-4d72-ab37-f21ed03d674d",
   "metadata": {},
   "outputs": [
    {
     "name": "stdout",
     "output_type": "stream",
     "text": [
      "  % Total    % Received % Xferd  Average Speed   Time    Time     Time  Current\n",
      "                                 Dload  Upload   Total   Spent    Left  Speed\n",
      "100   793  100   793    0     0   1533      0 --:--:-- --:--:-- --:--:--  1533\n",
      "\u001b[1;39m{\n",
      "  \u001b[0m\u001b[34;1m\"accept_datetime\"\u001b[0m\u001b[1;39m: \u001b[0m\u001b[0;32m\"2022-09-22 19:38:32.081615\"\u001b[0m\u001b[1;39m,\n",
      "  \u001b[0m\u001b[34;1m\"accept_timestamp\"\u001b[0m\u001b[1;39m: \u001b[0m\u001b[0;39m1663875512.0816078\u001b[0m\u001b[1;39m,\n",
      "  \u001b[0m\u001b[34;1m\"api_info\"\u001b[0m\u001b[1;39m: \u001b[0m\u001b[1;39m{\n",
      "    \u001b[0m\u001b[34;1m\"endpoint\"\u001b[0m\u001b[1;39m: \u001b[0m\u001b[0;32m\"mapsetlockmanagementresource\"\u001b[0m\u001b[1;39m,\n",
      "    \u001b[0m\u001b[34;1m\"method\"\u001b[0m\u001b[1;39m: \u001b[0m\u001b[0;32m\"GET\"\u001b[0m\u001b[1;39m,\n",
      "    \u001b[0m\u001b[34;1m\"path\"\u001b[0m\u001b[1;39m: \u001b[0m\u001b[0;32m\"/api/v3/locations/CONUS/mapsets/hydro/lock\"\u001b[0m\u001b[1;39m,\n",
      "    \u001b[0m\u001b[34;1m\"request_url\"\u001b[0m\u001b[1;39m: \u001b[0m\u001b[0;32m\"http://localhost:8088/api/v3/locations/CONUS/mapsets/hydro/lock\"\u001b[0m\u001b[1;39m\n",
      "  \u001b[1;39m}\u001b[0m\u001b[1;39m,\n",
      "  \u001b[0m\u001b[34;1m\"datetime\"\u001b[0m\u001b[1;39m: \u001b[0m\u001b[0;32m\"2022-09-22 19:38:32.101444\"\u001b[0m\u001b[1;39m,\n",
      "  \u001b[0m\u001b[34;1m\"http_code\"\u001b[0m\u001b[1;39m: \u001b[0m\u001b[0;39m200\u001b[0m\u001b[1;39m,\n",
      "  \u001b[0m\u001b[34;1m\"message\"\u001b[0m\u001b[1;39m: \u001b[0m\u001b[0;32m\"Mapset lock state: True\"\u001b[0m\u001b[1;39m,\n",
      "  \u001b[0m\u001b[34;1m\"process_chain_list\"\u001b[0m\u001b[1;39m: \u001b[0m\u001b[1;39m[]\u001b[0m\u001b[1;39m,\n",
      "  \u001b[0m\u001b[34;1m\"process_log\"\u001b[0m\u001b[1;39m: \u001b[0m\u001b[1;39m[]\u001b[0m\u001b[1;39m,\n",
      "  \u001b[0m\u001b[34;1m\"process_results\"\u001b[0m\u001b[1;39m: \u001b[0m\u001b[0;39mtrue\u001b[0m\u001b[1;39m,\n",
      "  \u001b[0m\u001b[34;1m\"progress\"\u001b[0m\u001b[1;39m: \u001b[0m\u001b[1;39m{\n",
      "    \u001b[0m\u001b[34;1m\"num_of_steps\"\u001b[0m\u001b[1;39m: \u001b[0m\u001b[0;39m0\u001b[0m\u001b[1;39m,\n",
      "    \u001b[0m\u001b[34;1m\"step\"\u001b[0m\u001b[1;39m: \u001b[0m\u001b[0;39m0\u001b[0m\u001b[1;39m\n",
      "  \u001b[1;39m}\u001b[0m\u001b[1;39m,\n",
      "  \u001b[0m\u001b[34;1m\"resource_id\"\u001b[0m\u001b[1;39m: \u001b[0m\u001b[0;32m\"resource_id-e9596b9b-e3c0-45df-a9c2-ffd7ec908264\"\u001b[0m\u001b[1;39m,\n",
      "  \u001b[0m\u001b[34;1m\"status\"\u001b[0m\u001b[1;39m: \u001b[0m\u001b[0;32m\"finished\"\u001b[0m\u001b[1;39m,\n",
      "  \u001b[0m\u001b[34;1m\"time_delta\"\u001b[0m\u001b[1;39m: \u001b[0m\u001b[0;39m0.019861221313476562\u001b[0m\u001b[1;39m,\n",
      "  \u001b[0m\u001b[34;1m\"timestamp\"\u001b[0m\u001b[1;39m: \u001b[0m\u001b[0;39m1663875512.1014154\u001b[0m\u001b[1;39m,\n",
      "  \u001b[0m\u001b[34;1m\"urls\"\u001b[0m\u001b[1;39m: \u001b[0m\u001b[1;39m{\n",
      "    \u001b[0m\u001b[34;1m\"resources\"\u001b[0m\u001b[1;39m: \u001b[0m\u001b[1;39m[]\u001b[0m\u001b[1;39m,\n",
      "    \u001b[0m\u001b[34;1m\"status\"\u001b[0m\u001b[1;39m: \u001b[0m\u001b[0;32m\"http://localhost:8088/api/v3/resources/actinia-gdi/resource_id-e9596b9b-e3c0-45df-a9c2-ffd7ec908264\"\u001b[0m\u001b[1;39m\n",
      "  \u001b[1;39m}\u001b[0m\u001b[1;39m,\n",
      "  \u001b[0m\u001b[34;1m\"user_id\"\u001b[0m\u001b[1;39m: \u001b[0m\u001b[0;32m\"actinia-gdi\"\u001b[0m\u001b[1;39m\n",
      "\u001b[1;39m}\u001b[0m\n"
     ]
    }
   ],
   "source": [
    "location_name = \"CONUS\"\n",
    "mapset_name = \"hydro\"\n",
    "request_url = f\"http://localhost:8088/api/v3/locations/{location_name}/mapsets/{mapset_name}/lock\"\n",
    "!curl -u 'actinia-gdi:actinia-gdi' -X GET $request_url | jq\n",
    "\n"
   ]
  },
  {
   "cell_type": "markdown",
   "id": "ad54b95e-6d0e-41de-9de5-39bc95f85280",
   "metadata": {},
   "source": [
    "## Delete Lcck"
   ]
  },
  {
   "cell_type": "code",
   "execution_count": 30,
   "id": "302f53e3-2bc0-4749-8f0d-49889e6ccb22",
   "metadata": {},
   "outputs": [
    {
     "name": "stdout",
     "output_type": "stream",
     "text": [
      "  % Total    % Received % Xferd  Average Speed   Time    Time     Time  Current\n",
      "                                 Dload  Upload   Total   Spent    Left  Speed\n",
      "100   805  100   805    0     0   1545      0 --:--:-- --:--:-- --:--:--  1548\n",
      "\u001b[1;39m{\n",
      "  \u001b[0m\u001b[34;1m\"accept_datetime\"\u001b[0m\u001b[1;39m: \u001b[0m\u001b[0;32m\"2022-09-22 19:39:32.850574\"\u001b[0m\u001b[1;39m,\n",
      "  \u001b[0m\u001b[34;1m\"accept_timestamp\"\u001b[0m\u001b[1;39m: \u001b[0m\u001b[0;39m1663875572.8505678\u001b[0m\u001b[1;39m,\n",
      "  \u001b[0m\u001b[34;1m\"api_info\"\u001b[0m\u001b[1;39m: \u001b[0m\u001b[1;39m{\n",
      "    \u001b[0m\u001b[34;1m\"endpoint\"\u001b[0m\u001b[1;39m: \u001b[0m\u001b[0;32m\"mapsetlockmanagementresource\"\u001b[0m\u001b[1;39m,\n",
      "    \u001b[0m\u001b[34;1m\"method\"\u001b[0m\u001b[1;39m: \u001b[0m\u001b[0;32m\"DELETE\"\u001b[0m\u001b[1;39m,\n",
      "    \u001b[0m\u001b[34;1m\"path\"\u001b[0m\u001b[1;39m: \u001b[0m\u001b[0;32m\"/api/v3/locations/CONUS/mapsets/hydro/lock\"\u001b[0m\u001b[1;39m,\n",
      "    \u001b[0m\u001b[34;1m\"request_url\"\u001b[0m\u001b[1;39m: \u001b[0m\u001b[0;32m\"http://localhost:8088/api/v3/locations/CONUS/mapsets/hydro/lock\"\u001b[0m\u001b[1;39m\n",
      "  \u001b[1;39m}\u001b[0m\u001b[1;39m,\n",
      "  \u001b[0m\u001b[34;1m\"datetime\"\u001b[0m\u001b[1;39m: \u001b[0m\u001b[0;32m\"2022-09-22 19:39:32.868444\"\u001b[0m\u001b[1;39m,\n",
      "  \u001b[0m\u001b[34;1m\"http_code\"\u001b[0m\u001b[1;39m: \u001b[0m\u001b[0;39m200\u001b[0m\u001b[1;39m,\n",
      "  \u001b[0m\u001b[34;1m\"message\"\u001b[0m\u001b[1;39m: \u001b[0m\u001b[0;32m\"Mapset <hydro> successfully unlocked\"\u001b[0m\u001b[1;39m,\n",
      "  \u001b[0m\u001b[34;1m\"process_chain_list\"\u001b[0m\u001b[1;39m: \u001b[0m\u001b[1;39m[]\u001b[0m\u001b[1;39m,\n",
      "  \u001b[0m\u001b[34;1m\"process_log\"\u001b[0m\u001b[1;39m: \u001b[0m\u001b[1;39m[]\u001b[0m\u001b[1;39m,\n",
      "  \u001b[0m\u001b[34;1m\"process_results\"\u001b[0m\u001b[1;39m: \u001b[0m\u001b[1;39m{}\u001b[0m\u001b[1;39m,\n",
      "  \u001b[0m\u001b[34;1m\"progress\"\u001b[0m\u001b[1;39m: \u001b[0m\u001b[1;39m{\n",
      "    \u001b[0m\u001b[34;1m\"num_of_steps\"\u001b[0m\u001b[1;39m: \u001b[0m\u001b[0;39m0\u001b[0m\u001b[1;39m,\n",
      "    \u001b[0m\u001b[34;1m\"step\"\u001b[0m\u001b[1;39m: \u001b[0m\u001b[0;39m0\u001b[0m\u001b[1;39m\n",
      "  \u001b[1;39m}\u001b[0m\u001b[1;39m,\n",
      "  \u001b[0m\u001b[34;1m\"resource_id\"\u001b[0m\u001b[1;39m: \u001b[0m\u001b[0;32m\"resource_id-05e220dd-fbd2-4ee3-9920-d220b7632f78\"\u001b[0m\u001b[1;39m,\n",
      "  \u001b[0m\u001b[34;1m\"status\"\u001b[0m\u001b[1;39m: \u001b[0m\u001b[0;32m\"finished\"\u001b[0m\u001b[1;39m,\n",
      "  \u001b[0m\u001b[34;1m\"time_delta\"\u001b[0m\u001b[1;39m: \u001b[0m\u001b[0;39m0.0179135799407959\u001b[0m\u001b[1;39m,\n",
      "  \u001b[0m\u001b[34;1m\"timestamp\"\u001b[0m\u001b[1;39m: \u001b[0m\u001b[0;39m1663875572.8684006\u001b[0m\u001b[1;39m,\n",
      "  \u001b[0m\u001b[34;1m\"urls\"\u001b[0m\u001b[1;39m: \u001b[0m\u001b[1;39m{\n",
      "    \u001b[0m\u001b[34;1m\"resources\"\u001b[0m\u001b[1;39m: \u001b[0m\u001b[1;39m[]\u001b[0m\u001b[1;39m,\n",
      "    \u001b[0m\u001b[34;1m\"status\"\u001b[0m\u001b[1;39m: \u001b[0m\u001b[0;32m\"http://localhost:8088/api/v3/resources/actinia-gdi/resource_id-05e220dd-fbd2-4ee3-9920-d220b7632f78\"\u001b[0m\u001b[1;39m\n",
      "  \u001b[1;39m}\u001b[0m\u001b[1;39m,\n",
      "  \u001b[0m\u001b[34;1m\"user_id\"\u001b[0m\u001b[1;39m: \u001b[0m\u001b[0;32m\"actinia-gdi\"\u001b[0m\u001b[1;39m\n",
      "\u001b[1;39m}\u001b[0m\n"
     ]
    }
   ],
   "source": [
    "!curl -u 'actinia-gdi:actinia-gdi' -X DELETE $request_url | jq"
   ]
  },
  {
   "cell_type": "code",
   "execution_count": null,
   "id": "0d131f3e-3669-4a0e-9f2d-bc7ce941dfff",
   "metadata": {},
   "outputs": [],
   "source": []
  }
 ],
 "metadata": {
  "kernelspec": {
   "display_name": "Python 3 (ipykernel)",
   "language": "python",
   "name": "python3"
  },
  "language_info": {
   "codemirror_mode": {
    "name": "ipython",
    "version": 3
   },
   "file_extension": ".py",
   "mimetype": "text/x-python",
   "name": "python",
   "nbconvert_exporter": "python",
   "pygments_lexer": "ipython3",
   "version": "3.10.6"
  }
 },
 "nbformat": 4,
 "nbformat_minor": 5
}
